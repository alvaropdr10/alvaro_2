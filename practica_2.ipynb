{
 "cells": [
  {
   "attachments": {},
   "cell_type": "markdown",
   "metadata": {},
   "source": [
    "Gorka Sánchez de Pedro Barrios y Álvaro Pérez de Rojas\n",
    " # Práctica 2 de Machine Learning, Modelos Supervisados: Predicción de duración de viajes y detección de emergencias en tweets\n",
    " \n",
    "\n",
    "#### Índice\n",
    "<ol>\n",
    "    Parte 1:\n",
    "    <li><a href=\"#p_1_1\" >Pregunta 1</a></li>\n",
    "    <li><a href=\"#p_1_2\">Pregunta 2</a></li>\n",
    "    <li><a href=\"#p_1_3\">Pregunta 3</a></li>\n",
    "    <li><a href=\"#p_1_4\">Pregunta 4</a></li>\n",
    "    <li><a href=\"#p_1_5\">Pregunta 5</a></li>\n",
    "    Parte 2:\n",
    "    <li><a href=\"#p_2_1\">Pregunta 1</a></li>\n",
    "    <li><a href=\"#p_2_2\">Pregunta 2</a></li>\n",
    " \n",
    " </ol>\n",
    "\n",
    "***"
   ]
  },
  {
   "cell_type": "code",
   "execution_count": 1,
   "metadata": {},
   "outputs": [],
   "source": [
    "import pandas as pd\n",
    "import matplotlib.pyplot as plt\n",
    "import seaborn as sns\n",
    "from sklearn.preprocessing import PowerTransformer"
   ]
  },
  {
   "attachments": {},
   "cell_type": "markdown",
   "metadata": {},
   "source": [
    "## Parte 1: Predicción de duración de viajes\n",
    "\n",
    "Este primer conjunto de datos (uber_time_examples.csv, uber_time_labels.csv) proviene de un servicio de transporte tipo Uber. Consiste en alrededor de 400000 viajes realizados por los usuarios. La tarea es predecir la duración (en segundos) del viaje. \n",
    "\n",
    "IMPORTANTE: El conjunto de datos puede ser demasiado grande para ser procesado, en tiempos razonables, en un ordenador personal o portatil. Es por eso, que se puede trabajar, si se considera, con un subconjunto de estos datos de por ejemplo 20. 000 elementos"
   ]
  },
  {
   "cell_type": "code",
   "execution_count": 2,
   "metadata": {},
   "outputs": [
    {
     "data": {
      "text/html": [
       "<div>\n",
       "<style scoped>\n",
       "    .dataframe tbody tr th:only-of-type {\n",
       "        vertical-align: middle;\n",
       "    }\n",
       "\n",
       "    .dataframe tbody tr th {\n",
       "        vertical-align: top;\n",
       "    }\n",
       "\n",
       "    .dataframe thead th {\n",
       "        text-align: right;\n",
       "    }\n",
       "</style>\n",
       "<table border=\"1\" class=\"dataframe\">\n",
       "  <thead>\n",
       "    <tr style=\"text-align: right;\">\n",
       "      <th></th>\n",
       "      <th>id</th>\n",
       "      <th>feature_0</th>\n",
       "      <th>feature_1</th>\n",
       "      <th>feature_2</th>\n",
       "      <th>feature_3</th>\n",
       "      <th>feature_4</th>\n",
       "      <th>feature_5</th>\n",
       "      <th>feature_6</th>\n",
       "      <th>feature_7</th>\n",
       "      <th>feature_8</th>\n",
       "      <th>feature_9</th>\n",
       "      <th>feature_10</th>\n",
       "    </tr>\n",
       "  </thead>\n",
       "  <tbody>\n",
       "    <tr>\n",
       "      <th>0</th>\n",
       "      <td>0</td>\n",
       "      <td>01-07 17:04:08</td>\n",
       "      <td>2</td>\n",
       "      <td>1.20</td>\n",
       "      <td>263</td>\n",
       "      <td>141</td>\n",
       "      <td>12.513054</td>\n",
       "      <td>297.430685</td>\n",
       "      <td>56.317405</td>\n",
       "      <td>405.20</td>\n",
       "      <td>0.408689</td>\n",
       "      <td>126.689773</td>\n",
       "    </tr>\n",
       "    <tr>\n",
       "      <th>1</th>\n",
       "      <td>1</td>\n",
       "      <td>03-02 17:41:40</td>\n",
       "      <td>1</td>\n",
       "      <td>0.88</td>\n",
       "      <td>246</td>\n",
       "      <td>68</td>\n",
       "      <td>6.256527</td>\n",
       "      <td>278.205127</td>\n",
       "      <td>27.160167</td>\n",
       "      <td>314.88</td>\n",
       "      <td>-0.256911</td>\n",
       "      <td>126.693467</td>\n",
       "    </tr>\n",
       "    <tr>\n",
       "      <th>2</th>\n",
       "      <td>2</td>\n",
       "      <td>02-17 12:15:00</td>\n",
       "      <td>3</td>\n",
       "      <td>7.61</td>\n",
       "      <td>24</td>\n",
       "      <td>13</td>\n",
       "      <td>18.769581</td>\n",
       "      <td>27.141964</td>\n",
       "      <td>5.192385</td>\n",
       "      <td>44.61</td>\n",
       "      <td>56.880789</td>\n",
       "      <td>126.615789</td>\n",
       "    </tr>\n",
       "    <tr>\n",
       "      <th>3</th>\n",
       "      <td>3</td>\n",
       "      <td>03-30 13:59:42</td>\n",
       "      <td>1</td>\n",
       "      <td>1.50</td>\n",
       "      <td>239</td>\n",
       "      <td>163</td>\n",
       "      <td>6.256527</td>\n",
       "      <td>270.288721</td>\n",
       "      <td>65.104518</td>\n",
       "      <td>403.50</td>\n",
       "      <td>1.218689</td>\n",
       "      <td>126.686311</td>\n",
       "    </tr>\n",
       "    <tr>\n",
       "      <th>4</th>\n",
       "      <td>4</td>\n",
       "      <td>02-14 18:26:55</td>\n",
       "      <td>1</td>\n",
       "      <td>1.20</td>\n",
       "      <td>142</td>\n",
       "      <td>229</td>\n",
       "      <td>6.256527</td>\n",
       "      <td>160.589952</td>\n",
       "      <td>91.465857</td>\n",
       "      <td>372.20</td>\n",
       "      <td>0.408689</td>\n",
       "      <td>126.689773</td>\n",
       "    </tr>\n",
       "  </tbody>\n",
       "</table>\n",
       "</div>"
      ],
      "text/plain": [
       "   id       feature_0  feature_1  feature_2  feature_3  feature_4  feature_5  \\\n",
       "0   0  01-07 17:04:08          2       1.20        263        141  12.513054   \n",
       "1   1  03-02 17:41:40          1       0.88        246         68   6.256527   \n",
       "2   2  02-17 12:15:00          3       7.61         24         13  18.769581   \n",
       "3   3  03-30 13:59:42          1       1.50        239        163   6.256527   \n",
       "4   4  02-14 18:26:55          1       1.20        142        229   6.256527   \n",
       "\n",
       "    feature_6  feature_7  feature_8  feature_9  feature_10  \n",
       "0  297.430685  56.317405     405.20   0.408689  126.689773  \n",
       "1  278.205127  27.160167     314.88  -0.256911  126.693467  \n",
       "2   27.141964   5.192385      44.61  56.880789  126.615789  \n",
       "3  270.288721  65.104518     403.50   1.218689  126.686311  \n",
       "4  160.589952  91.465857     372.20   0.408689  126.689773  "
      ]
     },
     "execution_count": 2,
     "metadata": {},
     "output_type": "execute_result"
    }
   ],
   "source": [
    "uber_time_examples = pd.read_csv(\"uber_time_examples.csv\")\n",
    "uber_time_examples.head(5)"
   ]
  },
  {
   "cell_type": "code",
   "execution_count": 3,
   "metadata": {},
   "outputs": [
    {
     "data": {
      "text/html": [
       "<div>\n",
       "<style scoped>\n",
       "    .dataframe tbody tr th:only-of-type {\n",
       "        vertical-align: middle;\n",
       "    }\n",
       "\n",
       "    .dataframe tbody tr th {\n",
       "        vertical-align: top;\n",
       "    }\n",
       "\n",
       "    .dataframe thead th {\n",
       "        text-align: right;\n",
       "    }\n",
       "</style>\n",
       "<table border=\"1\" class=\"dataframe\">\n",
       "  <thead>\n",
       "    <tr style=\"text-align: right;\">\n",
       "      <th></th>\n",
       "      <th>id</th>\n",
       "      <th>duration</th>\n",
       "    </tr>\n",
       "  </thead>\n",
       "  <tbody>\n",
       "    <tr>\n",
       "      <th>0</th>\n",
       "      <td>0</td>\n",
       "      <td>455.0</td>\n",
       "    </tr>\n",
       "    <tr>\n",
       "      <th>1</th>\n",
       "      <td>1</td>\n",
       "      <td>413.0</td>\n",
       "    </tr>\n",
       "    <tr>\n",
       "      <th>2</th>\n",
       "      <td>2</td>\n",
       "      <td>1501.0</td>\n",
       "    </tr>\n",
       "    <tr>\n",
       "      <th>3</th>\n",
       "      <td>3</td>\n",
       "      <td>514.0</td>\n",
       "    </tr>\n",
       "    <tr>\n",
       "      <th>4</th>\n",
       "      <td>4</td>\n",
       "      <td>605.0</td>\n",
       "    </tr>\n",
       "  </tbody>\n",
       "</table>\n",
       "</div>"
      ],
      "text/plain": [
       "   id  duration\n",
       "0   0     455.0\n",
       "1   1     413.0\n",
       "2   2    1501.0\n",
       "3   3     514.0\n",
       "4   4     605.0"
      ]
     },
     "execution_count": 3,
     "metadata": {},
     "output_type": "execute_result"
    }
   ],
   "source": [
    "uber_time_labels = pd.read_csv(\"uber_time_labels.csv\")\n",
    "uber_time_labels.head(5)"
   ]
  },
  {
   "cell_type": "code",
   "execution_count": 6,
   "metadata": {},
   "outputs": [
    {
     "data": {
      "text/html": [
       "<div>\n",
       "<style scoped>\n",
       "    .dataframe tbody tr th:only-of-type {\n",
       "        vertical-align: middle;\n",
       "    }\n",
       "\n",
       "    .dataframe tbody tr th {\n",
       "        vertical-align: top;\n",
       "    }\n",
       "\n",
       "    .dataframe thead th {\n",
       "        text-align: right;\n",
       "    }\n",
       "</style>\n",
       "<table border=\"1\" class=\"dataframe\">\n",
       "  <thead>\n",
       "    <tr style=\"text-align: right;\">\n",
       "      <th></th>\n",
       "      <th>id</th>\n",
       "      <th>feature_0</th>\n",
       "      <th>feature_1</th>\n",
       "      <th>feature_2</th>\n",
       "      <th>feature_3</th>\n",
       "      <th>feature_4</th>\n",
       "      <th>feature_5</th>\n",
       "      <th>feature_6</th>\n",
       "      <th>feature_7</th>\n",
       "      <th>feature_8</th>\n",
       "      <th>feature_9</th>\n",
       "      <th>feature_10</th>\n",
       "      <th>duration</th>\n",
       "    </tr>\n",
       "  </thead>\n",
       "  <tbody>\n",
       "    <tr>\n",
       "      <th>386128</th>\n",
       "      <td>386128</td>\n",
       "      <td>02-26 21:22:07</td>\n",
       "      <td>2</td>\n",
       "      <td>1.42</td>\n",
       "      <td>249</td>\n",
       "      <td>231</td>\n",
       "      <td>12.513054</td>\n",
       "      <td>281.597873</td>\n",
       "      <td>92.264685</td>\n",
       "      <td>481.42</td>\n",
       "      <td>0.985089</td>\n",
       "      <td>126.687234</td>\n",
       "      <td>280.0</td>\n",
       "    </tr>\n",
       "    <tr>\n",
       "      <th>297944</th>\n",
       "      <td>297944</td>\n",
       "      <td>03-02 01:13:42</td>\n",
       "      <td>1</td>\n",
       "      <td>1.10</td>\n",
       "      <td>170</td>\n",
       "      <td>162</td>\n",
       "      <td>6.256527</td>\n",
       "      <td>192.255576</td>\n",
       "      <td>64.705104</td>\n",
       "      <td>333.10</td>\n",
       "      <td>0.178689</td>\n",
       "      <td>126.690927</td>\n",
       "      <td>259.0</td>\n",
       "    </tr>\n",
       "    <tr>\n",
       "      <th>164196</th>\n",
       "      <td>164196</td>\n",
       "      <td>01-15 17:10:23</td>\n",
       "      <td>1</td>\n",
       "      <td>1.56</td>\n",
       "      <td>170</td>\n",
       "      <td>48</td>\n",
       "      <td>6.256527</td>\n",
       "      <td>192.255576</td>\n",
       "      <td>19.171883</td>\n",
       "      <td>219.56</td>\n",
       "      <td>1.402289</td>\n",
       "      <td>126.685618</td>\n",
       "      <td>568.0</td>\n",
       "    </tr>\n",
       "    <tr>\n",
       "      <th>76962</th>\n",
       "      <td>76962</td>\n",
       "      <td>02-28 10:39:13</td>\n",
       "      <td>1</td>\n",
       "      <td>0.50</td>\n",
       "      <td>48</td>\n",
       "      <td>48</td>\n",
       "      <td>6.256527</td>\n",
       "      <td>54.283927</td>\n",
       "      <td>19.171883</td>\n",
       "      <td>96.50</td>\n",
       "      <td>-0.781311</td>\n",
       "      <td>126.697853</td>\n",
       "      <td>296.0</td>\n",
       "    </tr>\n",
       "    <tr>\n",
       "      <th>52185</th>\n",
       "      <td>52185</td>\n",
       "      <td>01-19 12:51:01</td>\n",
       "      <td>1</td>\n",
       "      <td>0.72</td>\n",
       "      <td>237</td>\n",
       "      <td>236</td>\n",
       "      <td>6.256527</td>\n",
       "      <td>268.026891</td>\n",
       "      <td>94.261756</td>\n",
       "      <td>473.72</td>\n",
       "      <td>-0.512911</td>\n",
       "      <td>126.695313</td>\n",
       "      <td>285.0</td>\n",
       "    </tr>\n",
       "  </tbody>\n",
       "</table>\n",
       "</div>"
      ],
      "text/plain": [
       "            id       feature_0  feature_1  feature_2  feature_3  feature_4  \\\n",
       "386128  386128  02-26 21:22:07          2       1.42        249        231   \n",
       "297944  297944  03-02 01:13:42          1       1.10        170        162   \n",
       "164196  164196  01-15 17:10:23          1       1.56        170         48   \n",
       "76962    76962  02-28 10:39:13          1       0.50         48         48   \n",
       "52185    52185  01-19 12:51:01          1       0.72        237        236   \n",
       "\n",
       "        feature_5   feature_6  feature_7  feature_8  feature_9  feature_10  \\\n",
       "386128  12.513054  281.597873  92.264685     481.42   0.985089  126.687234   \n",
       "297944   6.256527  192.255576  64.705104     333.10   0.178689  126.690927   \n",
       "164196   6.256527  192.255576  19.171883     219.56   1.402289  126.685618   \n",
       "76962    6.256527   54.283927  19.171883      96.50  -0.781311  126.697853   \n",
       "52185    6.256527  268.026891  94.261756     473.72  -0.512911  126.695313   \n",
       "\n",
       "        duration  \n",
       "386128     280.0  \n",
       "297944     259.0  \n",
       "164196     568.0  \n",
       "76962      296.0  \n",
       "52185      285.0  "
      ]
     },
     "execution_count": 6,
     "metadata": {},
     "output_type": "execute_result"
    }
   ],
   "source": [
    "uber_data  = pd.merge(uber_time_examples, uber_time_labels, on = 'id', how = 'left').sample(20000, random_state = 123)\n",
    "uber_data.head(5)"
   ]
  },
  {
   "attachments": {},
   "cell_type": "markdown",
   "metadata": {},
   "source": [
    "<h2 id=\"p_1_1\">Pregunta 1</h2>\n",
    "\n",
    "Realizar preprocesamiento de datos: imputar valores faltantes, transformar variables categóricas, estandarizar variables numéricas, etc.\n",
    "si lo consideras necesario para futuros modelos. Puede ser interesante intentar adaptar las variables que no siguan una distribución normal mediante técnicas de mapeado a gausianas como Power Transformers"
   ]
  },
  {
   "cell_type": "code",
   "execution_count": 1,
   "metadata": {},
   "outputs": [],
   "source": [
    "# (https://scikit-learn.org/stable/modules/generated/sklearn.preprocessing.PowerTransformer.html#sklearn.preprocessing.PowerTransformer)."
   ]
  },
  {
   "cell_type": "code",
   "execution_count": 19,
   "metadata": {},
   "outputs": [
    {
     "name": "stdout",
     "output_type": "stream",
     "text": [
      "# de valores faltantes en la variable  id :  0\n",
      "# de valores faltantes en la variable  feature_0 :  0\n",
      "# de valores faltantes en la variable  feature_1 :  0\n",
      "# de valores faltantes en la variable  feature_2 :  0\n",
      "# de valores faltantes en la variable  feature_3 :  0\n",
      "# de valores faltantes en la variable  feature_4 :  0\n",
      "# de valores faltantes en la variable  feature_5 :  0\n",
      "# de valores faltantes en la variable  feature_6 :  0\n",
      "# de valores faltantes en la variable  feature_7 :  0\n",
      "# de valores faltantes en la variable  feature_8 :  0\n",
      "# de valores faltantes en la variable  feature_9 :  0\n",
      "# de valores faltantes en la variable  feature_10 :  0\n",
      "# de valores faltantes en la variable  duration :  0\n"
     ]
    }
   ],
   "source": [
    "# Detección de valores faltantes\n",
    "for c in uber_data.columns.tolist():\n",
    "    print('# de valores faltantes en la variable ',c, ': ', sum(uber_data[c].isnull()))"
   ]
  },
  {
   "cell_type": "code",
   "execution_count": 26,
   "metadata": {},
   "outputs": [
    {
     "data": {
      "text/html": [
       "<div>\n",
       "<style scoped>\n",
       "    .dataframe tbody tr th:only-of-type {\n",
       "        vertical-align: middle;\n",
       "    }\n",
       "\n",
       "    .dataframe tbody tr th {\n",
       "        vertical-align: top;\n",
       "    }\n",
       "\n",
       "    .dataframe thead th {\n",
       "        text-align: right;\n",
       "    }\n",
       "</style>\n",
       "<table border=\"1\" class=\"dataframe\">\n",
       "  <thead>\n",
       "    <tr style=\"text-align: right;\">\n",
       "      <th></th>\n",
       "      <th>id</th>\n",
       "      <th>feature_0</th>\n",
       "      <th>feature_1</th>\n",
       "      <th>feature_2</th>\n",
       "      <th>feature_3</th>\n",
       "      <th>feature_4</th>\n",
       "      <th>feature_5</th>\n",
       "      <th>feature_6</th>\n",
       "      <th>feature_7</th>\n",
       "      <th>feature_8</th>\n",
       "      <th>feature_9</th>\n",
       "      <th>feature_10</th>\n",
       "      <th>duration</th>\n",
       "    </tr>\n",
       "  </thead>\n",
       "  <tbody>\n",
       "    <tr>\n",
       "      <th>0</th>\n",
       "      <td>int64</td>\n",
       "      <td>object</td>\n",
       "      <td>int64</td>\n",
       "      <td>float64</td>\n",
       "      <td>int64</td>\n",
       "      <td>int64</td>\n",
       "      <td>float64</td>\n",
       "      <td>float64</td>\n",
       "      <td>float64</td>\n",
       "      <td>float64</td>\n",
       "      <td>float64</td>\n",
       "      <td>float64</td>\n",
       "      <td>float64</td>\n",
       "    </tr>\n",
       "  </tbody>\n",
       "</table>\n",
       "</div>"
      ],
      "text/plain": [
       "      id feature_0 feature_1 feature_2 feature_3 feature_4 feature_5  \\\n",
       "0  int64    object     int64   float64     int64     int64   float64   \n",
       "\n",
       "  feature_6 feature_7 feature_8 feature_9 feature_10 duration  \n",
       "0   float64   float64   float64   float64    float64  float64  "
      ]
     },
     "execution_count": 26,
     "metadata": {},
     "output_type": "execute_result"
    }
   ],
   "source": [
    "# Detección de tipología de variables\n",
    "pd.DataFrame(uber_data.dtypes).T"
   ]
  },
  {
   "cell_type": "code",
   "execution_count": 28,
   "metadata": {},
   "outputs": [
    {
     "data": {
      "text/html": [
       "<div>\n",
       "<style scoped>\n",
       "    .dataframe tbody tr th:only-of-type {\n",
       "        vertical-align: middle;\n",
       "    }\n",
       "\n",
       "    .dataframe tbody tr th {\n",
       "        vertical-align: top;\n",
       "    }\n",
       "\n",
       "    .dataframe thead th {\n",
       "        text-align: right;\n",
       "    }\n",
       "</style>\n",
       "<table border=\"1\" class=\"dataframe\">\n",
       "  <thead>\n",
       "    <tr style=\"text-align: right;\">\n",
       "      <th></th>\n",
       "      <th>id</th>\n",
       "      <th>feature_0</th>\n",
       "      <th>feature_1</th>\n",
       "      <th>feature_2</th>\n",
       "      <th>feature_3</th>\n",
       "      <th>feature_4</th>\n",
       "      <th>feature_5</th>\n",
       "      <th>feature_6</th>\n",
       "      <th>feature_7</th>\n",
       "      <th>feature_8</th>\n",
       "      <th>feature_9</th>\n",
       "      <th>feature_10</th>\n",
       "      <th>duration</th>\n",
       "    </tr>\n",
       "  </thead>\n",
       "  <tbody>\n",
       "    <tr>\n",
       "      <th>0</th>\n",
       "      <td>object</td>\n",
       "      <td>datetime64[ns]</td>\n",
       "      <td>int64</td>\n",
       "      <td>float64</td>\n",
       "      <td>int64</td>\n",
       "      <td>int64</td>\n",
       "      <td>float64</td>\n",
       "      <td>float64</td>\n",
       "      <td>float64</td>\n",
       "      <td>float64</td>\n",
       "      <td>float64</td>\n",
       "      <td>float64</td>\n",
       "      <td>float64</td>\n",
       "    </tr>\n",
       "  </tbody>\n",
       "</table>\n",
       "</div>"
      ],
      "text/plain": [
       "       id       feature_0 feature_1 feature_2 feature_3 feature_4 feature_5  \\\n",
       "0  object  datetime64[ns]     int64   float64     int64     int64   float64   \n",
       "\n",
       "  feature_6 feature_7 feature_8 feature_9 feature_10 duration  \n",
       "0   float64   float64   float64   float64    float64  float64  "
      ]
     },
     "execution_count": 28,
     "metadata": {},
     "output_type": "execute_result"
    }
   ],
   "source": [
    "# Cambio de tipología de variables\n",
    "\n",
    "uber_data['id'] = uber_data['id'].astype(str)\n",
    "uber_data['feature_0'] = pd.to_datetime(uber_data['feature_0'], format='%m-%d %H:%M:%S')\n",
    "pd.DataFrame(uber_data.dtypes).T"
   ]
  },
  {
   "cell_type": "code",
   "execution_count": 33,
   "metadata": {},
   "outputs": [
    {
     "data": {
      "image/png": "[encoded data removed]",
      "text/plain": [
       "<Figure size 1080x720 with 12 Axes>"
      ]
     },
     "metadata": {
      "needs_background": "light"
     },
     "output_type": "display_data"
    }
   ],
   "source": [
    "# Detección de variables con distribuciones significativamente anormales\n",
    "\n",
    "variables = uber_data.drop('id', axis=1).columns\n",
    "num_cols = 3\n",
    "num_filas = (len(variables) - 1) // num_cols + 1\n",
    "fig, axes = plt.subplots(num_filas, num_cols, figsize=(15, 10))\n",
    "fig.tight_layout(pad=3)\n",
    "\n",
    "\n",
    "for i, variable in enumerate(variables):\n",
    "    fila = i // num_cols\n",
    "    col = i % num_cols\n",
    "    ax = axes[fila, col]\n",
    "    sns.histplot(uber_data[variable], kde=True, ax=ax)\n",
    "    ax.set_xlabel(variable)\n",
    "    ax.set_ylabel('Densidad')\n",
    "\n",
    "plt.show()\n"
   ]
  },
  {
   "cell_type": "code",
   "execution_count": 36,
   "metadata": {},
   "outputs": [
    {
     "data": {
      "image/png": "[encoded data removed]",
      "text/plain": [
       "<Figure size 432x288 with 1 Axes>"
      ]
     },
     "metadata": {
      "needs_background": "light"
     },
     "output_type": "display_data"
    }
   ],
   "source": [
    "# Corrección de anormalidad en mediante power transfrom\n",
    "\n",
    "uber_data['duration_2'] = PowerTransformer(method='yeo-johnson').fit_transform(uber_data[['duration']])\n",
    "\n",
    "sns.kdeplot(uber_data['duration_2'])\n",
    "plt.xlabel('Duration_2')\n",
    "plt.ylabel('Densidad')\n",
    "plt.show()"
   ]
  },
  {
   "attachments": {},
   "cell_type": "markdown",
   "metadata": {},
   "source": [
    "<h2 id=\"p_1_2\">Pregunta 2</h2>\n",
    "\n",
    "Crear nuevas características (features) que puedan mejorar\n",
    "el poder predictivo del modelo"
   ]
  },
  {
   "attachments": {},
   "cell_type": "markdown",
   "metadata": {},
   "source": [
    "<h2 id=\"p_1_3\">Pregunta 3</h2>\n",
    "\n",
    "Seleccionar las características más relevantes para predecir la duración del viaje. Utilizar técnicas de selección de características basadas en una sola variable o SelectFromModel. Evitar Recursive feature elimination debido a su alto coste computacional"
   ]
  },
  {
   "cell_type": "code",
   "execution_count": 2,
   "metadata": {},
   "outputs": [],
   "source": [
    "#Ver : (https://scikit-learn.org/stable/modules/feature_selection.html)"
   ]
  },
  {
   "attachments": {},
   "cell_type": "markdown",
   "metadata": {},
   "source": [
    "<h2 id=\"p_1_4\">Pregunta 4</h2>\n",
    "\n",
    "Entrenar un modelo sencillo como base y medir su MAPE (Mean Absolute Percentage Error) en el conjunto de test. Luego, elegir y entrenar dos modelos más avanzados (por ejemplo, ensambladores, máquinas de soporte vectorial, modelos bayesianos, redes neuronales) y comparar sus MAPEs"
   ]
  },
  {
   "attachments": {},
   "cell_type": "markdown",
   "metadata": {},
   "source": [
    "<h2 id=\"p_1_5\">Pregunta 5</h2>\n",
    "\n",
    "Optimizar los hiperparámetros de los dos últimos modelos utilizando validación cruzada (cross-validation) y comparar sus MAPEs. Elegir el mejor modelo basándose en estos resultados"
   ]
  },
  {
   "attachments": {},
   "cell_type": "markdown",
   "metadata": {},
   "source": [
    "## Parte 2\n",
    "\n",
    "Twitter se ha convertido en un importante canal de comunicación en tiempos de emergencia.\n",
    "\n",
    "La ubicuidad de los teléfonos inteligentes permite a las personas anunciar una emergencia que están observando en tiempo real. Debido a esto, más agencias están interesadas en monitorear programáticamente Twitter (es decir, organizaciones de ayuda en casos de desastre y agencias de noticias). Pero no siempre está claro si las palabras de una persona en realidad anuncian un desastre, ya que muchas veces se puede hablar de forma irónica o metafórica. Es por eso que se pide crear un modelo que pueda decidir si un mensaje de twitter hace referencia a una emergencia o no.\n",
    "\n",
    "Para ello se adjunta el conjunto de datos: twitter_emergency.csv"
   ]
  },
  {
   "attachments": {},
   "cell_type": "markdown",
   "metadata": {},
   "source": [
    "<h2 id=\"p_2_1\">Pregunta 1</h2>\n",
    "\n",
    "Extraer los embeddings del texto de los tweets utilizando un modelo pre-entrenado de Huggingface"
   ]
  },
  {
   "attachments": {},
   "cell_type": "markdown",
   "metadata": {},
   "source": [
    "<h2 id=\"p_2_2\">Pregunta 2</h2>\n",
    "\n",
    "rear y entrenar una pequeña red neuronal que utilice los embeddings, la palabra clave (keyword) y la ubicación (location) para predecir si un tweet está relacionado con una emergencia o no. Gestionar los valores faltantes y agrupar las ariables categóricas de manera adecuada. No es necesario realizar una optimización de hiperparámetros exhaustiva, pero se pueden realizar ajustes si se desea"
   ]
  },
  {
   "cell_type": "code",
   "execution_count": 3,
   "metadata": {},
   "outputs": [],
   "source": [
    "# NOTA: Si no se ha podido calcular los embeddings del ejercicio anterior, usar los que aparecen guardados como numpy.array en el fichero\n"
   ]
  },
  {
   "cell_type": "code",
   "execution_count": null,
   "metadata": {},
   "outputs": [],
   "source": []
  },
  {
   "cell_type": "code",
   "execution_count": null,
   "metadata": {},
   "outputs": [],
   "source": []
  },
  {
   "cell_type": "code",
   "execution_count": null,
   "metadata": {},
   "outputs": [],
   "source": []
  },
  {
   "cell_type": "code",
   "execution_count": null,
   "metadata": {},
   "outputs": [],
   "source": []
  },
  {
   "cell_type": "code",
   "execution_count": null,
   "metadata": {},
   "outputs": [],
   "source": []
  }
 ],
 "metadata": {
  "kernelspec": {
   "display_name": "entorno_prueba",
   "language": "python",
   "name": "python3"
  },
  "language_info": {
   "codemirror_mode": {
    "name": "ipython",
    "version": 3
   },
   "file_extension": ".py",
   "mimetype": "text/x-python",
   "name": "python",
   "nbconvert_exporter": "python",
   "pygments_lexer": "ipython3",
   "version": "3.8.5"
  },
  "orig_nbformat": 4
 },
 "nbformat": 4,
 "nbformat_minor": 2
}
