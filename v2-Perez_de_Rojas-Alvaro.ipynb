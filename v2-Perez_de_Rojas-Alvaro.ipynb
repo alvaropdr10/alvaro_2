{
 "cells": [
  {
   "attachments": {},
   "cell_type": "markdown",
   "metadata": {},
   "source": [
    "Álvaro Pérez de Rojas\n",
    " # Práctica 1 de Machine Learning, Modelos Supervisados\n",
    " \n",
    "\n",
    "#### Índice\n",
    "<ol>\n",
    "    <li><a href=\"#p_1\" >Pregunta 1</a></li>\n",
    "    <li><a href=\"#p_2\">Pregunta 2</a></li>\n",
    "    <li><a href=\"#p_3\">Pregunta 3</a></li>\n",
    "    <li><a href=\"#p_4\">Pregunta 4</a></li>\n",
    "    <li><a href=\"#p_5\">Pregunta 5</a></li>\n",
    "    <li><a href=\"#p_6\">Pregunta 6</a></li>\n",
    "    <li><a href=\"#p_7\">Pregunta 7</a></li>\n",
    " \n",
    " </ol>\n",
    "\n",
    "***"
   ]
  },
  {
   "cell_type": "code",
   "execution_count": 1,
   "metadata": {},
   "outputs": [],
   "source": [
    "import pandas as pd\n",
    "import numpy as np\n",
    "import matplotlib.pyplot as plt\n",
    "from sklearn.impute import KNNImputer\n",
    "from sklearn.model_selection import train_test_split\n",
    "from sklearn.preprocessing import StandardScaler\n",
    "from sklearn.linear_model import LogisticRegression\n",
    "# from sklearn.metrics import precision_score\n",
    "# from sklearn.metrics import recall_score\n",
    "# from sklearn.metrics import confusion_matrix\n",
    "# from sklearn.metrics import f1_score\n",
    "# from sklearn.metrics import roc_auc_score\n",
    "# from sklearn.metrics import RocCurveDisplay\n",
    "from sklearn.metrics import precision_score, recall_score, confusion_matrix, f1_score, roc_auc_score, RocCurveDisplay\n",
    "from sklearn.neighbors import KNeighborsClassifier\n",
    "from sklearn.metrics import accuracy_score\n",
    "# import matplotlib.pyplot as plt\n",
    "from sklearn.metrics import balanced_accuracy_score\n",
    "from sklearn.tree import DecisionTreeClassifier\n",
    "from sklearn.ensemble import BaggingClassifier\n",
    "from sklearn.ensemble import GradientBoostingClassifier\n",
    "import xgboost as xgb"
   ]
  },
  {
   "attachments": {},
   "cell_type": "markdown",
   "metadata": {},
   "source": [
    "<h2 id=\"p_1\">Pregunta 1</h2>\n",
    "\n",
    "Hacer un pequeño análisis descriptivo de los datos. Un análisis sencillo que incluya simplemente: (0,5 pts)\n",
    "- Cantidad de valores nulos.\n",
    "- Tipo de variables (cat, float, etc.)\n",
    "- En la variable objetivo, distribución de sus valores.\n",
    "- Matriz de correlación en variables continuas."
   ]
  },
  {
   "attachments": {},
   "cell_type": "markdown",
   "metadata": {},
   "source": [
    "    - Lectura"
   ]
  },
  {
   "cell_type": "code",
   "execution_count": 2,
   "metadata": {},
   "outputs": [
    {
     "name": "stderr",
     "output_type": "stream",
     "text": [
      "C:\\Users\\alvar\\AppData\\Local\\Temp\\ipykernel_6428\\1008487478.py:1: DtypeWarning: Columns (0) have mixed types. Specify dtype option on import or set low_memory=False.\n",
      "  df = pd.read_csv('pd_data_initial_preprocessing.csv').sample(200000, random_state = 123)\n"
     ]
    },
    {
     "data": {
      "text/html": [
       "<div>\n",
       "<style scoped>\n",
       "    .dataframe tbody tr th:only-of-type {\n",
       "        vertical-align: middle;\n",
       "    }\n",
       "\n",
       "    .dataframe tbody tr th {\n",
       "        vertical-align: top;\n",
       "    }\n",
       "\n",
       "    .dataframe thead th {\n",
       "        text-align: right;\n",
       "    }\n",
       "</style>\n",
       "<table border=\"1\" class=\"dataframe\">\n",
       "  <thead>\n",
       "    <tr style=\"text-align: right;\">\n",
       "      <th></th>\n",
       "      <th>id</th>\n",
       "      <th>url</th>\n",
       "      <th>zip_code</th>\n",
       "      <th>mths_since_last_record</th>\n",
       "      <th>il_util</th>\n",
       "      <th>mths_since_recent_bc_dlq</th>\n",
       "      <th>mths_since_rcnt_il</th>\n",
       "      <th>all_util</th>\n",
       "      <th>inq_fi</th>\n",
       "      <th>max_bal_bc</th>\n",
       "      <th>...</th>\n",
       "      <th>initial_list_status</th>\n",
       "      <th>application_type</th>\n",
       "      <th>pub_rec</th>\n",
       "      <th>pub_rec_bankruptcies</th>\n",
       "      <th>loan_amnt</th>\n",
       "      <th>mort_acc</th>\n",
       "      <th>mo_sin_old_rev_tl_op</th>\n",
       "      <th>open_acc</th>\n",
       "      <th>earliest_cr_line_month</th>\n",
       "      <th>earliest_cr_line_year</th>\n",
       "    </tr>\n",
       "  </thead>\n",
       "  <tbody>\n",
       "    <tr>\n",
       "      <th>616531</th>\n",
       "      <td>59033332</td>\n",
       "      <td>https://lendingclub.com/browse/loanDetail.acti...</td>\n",
       "      <td>078xx</td>\n",
       "      <td>NaN</td>\n",
       "      <td>NaN</td>\n",
       "      <td>8.0</td>\n",
       "      <td>NaN</td>\n",
       "      <td>NaN</td>\n",
       "      <td>NaN</td>\n",
       "      <td>NaN</td>\n",
       "      <td>...</td>\n",
       "      <td>w</td>\n",
       "      <td>Individual</td>\n",
       "      <td>0.0</td>\n",
       "      <td>0.0</td>\n",
       "      <td>19000.0</td>\n",
       "      <td>1.0</td>\n",
       "      <td>275.0</td>\n",
       "      <td>8.0</td>\n",
       "      <td>9.0</td>\n",
       "      <td>1992.0</td>\n",
       "    </tr>\n",
       "    <tr>\n",
       "      <th>392296</th>\n",
       "      <td>15359480</td>\n",
       "      <td>https://lendingclub.com/browse/loanDetail.acti...</td>\n",
       "      <td>481xx</td>\n",
       "      <td>NaN</td>\n",
       "      <td>NaN</td>\n",
       "      <td>NaN</td>\n",
       "      <td>NaN</td>\n",
       "      <td>NaN</td>\n",
       "      <td>NaN</td>\n",
       "      <td>NaN</td>\n",
       "      <td>...</td>\n",
       "      <td>f</td>\n",
       "      <td>Individual</td>\n",
       "      <td>0.0</td>\n",
       "      <td>0.0</td>\n",
       "      <td>25000.0</td>\n",
       "      <td>0.0</td>\n",
       "      <td>97.0</td>\n",
       "      <td>13.0</td>\n",
       "      <td>3.0</td>\n",
       "      <td>2006.0</td>\n",
       "    </tr>\n",
       "  </tbody>\n",
       "</table>\n",
       "<p>2 rows × 51 columns</p>\n",
       "</div>"
      ],
      "text/plain": [
       "              id                                                url zip_code   \n",
       "616531  59033332  https://lendingclub.com/browse/loanDetail.acti...    078xx  \\\n",
       "392296  15359480  https://lendingclub.com/browse/loanDetail.acti...    481xx   \n",
       "\n",
       "        mths_since_last_record  il_util  mths_since_recent_bc_dlq   \n",
       "616531                     NaN      NaN                       8.0  \\\n",
       "392296                     NaN      NaN                       NaN   \n",
       "\n",
       "        mths_since_rcnt_il  all_util  inq_fi  max_bal_bc  ...   \n",
       "616531                 NaN       NaN     NaN         NaN  ...  \\\n",
       "392296                 NaN       NaN     NaN         NaN  ...   \n",
       "\n",
       "        initial_list_status  application_type  pub_rec  pub_rec_bankruptcies   \n",
       "616531                    w        Individual      0.0                   0.0  \\\n",
       "392296                    f        Individual      0.0                   0.0   \n",
       "\n",
       "        loan_amnt  mort_acc  mo_sin_old_rev_tl_op  open_acc   \n",
       "616531    19000.0       1.0                 275.0       8.0  \\\n",
       "392296    25000.0       0.0                  97.0      13.0   \n",
       "\n",
       "        earliest_cr_line_month  earliest_cr_line_year  \n",
       "616531                     9.0                 1992.0  \n",
       "392296                     3.0                 2006.0  \n",
       "\n",
       "[2 rows x 51 columns]"
      ]
     },
     "execution_count": 2,
     "metadata": {},
     "output_type": "execute_result"
    }
   ],
   "source": [
    "df = pd.read_csv('pd_data_initial_preprocessing.csv').sample(200000, random_state = 123)\n",
    "df.head(2)"
   ]
  },
  {
   "attachments": {},
   "cell_type": "markdown",
   "metadata": {},
   "source": [
    "    - Descripcion"
   ]
  },
  {
   "cell_type": "code",
   "execution_count": 3,
   "metadata": {},
   "outputs": [
    {
     "data": {
      "text/html": [
       "<div>\n",
       "<style scoped>\n",
       "    .dataframe tbody tr th:only-of-type {\n",
       "        vertical-align: middle;\n",
       "    }\n",
       "\n",
       "    .dataframe tbody tr th {\n",
       "        vertical-align: top;\n",
       "    }\n",
       "\n",
       "    .dataframe thead th {\n",
       "        text-align: right;\n",
       "    }\n",
       "</style>\n",
       "<table border=\"1\" class=\"dataframe\">\n",
       "  <thead>\n",
       "    <tr style=\"text-align: right;\">\n",
       "      <th></th>\n",
       "      <th>id</th>\n",
       "      <th>url</th>\n",
       "      <th>zip_code</th>\n",
       "      <th>mths_since_last_record</th>\n",
       "      <th>il_util</th>\n",
       "      <th>mths_since_recent_bc_dlq</th>\n",
       "      <th>mths_since_rcnt_il</th>\n",
       "      <th>all_util</th>\n",
       "      <th>inq_fi</th>\n",
       "      <th>max_bal_bc</th>\n",
       "      <th>...</th>\n",
       "      <th>initial_list_status</th>\n",
       "      <th>application_type</th>\n",
       "      <th>pub_rec</th>\n",
       "      <th>pub_rec_bankruptcies</th>\n",
       "      <th>loan_amnt</th>\n",
       "      <th>mort_acc</th>\n",
       "      <th>mo_sin_old_rev_tl_op</th>\n",
       "      <th>open_acc</th>\n",
       "      <th>earliest_cr_line_month</th>\n",
       "      <th>earliest_cr_line_year</th>\n",
       "    </tr>\n",
       "  </thead>\n",
       "  <tbody>\n",
       "    <tr>\n",
       "      <th>count</th>\n",
       "      <td>200000.0</td>\n",
       "      <td>199997</td>\n",
       "      <td>199997</td>\n",
       "      <td>34847.000000</td>\n",
       "      <td>48856.000000</td>\n",
       "      <td>50925.000000</td>\n",
       "      <td>54771.000000</td>\n",
       "      <td>56328.000000</td>\n",
       "      <td>56329.000000</td>\n",
       "      <td>56329.000000</td>\n",
       "      <td>...</td>\n",
       "      <td>199997</td>\n",
       "      <td>199997</td>\n",
       "      <td>199997.000000</td>\n",
       "      <td>199997.000000</td>\n",
       "      <td>199997.000000</td>\n",
       "      <td>199997.000000</td>\n",
       "      <td>199997.000000</td>\n",
       "      <td>199997.000000</td>\n",
       "      <td>199997.000000</td>\n",
       "      <td>199997.000000</td>\n",
       "    </tr>\n",
       "    <tr>\n",
       "      <th>unique</th>\n",
       "      <td>200000.0</td>\n",
       "      <td>199997</td>\n",
       "      <td>887</td>\n",
       "      <td>NaN</td>\n",
       "      <td>NaN</td>\n",
       "      <td>NaN</td>\n",
       "      <td>NaN</td>\n",
       "      <td>NaN</td>\n",
       "      <td>NaN</td>\n",
       "      <td>NaN</td>\n",
       "      <td>...</td>\n",
       "      <td>2</td>\n",
       "      <td>2</td>\n",
       "      <td>NaN</td>\n",
       "      <td>NaN</td>\n",
       "      <td>NaN</td>\n",
       "      <td>NaN</td>\n",
       "      <td>NaN</td>\n",
       "      <td>NaN</td>\n",
       "      <td>NaN</td>\n",
       "      <td>NaN</td>\n",
       "    </tr>\n",
       "    <tr>\n",
       "      <th>top</th>\n",
       "      <td>59033332.0</td>\n",
       "      <td>https://lendingclub.com/browse/loanDetail.acti...</td>\n",
       "      <td>750xx</td>\n",
       "      <td>NaN</td>\n",
       "      <td>NaN</td>\n",
       "      <td>NaN</td>\n",
       "      <td>NaN</td>\n",
       "      <td>NaN</td>\n",
       "      <td>NaN</td>\n",
       "      <td>NaN</td>\n",
       "      <td>...</td>\n",
       "      <td>w</td>\n",
       "      <td>Individual</td>\n",
       "      <td>NaN</td>\n",
       "      <td>NaN</td>\n",
       "      <td>NaN</td>\n",
       "      <td>NaN</td>\n",
       "      <td>NaN</td>\n",
       "      <td>NaN</td>\n",
       "      <td>NaN</td>\n",
       "      <td>NaN</td>\n",
       "    </tr>\n",
       "    <tr>\n",
       "      <th>freq</th>\n",
       "      <td>1.0</td>\n",
       "      <td>1</td>\n",
       "      <td>2102</td>\n",
       "      <td>NaN</td>\n",
       "      <td>NaN</td>\n",
       "      <td>NaN</td>\n",
       "      <td>NaN</td>\n",
       "      <td>NaN</td>\n",
       "      <td>NaN</td>\n",
       "      <td>NaN</td>\n",
       "      <td>...</td>\n",
       "      <td>128746</td>\n",
       "      <td>195131</td>\n",
       "      <td>NaN</td>\n",
       "      <td>NaN</td>\n",
       "      <td>NaN</td>\n",
       "      <td>NaN</td>\n",
       "      <td>NaN</td>\n",
       "      <td>NaN</td>\n",
       "      <td>NaN</td>\n",
       "      <td>NaN</td>\n",
       "    </tr>\n",
       "    <tr>\n",
       "      <th>mean</th>\n",
       "      <td>NaN</td>\n",
       "      <td>NaN</td>\n",
       "      <td>NaN</td>\n",
       "      <td>69.301174</td>\n",
       "      <td>68.849026</td>\n",
       "      <td>39.164772</td>\n",
       "      <td>21.382027</td>\n",
       "      <td>58.162867</td>\n",
       "      <td>0.987218</td>\n",
       "      <td>5730.432708</td>\n",
       "      <td>...</td>\n",
       "      <td>NaN</td>\n",
       "      <td>NaN</td>\n",
       "      <td>0.224383</td>\n",
       "      <td>0.134247</td>\n",
       "      <td>14996.067816</td>\n",
       "      <td>1.658735</td>\n",
       "      <td>184.609299</td>\n",
       "      <td>11.826897</td>\n",
       "      <td>6.744761</td>\n",
       "      <td>1998.590879</td>\n",
       "    </tr>\n",
       "    <tr>\n",
       "      <th>std</th>\n",
       "      <td>NaN</td>\n",
       "      <td>NaN</td>\n",
       "      <td>NaN</td>\n",
       "      <td>26.424752</td>\n",
       "      <td>24.352109</td>\n",
       "      <td>22.759643</td>\n",
       "      <td>25.689458</td>\n",
       "      <td>20.943595</td>\n",
       "      <td>1.461483</td>\n",
       "      <td>5295.255112</td>\n",
       "      <td>...</td>\n",
       "      <td>NaN</td>\n",
       "      <td>NaN</td>\n",
       "      <td>0.614850</td>\n",
       "      <td>0.381439</td>\n",
       "      <td>8792.123702</td>\n",
       "      <td>1.976982</td>\n",
       "      <td>95.635147</td>\n",
       "      <td>5.586369</td>\n",
       "      <td>3.365988</td>\n",
       "      <td>7.715024</td>\n",
       "    </tr>\n",
       "    <tr>\n",
       "      <th>min</th>\n",
       "      <td>NaN</td>\n",
       "      <td>NaN</td>\n",
       "      <td>NaN</td>\n",
       "      <td>0.000000</td>\n",
       "      <td>0.000000</td>\n",
       "      <td>0.000000</td>\n",
       "      <td>0.000000</td>\n",
       "      <td>0.000000</td>\n",
       "      <td>0.000000</td>\n",
       "      <td>0.000000</td>\n",
       "      <td>...</td>\n",
       "      <td>NaN</td>\n",
       "      <td>NaN</td>\n",
       "      <td>0.000000</td>\n",
       "      <td>0.000000</td>\n",
       "      <td>1000.000000</td>\n",
       "      <td>0.000000</td>\n",
       "      <td>3.000000</td>\n",
       "      <td>0.000000</td>\n",
       "      <td>1.000000</td>\n",
       "      <td>1950.000000</td>\n",
       "    </tr>\n",
       "    <tr>\n",
       "      <th>25%</th>\n",
       "      <td>NaN</td>\n",
       "      <td>NaN</td>\n",
       "      <td>NaN</td>\n",
       "      <td>51.000000</td>\n",
       "      <td>54.000000</td>\n",
       "      <td>20.000000</td>\n",
       "      <td>7.000000</td>\n",
       "      <td>44.000000</td>\n",
       "      <td>0.000000</td>\n",
       "      <td>2298.000000</td>\n",
       "      <td>...</td>\n",
       "      <td>NaN</td>\n",
       "      <td>NaN</td>\n",
       "      <td>0.000000</td>\n",
       "      <td>0.000000</td>\n",
       "      <td>8000.000000</td>\n",
       "      <td>0.000000</td>\n",
       "      <td>119.000000</td>\n",
       "      <td>8.000000</td>\n",
       "      <td>4.000000</td>\n",
       "      <td>1995.000000</td>\n",
       "    </tr>\n",
       "    <tr>\n",
       "      <th>50%</th>\n",
       "      <td>NaN</td>\n",
       "      <td>NaN</td>\n",
       "      <td>NaN</td>\n",
       "      <td>69.000000</td>\n",
       "      <td>71.000000</td>\n",
       "      <td>37.000000</td>\n",
       "      <td>14.000000</td>\n",
       "      <td>59.000000</td>\n",
       "      <td>0.000000</td>\n",
       "      <td>4391.000000</td>\n",
       "      <td>...</td>\n",
       "      <td>NaN</td>\n",
       "      <td>NaN</td>\n",
       "      <td>0.000000</td>\n",
       "      <td>0.000000</td>\n",
       "      <td>13125.000000</td>\n",
       "      <td>1.000000</td>\n",
       "      <td>167.000000</td>\n",
       "      <td>11.000000</td>\n",
       "      <td>7.000000</td>\n",
       "      <td>2000.000000</td>\n",
       "    </tr>\n",
       "    <tr>\n",
       "      <th>75%</th>\n",
       "      <td>NaN</td>\n",
       "      <td>NaN</td>\n",
       "      <td>NaN</td>\n",
       "      <td>88.000000</td>\n",
       "      <td>85.000000</td>\n",
       "      <td>58.000000</td>\n",
       "      <td>24.000000</td>\n",
       "      <td>73.000000</td>\n",
       "      <td>1.000000</td>\n",
       "      <td>7475.000000</td>\n",
       "      <td>...</td>\n",
       "      <td>NaN</td>\n",
       "      <td>NaN</td>\n",
       "      <td>0.000000</td>\n",
       "      <td>0.000000</td>\n",
       "      <td>20000.000000</td>\n",
       "      <td>3.000000</td>\n",
       "      <td>235.000000</td>\n",
       "      <td>15.000000</td>\n",
       "      <td>10.000000</td>\n",
       "      <td>2004.000000</td>\n",
       "    </tr>\n",
       "    <tr>\n",
       "      <th>max</th>\n",
       "      <td>NaN</td>\n",
       "      <td>NaN</td>\n",
       "      <td>NaN</td>\n",
       "      <td>120.000000</td>\n",
       "      <td>320.000000</td>\n",
       "      <td>189.000000</td>\n",
       "      <td>433.000000</td>\n",
       "      <td>165.000000</td>\n",
       "      <td>20.000000</td>\n",
       "      <td>149204.000000</td>\n",
       "      <td>...</td>\n",
       "      <td>NaN</td>\n",
       "      <td>NaN</td>\n",
       "      <td>44.000000</td>\n",
       "      <td>11.000000</td>\n",
       "      <td>40000.000000</td>\n",
       "      <td>31.000000</td>\n",
       "      <td>791.000000</td>\n",
       "      <td>84.000000</td>\n",
       "      <td>12.000000</td>\n",
       "      <td>2014.000000</td>\n",
       "    </tr>\n",
       "  </tbody>\n",
       "</table>\n",
       "<p>11 rows × 51 columns</p>\n",
       "</div>"
      ],
      "text/plain": [
       "                id                                                url   \n",
       "count     200000.0                                             199997  \\\n",
       "unique    200000.0                                             199997   \n",
       "top     59033332.0  https://lendingclub.com/browse/loanDetail.acti...   \n",
       "freq           1.0                                                  1   \n",
       "mean           NaN                                                NaN   \n",
       "std            NaN                                                NaN   \n",
       "min            NaN                                                NaN   \n",
       "25%            NaN                                                NaN   \n",
       "50%            NaN                                                NaN   \n",
       "75%            NaN                                                NaN   \n",
       "max            NaN                                                NaN   \n",
       "\n",
       "       zip_code  mths_since_last_record       il_util   \n",
       "count    199997            34847.000000  48856.000000  \\\n",
       "unique      887                     NaN           NaN   \n",
       "top       750xx                     NaN           NaN   \n",
       "freq       2102                     NaN           NaN   \n",
       "mean        NaN               69.301174     68.849026   \n",
       "std         NaN               26.424752     24.352109   \n",
       "min         NaN                0.000000      0.000000   \n",
       "25%         NaN               51.000000     54.000000   \n",
       "50%         NaN               69.000000     71.000000   \n",
       "75%         NaN               88.000000     85.000000   \n",
       "max         NaN              120.000000    320.000000   \n",
       "\n",
       "        mths_since_recent_bc_dlq  mths_since_rcnt_il      all_util   \n",
       "count               50925.000000        54771.000000  56328.000000  \\\n",
       "unique                       NaN                 NaN           NaN   \n",
       "top                          NaN                 NaN           NaN   \n",
       "freq                         NaN                 NaN           NaN   \n",
       "mean                   39.164772           21.382027     58.162867   \n",
       "std                    22.759643           25.689458     20.943595   \n",
       "min                     0.000000            0.000000      0.000000   \n",
       "25%                    20.000000            7.000000     44.000000   \n",
       "50%                    37.000000           14.000000     59.000000   \n",
       "75%                    58.000000           24.000000     73.000000   \n",
       "max                   189.000000          433.000000    165.000000   \n",
       "\n",
       "              inq_fi     max_bal_bc  ...  initial_list_status   \n",
       "count   56329.000000   56329.000000  ...               199997  \\\n",
       "unique           NaN            NaN  ...                    2   \n",
       "top              NaN            NaN  ...                    w   \n",
       "freq             NaN            NaN  ...               128746   \n",
       "mean        0.987218    5730.432708  ...                  NaN   \n",
       "std         1.461483    5295.255112  ...                  NaN   \n",
       "min         0.000000       0.000000  ...                  NaN   \n",
       "25%         0.000000    2298.000000  ...                  NaN   \n",
       "50%         0.000000    4391.000000  ...                  NaN   \n",
       "75%         1.000000    7475.000000  ...                  NaN   \n",
       "max        20.000000  149204.000000  ...                  NaN   \n",
       "\n",
       "        application_type        pub_rec  pub_rec_bankruptcies      loan_amnt   \n",
       "count             199997  199997.000000         199997.000000  199997.000000  \\\n",
       "unique                 2            NaN                   NaN            NaN   \n",
       "top           Individual            NaN                   NaN            NaN   \n",
       "freq              195131            NaN                   NaN            NaN   \n",
       "mean                 NaN       0.224383              0.134247   14996.067816   \n",
       "std                  NaN       0.614850              0.381439    8792.123702   \n",
       "min                  NaN       0.000000              0.000000    1000.000000   \n",
       "25%                  NaN       0.000000              0.000000    8000.000000   \n",
       "50%                  NaN       0.000000              0.000000   13125.000000   \n",
       "75%                  NaN       0.000000              0.000000   20000.000000   \n",
       "max                  NaN      44.000000             11.000000   40000.000000   \n",
       "\n",
       "             mort_acc  mo_sin_old_rev_tl_op       open_acc   \n",
       "count   199997.000000         199997.000000  199997.000000  \\\n",
       "unique            NaN                   NaN            NaN   \n",
       "top               NaN                   NaN            NaN   \n",
       "freq              NaN                   NaN            NaN   \n",
       "mean         1.658735            184.609299      11.826897   \n",
       "std          1.976982             95.635147       5.586369   \n",
       "min          0.000000              3.000000       0.000000   \n",
       "25%          0.000000            119.000000       8.000000   \n",
       "50%          1.000000            167.000000      11.000000   \n",
       "75%          3.000000            235.000000      15.000000   \n",
       "max         31.000000            791.000000      84.000000   \n",
       "\n",
       "        earliest_cr_line_month  earliest_cr_line_year  \n",
       "count            199997.000000          199997.000000  \n",
       "unique                     NaN                    NaN  \n",
       "top                        NaN                    NaN  \n",
       "freq                       NaN                    NaN  \n",
       "mean                  6.744761            1998.590879  \n",
       "std                   3.365988               7.715024  \n",
       "min                   1.000000            1950.000000  \n",
       "25%                   4.000000            1995.000000  \n",
       "50%                   7.000000            2000.000000  \n",
       "75%                  10.000000            2004.000000  \n",
       "max                  12.000000            2014.000000  \n",
       "\n",
       "[11 rows x 51 columns]"
      ]
     },
     "execution_count": 3,
     "metadata": {},
     "output_type": "execute_result"
    }
   ],
   "source": [
    "df.describe(include = 'all')"
   ]
  },
  {
   "attachments": {},
   "cell_type": "markdown",
   "metadata": {},
   "source": [
    "    - Bloques de variables y categorias"
   ]
  },
  {
   "cell_type": "code",
   "execution_count": 4,
   "metadata": {},
   "outputs": [
    {
     "data": {
      "text/plain": [
       "([], [], [])"
      ]
     },
     "execution_count": 4,
     "metadata": {},
     "output_type": "execute_result"
    }
   ],
   "source": [
    "# Separo las columnas en dos bloques\n",
    "\n",
    "continuas =  [\"open_act_il\", \"all_util\", \"annual_inc\", \"dti\", \"emp_length\", \"fico_range_high\", \"fico_range_low\", \"il_util\", \"inq_fi\", \"inq_last_12m\", \"installment\", \"int_rate\", \"loan_amnt\", \"max_bal_bc\", \"mo_sin_old_il_acct\", \"mo_sin_old_rev_tl_op\", \"mort_acc\", \"mths_since_last_delinq\", \"mths_since_last_major_derog\", \"mths_since_last_record\", \"mths_since_rcnt_il\", \"mths_since_recent_bc_dlq\", \"mths_since_recent_revol_delinq\", \"open_acc\", \"open_acc_6m\", \"open_il_12m\", \"open_il_24m\", \"open_rv_12m\", \"open_rv_24m\", \"pub_rec\", \"pub_rec_bankruptcies\", \"revol_util\", \"term\", \"total_acc\", \"total_bal_il\", \"total_cu_tl\", \"earliest_cr_line_month\", \"earliest_cr_line_year\"]\n",
    "discretas = ['id', 'url', 'zip_code', 'emp_title', 'verification_status', 'home_ownership', 'grade', 'sub_grade', 'loan_status', 'purpose', 'addr_state', 'application_type', 'initial_list_status']\n",
    "\n",
    "\n",
    "( # Compruebo que la separacion este bien hecha\n",
    "[item for item in list(df.columns) if item not in (continuas + discretas)],\n",
    "[item for item in continuas if item in discretas],\n",
    "[item for item in discretas if item in continuas]\n",
    ")"
   ]
  },
  {
   "cell_type": "code",
   "execution_count": 5,
   "metadata": {},
   "outputs": [
    {
     "data": {
      "text/html": [
       "<div>\n",
       "<style scoped>\n",
       "    .dataframe tbody tr th:only-of-type {\n",
       "        vertical-align: middle;\n",
       "    }\n",
       "\n",
       "    .dataframe tbody tr th {\n",
       "        vertical-align: top;\n",
       "    }\n",
       "\n",
       "    .dataframe thead th {\n",
       "        text-align: right;\n",
       "    }\n",
       "</style>\n",
       "<table border=\"1\" class=\"dataframe\">\n",
       "  <thead>\n",
       "    <tr style=\"text-align: right;\">\n",
       "      <th></th>\n",
       "      <th>index</th>\n",
       "      <th>tipo_en_df</th>\n",
       "      <th>cont_o_disct</th>\n",
       "      <th>revesion</th>\n",
       "    </tr>\n",
       "  </thead>\n",
       "  <tbody>\n",
       "    <tr>\n",
       "      <th>30</th>\n",
       "      <td>sub_grade</td>\n",
       "      <td>float64</td>\n",
       "      <td>discreta</td>\n",
       "      <td>error</td>\n",
       "    </tr>\n",
       "  </tbody>\n",
       "</table>\n",
       "</div>"
      ],
      "text/plain": [
       "        index tipo_en_df cont_o_disct revesion\n",
       "30  sub_grade    float64     discreta    error"
      ]
     },
     "execution_count": 5,
     "metadata": {},
     "output_type": "execute_result"
    }
   ],
   "source": [
    "# Compruebo que los bloques anteriores coincidan con las categorias en que se han almacenado las variables\n",
    "\n",
    "b = pd.DataFrame(df.dtypes) # Creo un dataframe donde contrastar la categoria actual vs la deseada\n",
    "b = b.rename(columns = {b.columns[0]: 'type'})\n",
    "b['tipo_en_df'] = b['type'].astype(str)\n",
    "b = b.drop(columns = ['type'], axis = 1).reset_index()\n",
    "\n",
    "def f_1(row): # Anado la categoria deseada en funcion si es discreta o continua\n",
    "    if row['index'] in discretas:\n",
    "        val = 'discreta'\n",
    "    elif row['index'] in continuas:\n",
    "        val = 'continua'\n",
    "    else:\n",
    "        val = 'error'\n",
    "    return val\n",
    "b['cont_o_disct'] = b.apply(f_1, axis=1)\n",
    "\n",
    "def f_2(row): # Hago el contraste entre la deseada (cont o disc) y la actual del df\n",
    "    if row['tipo_en_df'] == 'object':\n",
    "        if row['cont_o_disct'] == 'discreta':\n",
    "            val = 'no_cambiar'\n",
    "        else:\n",
    "            val = 'error'\n",
    "    elif row['tipo_en_df'] == 'float64':\n",
    "        if row['cont_o_disct'] == 'continua':\n",
    "            val = 'no_cambiar'\n",
    "        else:\n",
    "            val = 'error'\n",
    "    else:\n",
    "        val = 'error'\n",
    "    return val\n",
    "b['revesion'] = b.apply(f_2, axis=1)\n",
    "\n",
    "\n",
    "b[(b['revesion'] == 'error')] # Imprimo los casos en que hay discrepaciancias entre lo actual y lo deseado"
   ]
  },
  {
   "cell_type": "code",
   "execution_count": 6,
   "metadata": {},
   "outputs": [],
   "source": [
    "df['sub_grade'] = df['sub_grade'].astype('str') # Cambio la variable que quiero pasar a categorica"
   ]
  },
  {
   "attachments": {},
   "cell_type": "markdown",
   "metadata": {},
   "source": [
    "    - Distribucion de valores de la variable objetivo"
   ]
  },
  {
   "cell_type": "code",
   "execution_count": 7,
   "metadata": {},
   "outputs": [
    {
     "data": {
      "image/png": "[encoded data removed]",
      "text/plain": [
       "<Figure size 640x480 with 1 Axes>"
      ]
     },
     "metadata": {},
     "output_type": "display_data"
    }
   ],
   "source": [
    "df['loan_status'].value_counts().plot(kind = 'bar')\n",
    "\n",
    "plt.show()"
   ]
  },
  {
   "attachments": {},
   "cell_type": "markdown",
   "metadata": {},
   "source": [
    "    - Matriz de correlacion"
   ]
  },
  {
   "cell_type": "code",
   "execution_count": 8,
   "metadata": {},
   "outputs": [
    {
     "data": {
      "text/html": [
       "<div>\n",
       "<style scoped>\n",
       "    .dataframe tbody tr th:only-of-type {\n",
       "        vertical-align: middle;\n",
       "    }\n",
       "\n",
       "    .dataframe tbody tr th {\n",
       "        vertical-align: top;\n",
       "    }\n",
       "\n",
       "    .dataframe thead th {\n",
       "        text-align: right;\n",
       "    }\n",
       "</style>\n",
       "<table border=\"1\" class=\"dataframe\">\n",
       "  <thead>\n",
       "    <tr style=\"text-align: right;\">\n",
       "      <th></th>\n",
       "      <th>earliest_cr_line_year</th>\n",
       "      <th>loan_status_Charged Off</th>\n",
       "      <th>loan_status_Current</th>\n",
       "      <th>loan_status_Default</th>\n",
       "      <th>loan_status_Fully Paid</th>\n",
       "      <th>loan_status_In Grace Period</th>\n",
       "      <th>loan_status_Late (16-30 days)</th>\n",
       "      <th>loan_status_Late (31-120 days)</th>\n",
       "    </tr>\n",
       "  </thead>\n",
       "  <tbody>\n",
       "    <tr>\n",
       "      <th>mort_acc</th>\n",
       "      <td>-0.293164</td>\n",
       "      <td>-0.035098</td>\n",
       "      <td>-0.057054</td>\n",
       "      <td>-0.001276</td>\n",
       "      <td>0.086713</td>\n",
       "      <td>-0.008647</td>\n",
       "      <td>-0.005427</td>\n",
       "      <td>-0.016196</td>\n",
       "    </tr>\n",
       "    <tr>\n",
       "      <th>total_acc</th>\n",
       "      <td>-0.274444</td>\n",
       "      <td>0.018124</td>\n",
       "      <td>-0.075069</td>\n",
       "      <td>-0.000334</td>\n",
       "      <td>0.066479</td>\n",
       "      <td>-0.002039</td>\n",
       "      <td>0.001390</td>\n",
       "      <td>-0.004322</td>\n",
       "    </tr>\n",
       "    <tr>\n",
       "      <th>open_il_12m</th>\n",
       "      <td>-0.014741</td>\n",
       "      <td>0.045340</td>\n",
       "      <td>-0.085410</td>\n",
       "      <td>NaN</td>\n",
       "      <td>0.061406</td>\n",
       "      <td>0.009136</td>\n",
       "      <td>0.017193</td>\n",
       "      <td>0.032355</td>\n",
       "    </tr>\n",
       "    <tr>\n",
       "      <th>open_il_24m</th>\n",
       "      <td>-0.003907</td>\n",
       "      <td>0.044563</td>\n",
       "      <td>-0.080072</td>\n",
       "      <td>NaN</td>\n",
       "      <td>0.057685</td>\n",
       "      <td>0.013553</td>\n",
       "      <td>0.011222</td>\n",
       "      <td>0.027263</td>\n",
       "    </tr>\n",
       "    <tr>\n",
       "      <th>inq_last_12m</th>\n",
       "      <td>0.024087</td>\n",
       "      <td>0.033295</td>\n",
       "      <td>-0.076445</td>\n",
       "      <td>NaN</td>\n",
       "      <td>0.053706</td>\n",
       "      <td>0.008969</td>\n",
       "      <td>0.018192</td>\n",
       "      <td>0.036803</td>\n",
       "    </tr>\n",
       "    <tr>\n",
       "      <th>mths_since_recent_bc_dlq</th>\n",
       "      <td>0.000444</td>\n",
       "      <td>0.013777</td>\n",
       "      <td>-0.054584</td>\n",
       "      <td>0.000731</td>\n",
       "      <td>0.052188</td>\n",
       "      <td>-0.011084</td>\n",
       "      <td>-0.007551</td>\n",
       "      <td>-0.011316</td>\n",
       "    </tr>\n",
       "    <tr>\n",
       "      <th>open_acc_6m</th>\n",
       "      <td>-0.014612</td>\n",
       "      <td>0.048171</td>\n",
       "      <td>-0.073054</td>\n",
       "      <td>NaN</td>\n",
       "      <td>0.049311</td>\n",
       "      <td>0.004366</td>\n",
       "      <td>0.018859</td>\n",
       "      <td>0.026079</td>\n",
       "    </tr>\n",
       "    <tr>\n",
       "      <th>mths_since_recent_revol_delinq</th>\n",
       "      <td>0.015610</td>\n",
       "      <td>0.009426</td>\n",
       "      <td>-0.038483</td>\n",
       "      <td>0.001583</td>\n",
       "      <td>0.039987</td>\n",
       "      <td>-0.011998</td>\n",
       "      <td>-0.009417</td>\n",
       "      <td>-0.014188</td>\n",
       "    </tr>\n",
       "    <tr>\n",
       "      <th>total_cu_tl</th>\n",
       "      <td>-0.055028</td>\n",
       "      <td>0.003369</td>\n",
       "      <td>-0.036131</td>\n",
       "      <td>NaN</td>\n",
       "      <td>0.036199</td>\n",
       "      <td>0.007783</td>\n",
       "      <td>0.003066</td>\n",
       "      <td>0.005065</td>\n",
       "    </tr>\n",
       "    <tr>\n",
       "      <th>inq_fi</th>\n",
       "      <td>0.027880</td>\n",
       "      <td>0.020453</td>\n",
       "      <td>-0.053485</td>\n",
       "      <td>NaN</td>\n",
       "      <td>0.035278</td>\n",
       "      <td>0.017119</td>\n",
       "      <td>0.012603</td>\n",
       "      <td>0.026206</td>\n",
       "    </tr>\n",
       "    <tr>\n",
       "      <th>open_rv_24m</th>\n",
       "      <td>0.032264</td>\n",
       "      <td>0.030968</td>\n",
       "      <td>-0.051285</td>\n",
       "      <td>NaN</td>\n",
       "      <td>0.033613</td>\n",
       "      <td>0.006882</td>\n",
       "      <td>0.010487</td>\n",
       "      <td>0.022219</td>\n",
       "    </tr>\n",
       "    <tr>\n",
       "      <th>il_util</th>\n",
       "      <td>0.085345</td>\n",
       "      <td>0.031147</td>\n",
       "      <td>-0.052185</td>\n",
       "      <td>NaN</td>\n",
       "      <td>0.030447</td>\n",
       "      <td>0.011515</td>\n",
       "      <td>0.012300</td>\n",
       "      <td>0.027405</td>\n",
       "    </tr>\n",
       "    <tr>\n",
       "      <th>open_rv_12m</th>\n",
       "      <td>0.007439</td>\n",
       "      <td>0.021954</td>\n",
       "      <td>-0.040188</td>\n",
       "      <td>NaN</td>\n",
       "      <td>0.027675</td>\n",
       "      <td>-0.001283</td>\n",
       "      <td>0.004813</td>\n",
       "      <td>0.023196</td>\n",
       "    </tr>\n",
       "    <tr>\n",
       "      <th>mths_since_last_delinq</th>\n",
       "      <td>0.033866</td>\n",
       "      <td>0.001554</td>\n",
       "      <td>-0.017645</td>\n",
       "      <td>0.001456</td>\n",
       "      <td>0.022375</td>\n",
       "      <td>-0.013486</td>\n",
       "      <td>-0.006138</td>\n",
       "      <td>-0.008953</td>\n",
       "    </tr>\n",
       "    <tr>\n",
       "      <th>pub_rec_bankruptcies</th>\n",
       "      <td>-0.056224</td>\n",
       "      <td>0.018374</td>\n",
       "      <td>-0.033079</td>\n",
       "      <td>0.000189</td>\n",
       "      <td>0.021978</td>\n",
       "      <td>-0.002847</td>\n",
       "      <td>0.000641</td>\n",
       "      <td>0.002262</td>\n",
       "    </tr>\n",
       "    <tr>\n",
       "      <th>fico_range_low</th>\n",
       "      <td>-0.091114</td>\n",
       "      <td>-0.104557</td>\n",
       "      <td>0.060162</td>\n",
       "      <td>-0.001466</td>\n",
       "      <td>0.018246</td>\n",
       "      <td>-0.023643</td>\n",
       "      <td>-0.016371</td>\n",
       "      <td>-0.031117</td>\n",
       "    </tr>\n",
       "    <tr>\n",
       "      <th>fico_range_high</th>\n",
       "      <td>-0.091120</td>\n",
       "      <td>-0.104556</td>\n",
       "      <td>0.060162</td>\n",
       "      <td>-0.001466</td>\n",
       "      <td>0.018245</td>\n",
       "      <td>-0.023643</td>\n",
       "      <td>-0.016371</td>\n",
       "      <td>-0.031117</td>\n",
       "    </tr>\n",
       "    <tr>\n",
       "      <th>emp_length</th>\n",
       "      <td>-0.218194</td>\n",
       "      <td>-0.006912</td>\n",
       "      <td>-0.008807</td>\n",
       "      <td>-0.004810</td>\n",
       "      <td>0.014535</td>\n",
       "      <td>-0.001291</td>\n",
       "      <td>-0.002822</td>\n",
       "      <td>-0.002261</td>\n",
       "    </tr>\n",
       "    <tr>\n",
       "      <th>mths_since_last_major_derog</th>\n",
       "      <td>0.011929</td>\n",
       "      <td>0.004152</td>\n",
       "      <td>-0.012748</td>\n",
       "      <td>0.000285</td>\n",
       "      <td>0.012207</td>\n",
       "      <td>-0.004417</td>\n",
       "      <td>-0.000929</td>\n",
       "      <td>-0.004467</td>\n",
       "    </tr>\n",
       "    <tr>\n",
       "      <th>pub_rec</th>\n",
       "      <td>-0.069297</td>\n",
       "      <td>0.013456</td>\n",
       "      <td>-0.019346</td>\n",
       "      <td>0.000835</td>\n",
       "      <td>0.010444</td>\n",
       "      <td>0.001882</td>\n",
       "      <td>-0.002191</td>\n",
       "      <td>0.003027</td>\n",
       "    </tr>\n",
       "    <tr>\n",
       "      <th>mo_sin_old_rev_tl_op</th>\n",
       "      <td>-0.910154</td>\n",
       "      <td>-0.042180</td>\n",
       "      <td>0.024344</td>\n",
       "      <td>-0.000759</td>\n",
       "      <td>0.005985</td>\n",
       "      <td>-0.006915</td>\n",
       "      <td>-0.002392</td>\n",
       "      <td>-0.010885</td>\n",
       "    </tr>\n",
       "    <tr>\n",
       "      <th>mo_sin_old_il_acct</th>\n",
       "      <td>-0.354805</td>\n",
       "      <td>-0.021929</td>\n",
       "      <td>0.009776</td>\n",
       "      <td>0.000101</td>\n",
       "      <td>0.005752</td>\n",
       "      <td>-0.000566</td>\n",
       "      <td>-0.000079</td>\n",
       "      <td>-0.007074</td>\n",
       "    </tr>\n",
       "    <tr>\n",
       "      <th>total_bal_il</th>\n",
       "      <td>-0.037444</td>\n",
       "      <td>0.000218</td>\n",
       "      <td>-0.007662</td>\n",
       "      <td>NaN</td>\n",
       "      <td>0.004628</td>\n",
       "      <td>0.000141</td>\n",
       "      <td>0.009115</td>\n",
       "      <td>0.004935</td>\n",
       "    </tr>\n",
       "    <tr>\n",
       "      <th>annual_inc</th>\n",
       "      <td>-0.038158</td>\n",
       "      <td>-0.012357</td>\n",
       "      <td>0.006806</td>\n",
       "      <td>-0.000462</td>\n",
       "      <td>0.001268</td>\n",
       "      <td>0.000187</td>\n",
       "      <td>0.000132</td>\n",
       "      <td>-0.001597</td>\n",
       "    </tr>\n",
       "    <tr>\n",
       "      <th>earliest_cr_line_month</th>\n",
       "      <td>-0.013945</td>\n",
       "      <td>0.001567</td>\n",
       "      <td>-0.000515</td>\n",
       "      <td>0.002588</td>\n",
       "      <td>-0.001159</td>\n",
       "      <td>0.003044</td>\n",
       "      <td>0.001394</td>\n",
       "      <td>-0.000042</td>\n",
       "    </tr>\n",
       "    <tr>\n",
       "      <th>max_bal_bc</th>\n",
       "      <td>-0.218208</td>\n",
       "      <td>-0.009394</td>\n",
       "      <td>0.011897</td>\n",
       "      <td>NaN</td>\n",
       "      <td>-0.002635</td>\n",
       "      <td>-0.007978</td>\n",
       "      <td>-0.002007</td>\n",
       "      <td>-0.010624</td>\n",
       "    </tr>\n",
       "    <tr>\n",
       "      <th>mths_since_last_record</th>\n",
       "      <td>0.123460</td>\n",
       "      <td>0.012660</td>\n",
       "      <td>-0.001375</td>\n",
       "      <td>0.001204</td>\n",
       "      <td>-0.007422</td>\n",
       "      <td>0.007842</td>\n",
       "      <td>0.002295</td>\n",
       "      <td>-0.004487</td>\n",
       "    </tr>\n",
       "    <tr>\n",
       "      <th>installment</th>\n",
       "      <td>-0.146784</td>\n",
       "      <td>0.020400</td>\n",
       "      <td>-0.005475</td>\n",
       "      <td>0.000510</td>\n",
       "      <td>-0.013708</td>\n",
       "      <td>0.014550</td>\n",
       "      <td>0.012630</td>\n",
       "      <td>0.010498</td>\n",
       "    </tr>\n",
       "    <tr>\n",
       "      <th>open_act_il</th>\n",
       "      <td>0.051910</td>\n",
       "      <td>0.004101</td>\n",
       "      <td>0.007206</td>\n",
       "      <td>NaN</td>\n",
       "      <td>-0.014089</td>\n",
       "      <td>0.000781</td>\n",
       "      <td>0.009345</td>\n",
       "      <td>0.002990</td>\n",
       "    </tr>\n",
       "    <tr>\n",
       "      <th>open_acc</th>\n",
       "      <td>-0.129936</td>\n",
       "      <td>0.021270</td>\n",
       "      <td>0.003642</td>\n",
       "      <td>0.000901</td>\n",
       "      <td>-0.019596</td>\n",
       "      <td>0.003842</td>\n",
       "      <td>0.005658</td>\n",
       "      <td>0.004144</td>\n",
       "    </tr>\n",
       "    <tr>\n",
       "      <th>all_util</th>\n",
       "      <td>0.057985</td>\n",
       "      <td>0.032773</td>\n",
       "      <td>-0.010222</td>\n",
       "      <td>NaN</td>\n",
       "      <td>-0.021360</td>\n",
       "      <td>0.016991</td>\n",
       "      <td>0.014365</td>\n",
       "      <td>0.025357</td>\n",
       "    </tr>\n",
       "    <tr>\n",
       "      <th>revol_util</th>\n",
       "      <td>-0.032477</td>\n",
       "      <td>0.049839</td>\n",
       "      <td>-0.011022</td>\n",
       "      <td>0.002035</td>\n",
       "      <td>-0.027550</td>\n",
       "      <td>0.019168</td>\n",
       "      <td>0.009454</td>\n",
       "      <td>0.011807</td>\n",
       "    </tr>\n",
       "    <tr>\n",
       "      <th>mths_since_rcnt_il</th>\n",
       "      <td>-0.048280</td>\n",
       "      <td>-0.018176</td>\n",
       "      <td>0.038661</td>\n",
       "      <td>NaN</td>\n",
       "      <td>-0.029294</td>\n",
       "      <td>-0.006663</td>\n",
       "      <td>-0.009943</td>\n",
       "      <td>-0.010497</td>\n",
       "    </tr>\n",
       "    <tr>\n",
       "      <th>loan_amnt</th>\n",
       "      <td>-0.170201</td>\n",
       "      <td>0.020050</td>\n",
       "      <td>0.038560</td>\n",
       "      <td>0.000216</td>\n",
       "      <td>-0.058831</td>\n",
       "      <td>0.015210</td>\n",
       "      <td>0.012513</td>\n",
       "      <td>0.011161</td>\n",
       "    </tr>\n",
       "    <tr>\n",
       "      <th>dti</th>\n",
       "      <td>-0.025770</td>\n",
       "      <td>0.043532</td>\n",
       "      <td>0.039806</td>\n",
       "      <td>0.002219</td>\n",
       "      <td>-0.073425</td>\n",
       "      <td>0.007174</td>\n",
       "      <td>0.006315</td>\n",
       "      <td>0.012341</td>\n",
       "    </tr>\n",
       "    <tr>\n",
       "      <th>int_rate</th>\n",
       "      <td>0.117282</td>\n",
       "      <td>0.180001</td>\n",
       "      <td>-0.053007</td>\n",
       "      <td>0.002291</td>\n",
       "      <td>-0.083597</td>\n",
       "      <td>0.031350</td>\n",
       "      <td>0.034999</td>\n",
       "      <td>0.058234</td>\n",
       "    </tr>\n",
       "    <tr>\n",
       "      <th>term</th>\n",
       "      <td>-0.049963</td>\n",
       "      <td>0.082719</td>\n",
       "      <td>0.104952</td>\n",
       "      <td>0.000850</td>\n",
       "      <td>-0.172530</td>\n",
       "      <td>0.019883</td>\n",
       "      <td>0.017232</td>\n",
       "      <td>0.029559</td>\n",
       "    </tr>\n",
       "  </tbody>\n",
       "</table>\n",
       "</div>"
      ],
      "text/plain": [
       "                                earliest_cr_line_year   \n",
       "mort_acc                                    -0.293164  \\\n",
       "total_acc                                   -0.274444   \n",
       "open_il_12m                                 -0.014741   \n",
       "open_il_24m                                 -0.003907   \n",
       "inq_last_12m                                 0.024087   \n",
       "mths_since_recent_bc_dlq                     0.000444   \n",
       "open_acc_6m                                 -0.014612   \n",
       "mths_since_recent_revol_delinq               0.015610   \n",
       "total_cu_tl                                 -0.055028   \n",
       "inq_fi                                       0.027880   \n",
       "open_rv_24m                                  0.032264   \n",
       "il_util                                      0.085345   \n",
       "open_rv_12m                                  0.007439   \n",
       "mths_since_last_delinq                       0.033866   \n",
       "pub_rec_bankruptcies                        -0.056224   \n",
       "fico_range_low                              -0.091114   \n",
       "fico_range_high                             -0.091120   \n",
       "emp_length                                  -0.218194   \n",
       "mths_since_last_major_derog                  0.011929   \n",
       "pub_rec                                     -0.069297   \n",
       "mo_sin_old_rev_tl_op                        -0.910154   \n",
       "mo_sin_old_il_acct                          -0.354805   \n",
       "total_bal_il                                -0.037444   \n",
       "annual_inc                                  -0.038158   \n",
       "earliest_cr_line_month                      -0.013945   \n",
       "max_bal_bc                                  -0.218208   \n",
       "mths_since_last_record                       0.123460   \n",
       "installment                                 -0.146784   \n",
       "open_act_il                                  0.051910   \n",
       "open_acc                                    -0.129936   \n",
       "all_util                                     0.057985   \n",
       "revol_util                                  -0.032477   \n",
       "mths_since_rcnt_il                          -0.048280   \n",
       "loan_amnt                                   -0.170201   \n",
       "dti                                         -0.025770   \n",
       "int_rate                                     0.117282   \n",
       "term                                        -0.049963   \n",
       "\n",
       "                                loan_status_Charged Off  loan_status_Current   \n",
       "mort_acc                                      -0.035098            -0.057054  \\\n",
       "total_acc                                      0.018124            -0.075069   \n",
       "open_il_12m                                    0.045340            -0.085410   \n",
       "open_il_24m                                    0.044563            -0.080072   \n",
       "inq_last_12m                                   0.033295            -0.076445   \n",
       "mths_since_recent_bc_dlq                       0.013777            -0.054584   \n",
       "open_acc_6m                                    0.048171            -0.073054   \n",
       "mths_since_recent_revol_delinq                 0.009426            -0.038483   \n",
       "total_cu_tl                                    0.003369            -0.036131   \n",
       "inq_fi                                         0.020453            -0.053485   \n",
       "open_rv_24m                                    0.030968            -0.051285   \n",
       "il_util                                        0.031147            -0.052185   \n",
       "open_rv_12m                                    0.021954            -0.040188   \n",
       "mths_since_last_delinq                         0.001554            -0.017645   \n",
       "pub_rec_bankruptcies                           0.018374            -0.033079   \n",
       "fico_range_low                                -0.104557             0.060162   \n",
       "fico_range_high                               -0.104556             0.060162   \n",
       "emp_length                                    -0.006912            -0.008807   \n",
       "mths_since_last_major_derog                    0.004152            -0.012748   \n",
       "pub_rec                                        0.013456            -0.019346   \n",
       "mo_sin_old_rev_tl_op                          -0.042180             0.024344   \n",
       "mo_sin_old_il_acct                            -0.021929             0.009776   \n",
       "total_bal_il                                   0.000218            -0.007662   \n",
       "annual_inc                                    -0.012357             0.006806   \n",
       "earliest_cr_line_month                         0.001567            -0.000515   \n",
       "max_bal_bc                                    -0.009394             0.011897   \n",
       "mths_since_last_record                         0.012660            -0.001375   \n",
       "installment                                    0.020400            -0.005475   \n",
       "open_act_il                                    0.004101             0.007206   \n",
       "open_acc                                       0.021270             0.003642   \n",
       "all_util                                       0.032773            -0.010222   \n",
       "revol_util                                     0.049839            -0.011022   \n",
       "mths_since_rcnt_il                            -0.018176             0.038661   \n",
       "loan_amnt                                      0.020050             0.038560   \n",
       "dti                                            0.043532             0.039806   \n",
       "int_rate                                       0.180001            -0.053007   \n",
       "term                                           0.082719             0.104952   \n",
       "\n",
       "                                loan_status_Default  loan_status_Fully Paid   \n",
       "mort_acc                                  -0.001276                0.086713  \\\n",
       "total_acc                                 -0.000334                0.066479   \n",
       "open_il_12m                                     NaN                0.061406   \n",
       "open_il_24m                                     NaN                0.057685   \n",
       "inq_last_12m                                    NaN                0.053706   \n",
       "mths_since_recent_bc_dlq                   0.000731                0.052188   \n",
       "open_acc_6m                                     NaN                0.049311   \n",
       "mths_since_recent_revol_delinq             0.001583                0.039987   \n",
       "total_cu_tl                                     NaN                0.036199   \n",
       "inq_fi                                          NaN                0.035278   \n",
       "open_rv_24m                                     NaN                0.033613   \n",
       "il_util                                         NaN                0.030447   \n",
       "open_rv_12m                                     NaN                0.027675   \n",
       "mths_since_last_delinq                     0.001456                0.022375   \n",
       "pub_rec_bankruptcies                       0.000189                0.021978   \n",
       "fico_range_low                            -0.001466                0.018246   \n",
       "fico_range_high                           -0.001466                0.018245   \n",
       "emp_length                                -0.004810                0.014535   \n",
       "mths_since_last_major_derog                0.000285                0.012207   \n",
       "pub_rec                                    0.000835                0.010444   \n",
       "mo_sin_old_rev_tl_op                      -0.000759                0.005985   \n",
       "mo_sin_old_il_acct                         0.000101                0.005752   \n",
       "total_bal_il                                    NaN                0.004628   \n",
       "annual_inc                                -0.000462                0.001268   \n",
       "earliest_cr_line_month                     0.002588               -0.001159   \n",
       "max_bal_bc                                      NaN               -0.002635   \n",
       "mths_since_last_record                     0.001204               -0.007422   \n",
       "installment                                0.000510               -0.013708   \n",
       "open_act_il                                     NaN               -0.014089   \n",
       "open_acc                                   0.000901               -0.019596   \n",
       "all_util                                        NaN               -0.021360   \n",
       "revol_util                                 0.002035               -0.027550   \n",
       "mths_since_rcnt_il                              NaN               -0.029294   \n",
       "loan_amnt                                  0.000216               -0.058831   \n",
       "dti                                        0.002219               -0.073425   \n",
       "int_rate                                   0.002291               -0.083597   \n",
       "term                                       0.000850               -0.172530   \n",
       "\n",
       "                                loan_status_In Grace Period   \n",
       "mort_acc                                          -0.008647  \\\n",
       "total_acc                                         -0.002039   \n",
       "open_il_12m                                        0.009136   \n",
       "open_il_24m                                        0.013553   \n",
       "inq_last_12m                                       0.008969   \n",
       "mths_since_recent_bc_dlq                          -0.011084   \n",
       "open_acc_6m                                        0.004366   \n",
       "mths_since_recent_revol_delinq                    -0.011998   \n",
       "total_cu_tl                                        0.007783   \n",
       "inq_fi                                             0.017119   \n",
       "open_rv_24m                                        0.006882   \n",
       "il_util                                            0.011515   \n",
       "open_rv_12m                                       -0.001283   \n",
       "mths_since_last_delinq                            -0.013486   \n",
       "pub_rec_bankruptcies                              -0.002847   \n",
       "fico_range_low                                    -0.023643   \n",
       "fico_range_high                                   -0.023643   \n",
       "emp_length                                        -0.001291   \n",
       "mths_since_last_major_derog                       -0.004417   \n",
       "pub_rec                                            0.001882   \n",
       "mo_sin_old_rev_tl_op                              -0.006915   \n",
       "mo_sin_old_il_acct                                -0.000566   \n",
       "total_bal_il                                       0.000141   \n",
       "annual_inc                                         0.000187   \n",
       "earliest_cr_line_month                             0.003044   \n",
       "max_bal_bc                                        -0.007978   \n",
       "mths_since_last_record                             0.007842   \n",
       "installment                                        0.014550   \n",
       "open_act_il                                        0.000781   \n",
       "open_acc                                           0.003842   \n",
       "all_util                                           0.016991   \n",
       "revol_util                                         0.019168   \n",
       "mths_since_rcnt_il                                -0.006663   \n",
       "loan_amnt                                          0.015210   \n",
       "dti                                                0.007174   \n",
       "int_rate                                           0.031350   \n",
       "term                                               0.019883   \n",
       "\n",
       "                                loan_status_Late (16-30 days)   \n",
       "mort_acc                                            -0.005427  \\\n",
       "total_acc                                            0.001390   \n",
       "open_il_12m                                          0.017193   \n",
       "open_il_24m                                          0.011222   \n",
       "inq_last_12m                                         0.018192   \n",
       "mths_since_recent_bc_dlq                            -0.007551   \n",
       "open_acc_6m                                          0.018859   \n",
       "mths_since_recent_revol_delinq                      -0.009417   \n",
       "total_cu_tl                                          0.003066   \n",
       "inq_fi                                               0.012603   \n",
       "open_rv_24m                                          0.010487   \n",
       "il_util                                              0.012300   \n",
       "open_rv_12m                                          0.004813   \n",
       "mths_since_last_delinq                              -0.006138   \n",
       "pub_rec_bankruptcies                                 0.000641   \n",
       "fico_range_low                                      -0.016371   \n",
       "fico_range_high                                     -0.016371   \n",
       "emp_length                                          -0.002822   \n",
       "mths_since_last_major_derog                         -0.000929   \n",
       "pub_rec                                             -0.002191   \n",
       "mo_sin_old_rev_tl_op                                -0.002392   \n",
       "mo_sin_old_il_acct                                  -0.000079   \n",
       "total_bal_il                                         0.009115   \n",
       "annual_inc                                           0.000132   \n",
       "earliest_cr_line_month                               0.001394   \n",
       "max_bal_bc                                          -0.002007   \n",
       "mths_since_last_record                               0.002295   \n",
       "installment                                          0.012630   \n",
       "open_act_il                                          0.009345   \n",
       "open_acc                                             0.005658   \n",
       "all_util                                             0.014365   \n",
       "revol_util                                           0.009454   \n",
       "mths_since_rcnt_il                                  -0.009943   \n",
       "loan_amnt                                            0.012513   \n",
       "dti                                                  0.006315   \n",
       "int_rate                                             0.034999   \n",
       "term                                                 0.017232   \n",
       "\n",
       "                                loan_status_Late (31-120 days)  \n",
       "mort_acc                                             -0.016196  \n",
       "total_acc                                            -0.004322  \n",
       "open_il_12m                                           0.032355  \n",
       "open_il_24m                                           0.027263  \n",
       "inq_last_12m                                          0.036803  \n",
       "mths_since_recent_bc_dlq                             -0.011316  \n",
       "open_acc_6m                                           0.026079  \n",
       "mths_since_recent_revol_delinq                       -0.014188  \n",
       "total_cu_tl                                           0.005065  \n",
       "inq_fi                                                0.026206  \n",
       "open_rv_24m                                           0.022219  \n",
       "il_util                                               0.027405  \n",
       "open_rv_12m                                           0.023196  \n",
       "mths_since_last_delinq                               -0.008953  \n",
       "pub_rec_bankruptcies                                  0.002262  \n",
       "fico_range_low                                       -0.031117  \n",
       "fico_range_high                                      -0.031117  \n",
       "emp_length                                           -0.002261  \n",
       "mths_since_last_major_derog                          -0.004467  \n",
       "pub_rec                                               0.003027  \n",
       "mo_sin_old_rev_tl_op                                 -0.010885  \n",
       "mo_sin_old_il_acct                                   -0.007074  \n",
       "total_bal_il                                          0.004935  \n",
       "annual_inc                                           -0.001597  \n",
       "earliest_cr_line_month                               -0.000042  \n",
       "max_bal_bc                                           -0.010624  \n",
       "mths_since_last_record                               -0.004487  \n",
       "installment                                           0.010498  \n",
       "open_act_il                                           0.002990  \n",
       "open_acc                                              0.004144  \n",
       "all_util                                              0.025357  \n",
       "revol_util                                            0.011807  \n",
       "mths_since_rcnt_il                                   -0.010497  \n",
       "loan_amnt                                             0.011161  \n",
       "dti                                                   0.012341  \n",
       "int_rate                                              0.058234  \n",
       "term                                                  0.029559  "
      ]
     },
     "execution_count": 8,
     "metadata": {},
     "output_type": "execute_result"
    }
   ],
   "source": [
    "pd.get_dummies(df[(continuas + list(['loan_status']))].copy()).corr().iloc[0:-8, -8:].sort_values('loan_status_Fully Paid', ascending = False)"
   ]
  },
  {
   "cell_type": "code",
   "execution_count": null,
   "metadata": {},
   "outputs": [],
   "source": []
  },
  {
   "cell_type": "code",
   "execution_count": null,
   "metadata": {},
   "outputs": [],
   "source": []
  },
  {
   "cell_type": "code",
   "execution_count": null,
   "metadata": {},
   "outputs": [],
   "source": []
  },
  {
   "cell_type": "code",
   "execution_count": 203,
   "metadata": {},
   "outputs": [
    {
     "data": {
      "text/plain": [
       "['id',\n",
       " 'url',\n",
       " 'zip_code',\n",
       " 'mths_since_last_record',\n",
       " 'il_util',\n",
       " 'mths_since_recent_bc_dlq',\n",
       " 'mths_since_rcnt_il',\n",
       " 'all_util',\n",
       " 'inq_fi',\n",
       " 'max_bal_bc',\n",
       " 'total_cu_tl',\n",
       " 'open_acc_6m',\n",
       " 'open_act_il',\n",
       " 'open_il_12m',\n",
       " 'total_bal_il',\n",
       " 'open_rv_12m',\n",
       " 'open_rv_24m',\n",
       " 'open_il_24m',\n",
       " 'inq_last_12m',\n",
       " 'mths_since_last_major_derog',\n",
       " 'mths_since_recent_revol_delinq',\n",
       " 'mths_since_last_delinq',\n",
       " 'emp_title',\n",
       " 'emp_length',\n",
       " 'mo_sin_old_il_acct',\n",
       " 'revol_util',\n",
       " 'dti',\n",
       " 'annual_inc',\n",
       " 'sub_grade',\n",
       " 'term',\n",
       " 'int_rate',\n",
       " 'installment',\n",
       " 'total_acc',\n",
       " 'fico_range_low',\n",
       " 'fico_range_high',\n",
       " 'pub_rec',\n",
       " 'pub_rec_bankruptcies',\n",
       " 'loan_amnt',\n",
       " 'mort_acc',\n",
       " 'mo_sin_old_rev_tl_op',\n",
       " 'open_acc',\n",
       " 'earliest_cr_line_month',\n",
       " 'earliest_cr_line_year']"
      ]
     },
     "execution_count": 203,
     "metadata": {},
     "output_type": "execute_result"
    }
   ],
   "source": [
    "ejemplo =  ['grade', 'home_ownership', 'verification_status', 'initial_list_status',\n",
    "       'purpose', 'addr_state', 'application_type', 'loan_status',\n",
    "       'total_acc_input', 'fico_range_high_input',\n",
    "       'mo_sin_old_rev_tl_op_input', 'pub_rec_bankruptcies_input',\n",
    "       'sub_grade_input', 'mths_since_last_record_input', 'loan_amnt_input',\n",
    "       'earliest_cr_line_month_input', 'mo_sin_old_il_acct_input',\n",
    "       'installment_input', 'earliest_cr_line_year_input', 'term_input',\n",
    "       'mths_since_recent_revol_delinq_input', 'mths_since_last_delinq_input',\n",
    "       'fico_range_low_input', 'mths_since_last_major_derog_input',\n",
    "       'revol_util_input', 'mths_since_recent_bc_dlq_input', 'dti_input',\n",
    "       'emp_length_input', 'open_acc_input', 'pub_rec_input',\n",
    "       'annual_inc_input', 'mort_acc_input', 'int_rate_input']\n",
    "\n",
    "[item for item in list(df.columns) if item not in ejemplo]"
   ]
  },
  {
   "attachments": {},
   "cell_type": "markdown",
   "metadata": {},
   "source": [
    "<h2 id=\"p_2\">Pregunta 2</h2>\n",
    "\n",
    "Tratar los valores missing tanto en las variables continuas como discretas de forma correcta. Recordad que si existen muchos valores missing no es adecuado eliminar dichas filas. Como guía, recordad que los valores missing: (0,5 pts)\n",
    "\n",
    "- En variables continuas se puede  sustituir por  la media o mediana, o por un valor muy distinto al resto de cantidades, que refleje que de algún modo que es un valor missing.\n",
    "- En variables discretas se pueden sustituir por la moda o una clase nueva que indique que no tienen valor, p.e. “SIN VALOR”.\n",
    "- Puede ser interesante, estudiar y evaluar algunos de los métodos de la librería sklearn.impute, como por ejemplo sklearn.impute.KNNimpute, que realiza una imputación mediante una regresión con KNN."
   ]
  },
  {
   "attachments": {},
   "cell_type": "markdown",
   "metadata": {},
   "source": [
    "    - Tratamiento de valores missing/ nulos"
   ]
  },
  {
   "cell_type": "code",
   "execution_count": 9,
   "metadata": {},
   "outputs": [
    {
     "data": {
      "text/html": [
       "<div>\n",
       "<style scoped>\n",
       "    .dataframe tbody tr th:only-of-type {\n",
       "        vertical-align: middle;\n",
       "    }\n",
       "\n",
       "    .dataframe tbody tr th {\n",
       "        vertical-align: top;\n",
       "    }\n",
       "\n",
       "    .dataframe thead th {\n",
       "        text-align: right;\n",
       "    }\n",
       "</style>\n",
       "<table border=\"1\" class=\"dataframe\">\n",
       "  <thead>\n",
       "    <tr style=\"text-align: right;\">\n",
       "      <th></th>\n",
       "      <th>index</th>\n",
       "      <th>N_null</th>\n",
       "      <th>%_null</th>\n",
       "      <th>tipo_en_df</th>\n",
       "    </tr>\n",
       "  </thead>\n",
       "  <tbody>\n",
       "    <tr>\n",
       "      <th>0</th>\n",
       "      <td>mths_since_last_record</td>\n",
       "      <td>165153</td>\n",
       "      <td>82.5765</td>\n",
       "      <td>float64</td>\n",
       "    </tr>\n",
       "    <tr>\n",
       "      <th>1</th>\n",
       "      <td>il_util</td>\n",
       "      <td>151144</td>\n",
       "      <td>75.5720</td>\n",
       "      <td>float64</td>\n",
       "    </tr>\n",
       "    <tr>\n",
       "      <th>2</th>\n",
       "      <td>mths_since_recent_bc_dlq</td>\n",
       "      <td>149075</td>\n",
       "      <td>74.5375</td>\n",
       "      <td>float64</td>\n",
       "    </tr>\n",
       "    <tr>\n",
       "      <th>3</th>\n",
       "      <td>mths_since_rcnt_il</td>\n",
       "      <td>145229</td>\n",
       "      <td>72.6145</td>\n",
       "      <td>float64</td>\n",
       "    </tr>\n",
       "    <tr>\n",
       "      <th>4</th>\n",
       "      <td>all_util</td>\n",
       "      <td>143672</td>\n",
       "      <td>71.8360</td>\n",
       "      <td>float64</td>\n",
       "    </tr>\n",
       "  </tbody>\n",
       "</table>\n",
       "</div>"
      ],
      "text/plain": [
       "                      index  N_null   %_null tipo_en_df\n",
       "0    mths_since_last_record  165153  82.5765    float64\n",
       "1                   il_util  151144  75.5720    float64\n",
       "2  mths_since_recent_bc_dlq  149075  74.5375    float64\n",
       "3        mths_since_rcnt_il  145229  72.6145    float64\n",
       "4                  all_util  143672  71.8360    float64"
      ]
     },
     "execution_count": 9,
     "metadata": {},
     "output_type": "execute_result"
    }
   ],
   "source": [
    "# Identificacion de valores nulos\n",
    "\n",
    "nulos = pd.DataFrame(df.isnull().sum().loc[lambda x : x != 0], columns = ['N_null']).sort_values('N_null', ascending = False).reset_index()\n",
    "nulos['%_null'] = nulos['N_null'] * 100 / df.shape[0]\n",
    "nulos = nulos.merge(b, on = 'index', how = 'left').iloc[:, 0:4]\n",
    "\n",
    "nulos.head(5)"
   ]
  },
  {
   "cell_type": "code",
   "execution_count": 10,
   "metadata": {},
   "outputs": [],
   "source": [
    "# Hago la conversion de los nulos en un DF nuevo\n",
    "df2 = df.copy()"
   ]
  },
  {
   "cell_type": "code",
   "execution_count": 11,
   "metadata": {},
   "outputs": [],
   "source": [
    "# Supresion de nulos en categoricas\n",
    "\n",
    "discretas_con_nulos = list(nulos[(nulos['tipo_en_df'] == 'object')].iloc[:, 0]) # De las columnas con nulos, selecciono las no continuas\n",
    "\n",
    "df2[discretas_con_nulos] = df2[discretas_con_nulos].fillna('nulo') # Para las variables en cuestion, inserto un string que sustituya los valores nulos"
   ]
  },
  {
   "cell_type": "code",
   "execution_count": 12,
   "metadata": {},
   "outputs": [],
   "source": [
    "# Supresion de nulos en continuas con muchos nulos (defino el alto nivel de nulos en mayor o igual al 1%)\n",
    "\n",
    "continuas_mas_nulos = list(nulos[((nulos['tipo_en_df'] == 'float64') & ((nulos['%_null'] >= 1)))].iloc[:, 0]) # Selecciono las continuas con mas nulos\n",
    "\n",
    "for value in continuas_mas_nulos: # Reemplazo los nulos por valores atipicos muy altos, especificos para cada variable\n",
    "    Q1 = df2[value].quantile(0.25)\n",
    "    Q3 = df2[value].quantile(0.75)\n",
    "    k = round( Q3 + 1500 * (Q3 - Q1), 0)\n",
    "    df2[value] = df2[value].fillna(k)"
   ]
  },
  {
   "cell_type": "code",
   "execution_count": 13,
   "metadata": {},
   "outputs": [],
   "source": [
    "# Supresion de nulos en continuas con pocos nulos (defino el alto nivel de nulos en menos del 1%)\n",
    "\n",
    "continuas_menos_nulos = list(nulos[((nulos['tipo_en_df'] == 'float64') & ((nulos['%_null'] < 1)))].iloc[:, 0]) # Selecciono las continuas con menos nulos\n",
    "\n",
    "for value in continuas_menos_nulos: # Reemplazo los nulos por valores medios de cada variable\n",
    "    k = round(np.nanmean(df2['revol_util']), 0)\n",
    "    df2[value] = df2[value].fillna(k)"
   ]
  },
  {
   "cell_type": "code",
   "execution_count": 14,
   "metadata": {},
   "outputs": [
    {
     "data": {
      "text/html": [
       "<div>\n",
       "<style scoped>\n",
       "    .dataframe tbody tr th:only-of-type {\n",
       "        vertical-align: middle;\n",
       "    }\n",
       "\n",
       "    .dataframe tbody tr th {\n",
       "        vertical-align: top;\n",
       "    }\n",
       "\n",
       "    .dataframe thead th {\n",
       "        text-align: right;\n",
       "    }\n",
       "</style>\n",
       "<table border=\"1\" class=\"dataframe\">\n",
       "  <thead>\n",
       "    <tr style=\"text-align: right;\">\n",
       "      <th></th>\n",
       "      <th>N_null</th>\n",
       "    </tr>\n",
       "  </thead>\n",
       "  <tbody>\n",
       "  </tbody>\n",
       "</table>\n",
       "</div>"
      ],
      "text/plain": [
       "Empty DataFrame\n",
       "Columns: [N_null]\n",
       "Index: []"
      ]
     },
     "execution_count": 14,
     "metadata": {},
     "output_type": "execute_result"
    }
   ],
   "source": [
    "# Compruebo la correcta sustitucion de todos los valores nulos\n",
    "nulos_2 = pd.DataFrame(df2.isnull().sum().loc[lambda x : x != 0], columns = ['N_null'])\n",
    "nulos_2"
   ]
  },
  {
   "attachments": {},
   "cell_type": "markdown",
   "metadata": {},
   "source": [
    "<h2 id=\"p_3\">Pregunta 3</h2>\n",
    "\n",
    "Transformar las variables continuas, si fuera necesario, y las categóricas correctamente. (0,5 pts)"
   ]
  },
  {
   "attachments": {},
   "cell_type": "markdown",
   "metadata": {},
   "source": [
    "    - Transformación discretas"
   ]
  },
  {
   "cell_type": "code",
   "execution_count": 15,
   "metadata": {},
   "outputs": [
    {
     "data": {
      "text/plain": [
       "id                     200000\n",
       "url                    199998\n",
       "zip_code                  888\n",
       "emp_title               65613\n",
       "verification_status         4\n",
       "home_ownership              5\n",
       "grade                       8\n",
       "sub_grade                   6\n",
       "loan_status                 8\n",
       "purpose                    15\n",
       "addr_state                 51\n",
       "application_type            3\n",
       "initial_list_status         3\n",
       "dtype: int64"
      ]
     },
     "execution_count": 15,
     "metadata": {},
     "output_type": "execute_result"
    }
   ],
   "source": [
    "df2[discretas].nunique()"
   ]
  },
  {
   "cell_type": "code",
   "execution_count": 16,
   "metadata": {},
   "outputs": [
    {
     "data": {
      "text/plain": [
       "emp_title     84\n",
       "count        240\n",
       "dtype: int64"
      ]
     },
     "execution_count": 16,
     "metadata": {},
     "output_type": "execute_result"
    }
   ],
   "source": [
    "a = (df2['emp_title'].str.lower() # Intento agrupar manualmente los trabajos con nombres mas similares\n",
    "                    .str.replace(r'.*manager.*', 'manager', case = False)\n",
    "                    .str.replace(r'.*management.*', 'manager', case = False)\n",
    "                    .str.replace(r'.*driver.*', 'driver', case = False)\n",
    "                    .str.replace(r'.*assistant.*', 'assistant', case = False)\n",
    "                    .str.replace(r'.*secretary.*', 'secretary', case = False)\n",
    "                    .str.replace(r'.*receptionist.*', 'secretary', case = False)\n",
    "                    .str.replace(r'.*nurse.*', 'nurse', case = False)\n",
    "                    .str.replace(r'.*rn.*', 'nurse', case = False)\n",
    "                    .str.replace(r'.*lpn.*', 'nurse', case = False)\n",
    "                    .str.replace(r'.*bookkeeper.*', 'accountant', case = False)\n",
    "                    .str.replace(r'.*accountant.*', 'accountant', case = False)\n",
    "                    .str.replace(r'.*accounting.*', 'accountant', case = False)\n",
    "                    .str.replace(r'.*vp.*', 'vice president', case = False)\n",
    "                    .str.replace(r'.*developer.*', 'developer', case = False)\n",
    "                    .str.replace(r'.*programmer.*', 'programmmer', case = False)\n",
    "                    .str.replace(r'.*engineer.*', 'engineer', case = False)\n",
    "                    .str.replace(r'.*sales.*', 'sales', case = False)\n",
    "                    .str.replace(r'.*executive.*', 'executive', case = False)\n",
    "                    )\n",
    "\n",
    "a2 = pd.DataFrame(a)\n",
    "a2= (a2.merge(pd.DataFrame(a2['emp_title'].value_counts().reset_index()), on = 'emp_title', how = 'left')) # Asocio los trabajos con su numero de repeticiones\n",
    "\n",
    "\n",
    "def f_4(row): # Los empleos con menos valores pasan a \"otros\"\n",
    "    if row['count'] < 200:\n",
    "        val = 'otros'\n",
    "    else:\n",
    "        val = row['emp_title'] \n",
    "    return val\n",
    "a2['emp_title'] = a2.apply(f_4, axis=1)\n",
    "\n",
    "a2.nunique()\n"
   ]
  },
  {
   "cell_type": "code",
   "execution_count": 17,
   "metadata": {},
   "outputs": [
    {
     "data": {
      "text/plain": [
       "id                     200000\n",
       "url                    199998\n",
       "zip_code                  888\n",
       "emp_title                  84\n",
       "verification_status         4\n",
       "home_ownership              5\n",
       "grade                       8\n",
       "sub_grade                   6\n",
       "loan_status                 8\n",
       "purpose                    15\n",
       "addr_state                 51\n",
       "application_type            3\n",
       "initial_list_status         3\n",
       "dtype: int64"
      ]
     },
     "execution_count": 17,
     "metadata": {},
     "output_type": "execute_result"
    }
   ],
   "source": [
    "df2['emp_title'] = a2['emp_title'] # Aplico el cambio al DF de trabajo\n",
    "df2[discretas].nunique()"
   ]
  },
  {
   "cell_type": "code",
   "execution_count": 120,
   "metadata": {},
   "outputs": [],
   "source": [
    "#(df2['zip_code']).str.lower().value_counts().iloc[0:60].sum()/ df2.shape[0]"
   ]
  },
  {
   "cell_type": "code",
   "execution_count": 18,
   "metadata": {},
   "outputs": [
    {
     "data": {
      "text/plain": [
       "id                     200000\n",
       "url                    199998\n",
       "zip_code                  300\n",
       "emp_title                  84\n",
       "verification_status         4\n",
       "home_ownership              5\n",
       "grade                       8\n",
       "sub_grade                   6\n",
       "loan_status                 8\n",
       "purpose                    15\n",
       "addr_state                 51\n",
       "application_type            3\n",
       "initial_list_status         3\n",
       "dtype: int64"
      ]
     },
     "execution_count": 18,
     "metadata": {},
     "output_type": "execute_result"
    }
   ],
   "source": [
    "# Hago lo mismo para la variables de los codigos postales\n",
    "\n",
    "a2 = pd.DataFrame(df2['zip_code'])\n",
    "a2= (a2.merge(pd.DataFrame(a2['zip_code'].value_counts().reset_index()), on = 'zip_code', how = 'left')) # Asocio los codigos postales con su numero de repeticiones\n",
    "\n",
    "def f_4(row): # Los empleos con menos valores pasan a \"otros\"\n",
    "    if row['count'] < 200:\n",
    "        val = 'otros'\n",
    "    else:\n",
    "        val = row['zip_code'] \n",
    "    return val\n",
    "a2['zip_code'] = a2.apply(f_4, axis=1)\n",
    "\n",
    "df2['zip_code'] = a2['zip_code'] # Aplico el cambio al DF de trabajo\n",
    "df2[discretas].nunique()"
   ]
  },
  {
   "cell_type": "code",
   "execution_count": 19,
   "metadata": {},
   "outputs": [
    {
     "data": {
      "text/plain": [
       "purpose\n",
       "debt_consolidation    117419\n",
       "credit_card            46087\n",
       "home_improvement       13051\n",
       "other                  10167\n",
       "major_purchase          3856\n",
       "medical                 2192\n",
       "car                     1837\n",
       "small_business          1804\n",
       "vacation                1389\n",
       "moving                  1288\n",
       "house                    804\n",
       "renewable_energy         101\n",
       "nulo                       3\n",
       "educational                1\n",
       "wedding                    1\n",
       "Name: count, dtype: int64"
      ]
     },
     "execution_count": 19,
     "metadata": {},
     "output_type": "execute_result"
    }
   ],
   "source": [
    "# Para el motivo del prestamo, como solo hay 4 observaciones sueltas, elimino esas filas que no representan una cantidad significativa\n",
    "df2['purpose'].value_counts()"
   ]
  },
  {
   "cell_type": "code",
   "execution_count": 20,
   "metadata": {},
   "outputs": [],
   "source": [
    "# Eliminacion\n",
    "df2 = df2[~df2['purpose'].isin(['nulo', 'educational', 'wedding'])]"
   ]
  },
  {
   "cell_type": "code",
   "execution_count": 21,
   "metadata": {},
   "outputs": [
    {
     "data": {
      "text/plain": [
       "home_ownership\n",
       "MORTGAGE    99478\n",
       "RENT        78985\n",
       "OWN         21530\n",
       "ANY             2\n",
       "Name: count, dtype: int64"
      ]
     },
     "execution_count": 21,
     "metadata": {},
     "output_type": "execute_result"
    }
   ],
   "source": [
    "# Procedo a eliminar tambien el valor suelto de home ownership\n",
    "df2['home_ownership'].value_counts()"
   ]
  },
  {
   "cell_type": "code",
   "execution_count": 22,
   "metadata": {},
   "outputs": [],
   "source": [
    "df2 = df2[~df2['home_ownership'].isin(['ANY'])]"
   ]
  },
  {
   "attachments": {},
   "cell_type": "markdown",
   "metadata": {},
   "source": [
    "<h2 id=\"p_4\">Pregunta 4</h2>\n",
    "\n",
    "- Partir el conjunto de datos en un subconjunto de entrenamiento y otro de test. Recordad, que si la variable objetivo está desbalanceada, es fundamental, realizar una partición que conserve las proporciones originales en cada subconjunto. (0,5pt)"
   ]
  },
  {
   "cell_type": "code",
   "execution_count": 23,
   "metadata": {},
   "outputs": [],
   "source": [
    "# Seleccion de valores target\n",
    "\n",
    "df2 = df2[df2['loan_status'].isin(['Current', 'Fully Paid'])].replace({'Current':0, 'Fully Paid':1})"
   ]
  },
  {
   "cell_type": "code",
   "execution_count": 24,
   "metadata": {},
   "outputs": [],
   "source": [
    "# Balanceo de la variable target\n",
    "\n",
    "n_balance = min(df2.shape[0]-sum(df2['loan_status']), sum(df2['loan_status'])) # Numero de observaciones maximo en ambas observaciones\n",
    "\n",
    "df2 = pd.concat([df2[df2['loan_status'] == 0].sample(n_balance, random_state = 123),\n",
    "                 df2[df2['loan_status'] == 1].sample(n_balance, random_state = 123)\n",
    "                 ])\n",
    "\n",
    "df2 = df2.sample(df2.shape[0], random_state = 123) # Mezcla de observaciones despues de la seleccion de balanceo"
   ]
  },
  {
   "cell_type": "code",
   "execution_count": 25,
   "metadata": {},
   "outputs": [],
   "source": [
    "train_data, test_data = train_test_split(df2, test_size = 0.4, random_state = 123, stratify = df2.loan_status)"
   ]
  },
  {
   "attachments": {},
   "cell_type": "markdown",
   "metadata": {},
   "source": [
    "    - Transformacion de varialbes (correspondiente a preg. 3) Dummies y estandarizacion"
   ]
  },
  {
   "cell_type": "code",
   "execution_count": 26,
   "metadata": {},
   "outputs": [
    {
     "data": {
      "text/html": [
       "<div>\n",
       "<style scoped>\n",
       "    .dataframe tbody tr th:only-of-type {\n",
       "        vertical-align: middle;\n",
       "    }\n",
       "\n",
       "    .dataframe tbody tr th {\n",
       "        vertical-align: top;\n",
       "    }\n",
       "\n",
       "    .dataframe thead th {\n",
       "        text-align: right;\n",
       "    }\n",
       "</style>\n",
       "<table border=\"1\" class=\"dataframe\">\n",
       "  <thead>\n",
       "    <tr style=\"text-align: right;\">\n",
       "      <th></th>\n",
       "      <th>id</th>\n",
       "      <th>url</th>\n",
       "      <th>mths_since_last_record</th>\n",
       "      <th>il_util</th>\n",
       "      <th>mths_since_recent_bc_dlq</th>\n",
       "      <th>mths_since_rcnt_il</th>\n",
       "      <th>all_util</th>\n",
       "      <th>inq_fi</th>\n",
       "      <th>max_bal_bc</th>\n",
       "      <th>total_cu_tl</th>\n",
       "      <th>...</th>\n",
       "      <th>addr_state_VA</th>\n",
       "      <th>addr_state_VT</th>\n",
       "      <th>addr_state_WA</th>\n",
       "      <th>addr_state_WI</th>\n",
       "      <th>addr_state_WV</th>\n",
       "      <th>addr_state_WY</th>\n",
       "      <th>application_type_Individual</th>\n",
       "      <th>application_type_Joint App</th>\n",
       "      <th>initial_list_status_f</th>\n",
       "      <th>initial_list_status_w</th>\n",
       "    </tr>\n",
       "  </thead>\n",
       "  <tbody>\n",
       "    <tr>\n",
       "      <th>285124</th>\n",
       "      <td>28554539</td>\n",
       "      <td>https://lendingclub.com/browse/loanDetail.acti...</td>\n",
       "      <td>55588.0</td>\n",
       "      <td>46585.0</td>\n",
       "      <td>57058.0</td>\n",
       "      <td>25524.0</td>\n",
       "      <td>43573.0</td>\n",
       "      <td>1501.0</td>\n",
       "      <td>7772975.0</td>\n",
       "      <td>3002.0</td>\n",
       "      <td>...</td>\n",
       "      <td>False</td>\n",
       "      <td>False</td>\n",
       "      <td>False</td>\n",
       "      <td>False</td>\n",
       "      <td>False</td>\n",
       "      <td>False</td>\n",
       "      <td>True</td>\n",
       "      <td>False</td>\n",
       "      <td>False</td>\n",
       "      <td>True</td>\n",
       "    </tr>\n",
       "    <tr>\n",
       "      <th>94681</th>\n",
       "      <td>105052308</td>\n",
       "      <td>https://lendingclub.com/browse/loanDetail.acti...</td>\n",
       "      <td>59.0</td>\n",
       "      <td>65.0</td>\n",
       "      <td>57058.0</td>\n",
       "      <td>30.0</td>\n",
       "      <td>61.0</td>\n",
       "      <td>2.0</td>\n",
       "      <td>1371.0</td>\n",
       "      <td>0.0</td>\n",
       "      <td>...</td>\n",
       "      <td>False</td>\n",
       "      <td>False</td>\n",
       "      <td>False</td>\n",
       "      <td>False</td>\n",
       "      <td>False</td>\n",
       "      <td>False</td>\n",
       "      <td>True</td>\n",
       "      <td>False</td>\n",
       "      <td>True</td>\n",
       "      <td>False</td>\n",
       "    </tr>\n",
       "  </tbody>\n",
       "</table>\n",
       "<p>2 rows × 509 columns</p>\n",
       "</div>"
      ],
      "text/plain": [
       "               id                                                url   \n",
       "285124   28554539  https://lendingclub.com/browse/loanDetail.acti...  \\\n",
       "94681   105052308  https://lendingclub.com/browse/loanDetail.acti...   \n",
       "\n",
       "        mths_since_last_record  il_util  mths_since_recent_bc_dlq   \n",
       "285124                 55588.0  46585.0                   57058.0  \\\n",
       "94681                     59.0     65.0                   57058.0   \n",
       "\n",
       "        mths_since_rcnt_il  all_util  inq_fi  max_bal_bc  total_cu_tl  ...   \n",
       "285124             25524.0   43573.0  1501.0   7772975.0       3002.0  ...  \\\n",
       "94681                 30.0      61.0     2.0      1371.0          0.0  ...   \n",
       "\n",
       "        addr_state_VA  addr_state_VT  addr_state_WA  addr_state_WI   \n",
       "285124          False          False          False          False  \\\n",
       "94681           False          False          False          False   \n",
       "\n",
       "        addr_state_WV  addr_state_WY  application_type_Individual   \n",
       "285124          False          False                         True  \\\n",
       "94681           False          False                         True   \n",
       "\n",
       "        application_type_Joint App  initial_list_status_f   \n",
       "285124                       False                  False  \\\n",
       "94681                        False                   True   \n",
       "\n",
       "        initial_list_status_w  \n",
       "285124                   True  \n",
       "94681                   False  \n",
       "\n",
       "[2 rows x 509 columns]"
      ]
     },
     "execution_count": 26,
     "metadata": {},
     "output_type": "execute_result"
    }
   ],
   "source": [
    "# Paso las variables categoricas a dummie\n",
    "\n",
    "discretas_2 = discretas.copy()\n",
    "discretas_2.remove('loan_status')\n",
    "discretas_2\n",
    "\n",
    "train_data = pd.get_dummies(train_data, columns = (discretas_2[2:])) # Excluyo el identificador y la url\n",
    "test_data = pd.get_dummies(test_data, columns = (discretas_2[2:])) # Excluyo el identificador y la url\n",
    "\n",
    "train_data.head(2)"
   ]
  },
  {
   "cell_type": "code",
   "execution_count": 27,
   "metadata": {},
   "outputs": [],
   "source": [
    "train_norm = train_data.copy()\n",
    "test_norm = test_data.copy()\n",
    "\n",
    "scaler = StandardScaler().fit(train_norm.iloc[:, 2:])\n",
    "#.iloc[:, 2:]\n",
    "train_norm.iloc[:, 2:] = scaler.transform(train_norm.iloc[:, 2:])\n",
    "test_norm.iloc[:, 2:] = scaler.transform(test_norm.iloc[:, 2:])"
   ]
  },
  {
   "attachments": {},
   "cell_type": "markdown",
   "metadata": {},
   "source": [
    "<h2 id=\"p_5\">Pregunta 5</h2>\n",
    "\n",
    "Vamos ha evaluar diferentes algoritmos de clasificación, para los cuales necesitaremos hacer los siguientes pasos:\n",
    "- Realizar algún tipo de transformación como escalado o normalización, si el método lo necesita.\n",
    "- Entrenar el modelo con el conjunto de datos de entrenamiento.\n",
    "- Mostrar cómo de bueno ha sido el entrenamiento.\n",
    "- Evaluar el modelo con el conjunto de datos de test. Para ellos se pedirán las siguiente métricas:\n",
    "  - Accuracy\n",
    "  - Precision\n",
    "  - Recall\n",
    "  - Confusion Matrix\n",
    "  - F-SCORE\n",
    "  - Curva ROC\n",
    "  - Area bajo la curva.\n",
    "\n",
    "- Todos estos pasos serán necesarios evaluarlos para cada uno de los siguientes algoritmos:\n",
    "  - A.\tRegresión logística (1 pt)\n",
    "  - B.\tK-NN (1pt)\n",
    "  - C.\tArbol de decisión simple (1pt)\n",
    "  - D.\tBagging Classifier (1pt)\n",
    "  - E.\tRandom Forest (1pt)\n",
    "  - F.\tGradientBoost (1pt)\n",
    "  - G.\tXGBoost. (1pt)"
   ]
  },
  {
   "attachments": {},
   "cell_type": "markdown",
   "metadata": {},
   "source": [
    "    - Preparacion DFs y seleccion de variable objetivo"
   ]
  },
  {
   "cell_type": "code",
   "execution_count": 29,
   "metadata": {},
   "outputs": [],
   "source": [
    "non_targets = list(train_norm.columns)\n",
    "non_targets.remove('loan_status')\n",
    "\n",
    "X_train = train_norm[non_targets].iloc[:, 2:]\n",
    "y_train = train_norm['loan_status']\n",
    "\n",
    "X_test = test_norm[non_targets].iloc[:, 2:]\n",
    "y_test = test_norm['loan_status']"
   ]
  },
  {
   "attachments": {},
   "cell_type": "markdown",
   "metadata": {},
   "source": [
    "    - Regresion logistica"
   ]
  },
  {
   "cell_type": "code",
   "execution_count": 42,
   "metadata": {},
   "outputs": [
    {
     "name": "stderr",
     "output_type": "stream",
     "text": [
      "C:\\Users\\alvar\\AppData\\Roaming\\Python\\Python311\\site-packages\\sklearn\\linear_model\\_logistic.py:458: ConvergenceWarning: lbfgs failed to converge (status=1):\n",
      "STOP: TOTAL NO. of ITERATIONS REACHED LIMIT.\n",
      "\n",
      "Increase the number of iterations (max_iter) or scale the data as shown in:\n",
      "    https://scikit-learn.org/stable/modules/preprocessing.html\n",
      "Please also refer to the documentation for alternative solver options:\n",
      "    https://scikit-learn.org/stable/modules/linear_model.html#logistic-regression\n",
      "  n_iter_i = _check_optimize_result(\n"
     ]
    },
    {
     "data": {
      "text/html": [
       "<style>#sk-container-id-2 {color: black;background-color: white;}#sk-container-id-2 pre{padding: 0;}#sk-container-id-2 div.sk-toggleable {background-color: white;}#sk-container-id-2 label.sk-toggleable__label {cursor: pointer;display: block;width: 100%;margin-bottom: 0;padding: 0.3em;box-sizing: border-box;text-align: center;}#sk-container-id-2 label.sk-toggleable__label-arrow:before {content: \"▸\";float: left;margin-right: 0.25em;color: #696969;}#sk-container-id-2 label.sk-toggleable__label-arrow:hover:before {color: black;}#sk-container-id-2 div.sk-estimator:hover label.sk-toggleable__label-arrow:before {color: black;}#sk-container-id-2 div.sk-toggleable__content {max-height: 0;max-width: 0;overflow: hidden;text-align: left;background-color: #f0f8ff;}#sk-container-id-2 div.sk-toggleable__content pre {margin: 0.2em;color: black;border-radius: 0.25em;background-color: #f0f8ff;}#sk-container-id-2 input.sk-toggleable__control:checked~div.sk-toggleable__content {max-height: 200px;max-width: 100%;overflow: auto;}#sk-container-id-2 input.sk-toggleable__control:checked~label.sk-toggleable__label-arrow:before {content: \"▾\";}#sk-container-id-2 div.sk-estimator input.sk-toggleable__control:checked~label.sk-toggleable__label {background-color: #d4ebff;}#sk-container-id-2 div.sk-label input.sk-toggleable__control:checked~label.sk-toggleable__label {background-color: #d4ebff;}#sk-container-id-2 input.sk-hidden--visually {border: 0;clip: rect(1px 1px 1px 1px);clip: rect(1px, 1px, 1px, 1px);height: 1px;margin: -1px;overflow: hidden;padding: 0;position: absolute;width: 1px;}#sk-container-id-2 div.sk-estimator {font-family: monospace;background-color: #f0f8ff;border: 1px dotted black;border-radius: 0.25em;box-sizing: border-box;margin-bottom: 0.5em;}#sk-container-id-2 div.sk-estimator:hover {background-color: #d4ebff;}#sk-container-id-2 div.sk-parallel-item::after {content: \"\";width: 100%;border-bottom: 1px solid gray;flex-grow: 1;}#sk-container-id-2 div.sk-label:hover label.sk-toggleable__label {background-color: #d4ebff;}#sk-container-id-2 div.sk-serial::before {content: \"\";position: absolute;border-left: 1px solid gray;box-sizing: border-box;top: 0;bottom: 0;left: 50%;z-index: 0;}#sk-container-id-2 div.sk-serial {display: flex;flex-direction: column;align-items: center;background-color: white;padding-right: 0.2em;padding-left: 0.2em;position: relative;}#sk-container-id-2 div.sk-item {position: relative;z-index: 1;}#sk-container-id-2 div.sk-parallel {display: flex;align-items: stretch;justify-content: center;background-color: white;position: relative;}#sk-container-id-2 div.sk-item::before, #sk-container-id-2 div.sk-parallel-item::before {content: \"\";position: absolute;border-left: 1px solid gray;box-sizing: border-box;top: 0;bottom: 0;left: 50%;z-index: -1;}#sk-container-id-2 div.sk-parallel-item {display: flex;flex-direction: column;z-index: 1;position: relative;background-color: white;}#sk-container-id-2 div.sk-parallel-item:first-child::after {align-self: flex-end;width: 50%;}#sk-container-id-2 div.sk-parallel-item:last-child::after {align-self: flex-start;width: 50%;}#sk-container-id-2 div.sk-parallel-item:only-child::after {width: 0;}#sk-container-id-2 div.sk-dashed-wrapped {border: 1px dashed gray;margin: 0 0.4em 0.5em 0.4em;box-sizing: border-box;padding-bottom: 0.4em;background-color: white;}#sk-container-id-2 div.sk-label label {font-family: monospace;font-weight: bold;display: inline-block;line-height: 1.2em;}#sk-container-id-2 div.sk-label-container {text-align: center;}#sk-container-id-2 div.sk-container {/* jupyter's `normalize.less` sets `[hidden] { display: none; }` but bootstrap.min.css set `[hidden] { display: none !important; }` so we also need the `!important` here to be able to override the default hidden behavior on the sphinx rendered scikit-learn.org. See: https://github.com/scikit-learn/scikit-learn/issues/21755 */display: inline-block !important;position: relative;}#sk-container-id-2 div.sk-text-repr-fallback {display: none;}</style><div id=\"sk-container-id-2\" class=\"sk-top-container\"><div class=\"sk-text-repr-fallback\"><pre>LogisticRegression()</pre><b>In a Jupyter environment, please rerun this cell to show the HTML representation or trust the notebook. <br />On GitHub, the HTML representation is unable to render, please try loading this page with nbviewer.org.</b></div><div class=\"sk-container\" hidden><div class=\"sk-item\"><div class=\"sk-estimator sk-toggleable\"><input class=\"sk-toggleable__control sk-hidden--visually\" id=\"sk-estimator-id-2\" type=\"checkbox\" checked><label for=\"sk-estimator-id-2\" class=\"sk-toggleable__label sk-toggleable__label-arrow\">LogisticRegression</label><div class=\"sk-toggleable__content\"><pre>LogisticRegression()</pre></div></div></div></div></div>"
      ],
      "text/plain": [
       "LogisticRegression()"
      ]
     },
     "execution_count": 42,
     "metadata": {},
     "output_type": "execute_result"
    }
   ],
   "source": [
    "lr = LogisticRegression()\n",
    "lr.fit(X_train, y_train)\n",
    "#lr.fit(train_norm[non_targets].iloc[:, 2:], train_norm[targets[0]].astype('str'))"
   ]
  },
  {
   "cell_type": "code",
   "execution_count": 43,
   "metadata": {},
   "outputs": [
    {
     "data": {
      "text/plain": [
       "0.7541753095395932"
      ]
     },
     "execution_count": 43,
     "metadata": {},
     "output_type": "execute_result"
    }
   ],
   "source": [
    "# Accuracy\n",
    "lr_accuracy = lr.score(X_train, y_train)\n",
    "lr_accuracy"
   ]
  },
  {
   "cell_type": "code",
   "execution_count": 44,
   "metadata": {},
   "outputs": [
    {
     "data": {
      "text/plain": [
       "0.7147620739606965"
      ]
     },
     "execution_count": 44,
     "metadata": {},
     "output_type": "execute_result"
    }
   ],
   "source": [
    "# Precision\n",
    "lr_precision = precision_score(y_test, lr.predict(X_test))\n",
    "lr_precision"
   ]
  },
  {
   "cell_type": "code",
   "execution_count": 45,
   "metadata": {},
   "outputs": [
    {
     "data": {
      "text/plain": [
       "0.8388183217859893"
      ]
     },
     "execution_count": 45,
     "metadata": {},
     "output_type": "execute_result"
    }
   ],
   "source": [
    "# Recall\n",
    "lr_recall = recall_score(y_test, lr.predict(X_test))\n",
    "lr_recall"
   ]
  },
  {
   "cell_type": "code",
   "execution_count": 46,
   "metadata": {},
   "outputs": [
    {
     "data": {
      "text/plain": [
       "array([[20740, 10436],\n",
       "       [ 5025, 26151]], dtype=int64)"
      ]
     },
     "execution_count": 46,
     "metadata": {},
     "output_type": "execute_result"
    }
   ],
   "source": [
    "# Matriz de confusion\n",
    "lr_m_confs = confusion_matrix(y_test, lr.predict(X_test))\n",
    "lr_m_confs"
   ]
  },
  {
   "cell_type": "code",
   "execution_count": 47,
   "metadata": {},
   "outputs": [
    {
     "data": {
      "text/plain": [
       "0.771837138261293"
      ]
     },
     "execution_count": 47,
     "metadata": {},
     "output_type": "execute_result"
    }
   ],
   "source": [
    "# F-score\n",
    "lr_f_score = f1_score(y_test, lr.predict(X_test))\n",
    "lr_f_score"
   ]
  },
  {
   "cell_type": "code",
   "execution_count": 55,
   "metadata": {},
   "outputs": [
    {
     "data": {
      "text/plain": [
       "<sklearn.metrics._plot.roc_curve.RocCurveDisplay at 0x20e2820f3d0>"
      ]
     },
     "execution_count": 55,
     "metadata": {},
     "output_type": "execute_result"
    },
    {
     "data": {
      "image/png": "[encoded data removed]",
      "text/plain": [
       "<Figure size 640x480 with 1 Axes>"
      ]
     },
     "metadata": {},
     "output_type": "display_data"
    }
   ],
   "source": [
    "# Curva ROC\n",
    "\n",
    "# clf = LogisticRegression().fit(X_train, y_train)\n",
    "lr_roc = RocCurveDisplay.from_estimator(lr ,X_test, y_test)\n",
    "lr_roc"
   ]
  },
  {
   "cell_type": "code",
   "execution_count": 56,
   "metadata": {},
   "outputs": [
    {
     "data": {
      "text/plain": [
       "0.8383357214569755"
      ]
     },
     "execution_count": 56,
     "metadata": {},
     "output_type": "execute_result"
    }
   ],
   "source": [
    "# Area bajo la curva ROC\n",
    "\n",
    "# roc_auc_score(y_test, clf.predict_proba(X_test)[:, 1])\n",
    "lr_auc = roc_auc_score(y_test, lr.predict_proba(X_test)[:, 1])\n",
    "lr_auc"
   ]
  },
  {
   "cell_type": "code",
   "execution_count": 61,
   "metadata": {},
   "outputs": [
    {
     "data": {
      "text/plain": [
       "0.7520368231973313"
      ]
     },
     "execution_count": 61,
     "metadata": {},
     "output_type": "execute_result"
    }
   ],
   "source": [
    "# Balanced accuracy\n",
    "\n",
    "lr_b_acc = balanced_accuracy_score(y_test, lr.predict(X_test))\n",
    "lr_b_acc"
   ]
  },
  {
   "cell_type": "code",
   "execution_count": 129,
   "metadata": {},
   "outputs": [
    {
     "data": {
      "text/html": [
       "<div>\n",
       "<style scoped>\n",
       "    .dataframe tbody tr th:only-of-type {\n",
       "        vertical-align: middle;\n",
       "    }\n",
       "\n",
       "    .dataframe tbody tr th {\n",
       "        vertical-align: top;\n",
       "    }\n",
       "\n",
       "    .dataframe thead th {\n",
       "        text-align: right;\n",
       "    }\n",
       "</style>\n",
       "<table border=\"1\" class=\"dataframe\">\n",
       "  <thead>\n",
       "    <tr style=\"text-align: right;\">\n",
       "      <th></th>\n",
       "      <th>Reg_Logistica</th>\n",
       "    </tr>\n",
       "  </thead>\n",
       "  <tbody>\n",
       "    <tr>\n",
       "      <th>accuracy</th>\n",
       "      <td>0.754175</td>\n",
       "    </tr>\n",
       "    <tr>\n",
       "      <th>precision</th>\n",
       "      <td>0.714762</td>\n",
       "    </tr>\n",
       "    <tr>\n",
       "      <th>recall</th>\n",
       "      <td>0.838818</td>\n",
       "    </tr>\n",
       "    <tr>\n",
       "      <th>confusion_matrix</th>\n",
       "      <td>[[20740, 10436], [5025, 26151]]</td>\n",
       "    </tr>\n",
       "    <tr>\n",
       "      <th>f1_score</th>\n",
       "      <td>0.771837</td>\n",
       "    </tr>\n",
       "    <tr>\n",
       "      <th>auc</th>\n",
       "      <td>0.838336</td>\n",
       "    </tr>\n",
       "    <tr>\n",
       "      <th>balanced_accuracy</th>\n",
       "      <td>0.752037</td>\n",
       "    </tr>\n",
       "  </tbody>\n",
       "</table>\n",
       "</div>"
      ],
      "text/plain": [
       "                                     Reg_Logistica\n",
       "accuracy                                  0.754175\n",
       "precision                                 0.714762\n",
       "recall                                    0.838818\n",
       "confusion_matrix   [[20740, 10436], [5025, 26151]]\n",
       "f1_score                                  0.771837\n",
       "auc                                       0.838336\n",
       "balanced_accuracy                         0.752037"
      ]
     },
     "execution_count": 129,
     "metadata": {},
     "output_type": "execute_result"
    }
   ],
   "source": [
    "data = {'Reg_Logistica': [lr_accuracy, lr_precision, lr_recall, lr_m_confs, lr_f_score, lr_auc, lr_b_acc]}\n",
    "index = ['accuracy', 'precision', 'recall', 'confusion_matrix', 'f1_score', 'auc', 'balanced_accuracy']\n",
    "regresion_logistica = pd.DataFrame(data=data, index=index)\n",
    "regresion_logistica"
   ]
  },
  {
   "attachments": {},
   "cell_type": "markdown",
   "metadata": {},
   "source": [
    "    - K-NN"
   ]
  },
  {
   "cell_type": "code",
   "execution_count": 69,
   "metadata": {},
   "outputs": [
    {
     "data": {
      "text/html": [
       "<style>#sk-container-id-4 {color: black;background-color: white;}#sk-container-id-4 pre{padding: 0;}#sk-container-id-4 div.sk-toggleable {background-color: white;}#sk-container-id-4 label.sk-toggleable__label {cursor: pointer;display: block;width: 100%;margin-bottom: 0;padding: 0.3em;box-sizing: border-box;text-align: center;}#sk-container-id-4 label.sk-toggleable__label-arrow:before {content: \"▸\";float: left;margin-right: 0.25em;color: #696969;}#sk-container-id-4 label.sk-toggleable__label-arrow:hover:before {color: black;}#sk-container-id-4 div.sk-estimator:hover label.sk-toggleable__label-arrow:before {color: black;}#sk-container-id-4 div.sk-toggleable__content {max-height: 0;max-width: 0;overflow: hidden;text-align: left;background-color: #f0f8ff;}#sk-container-id-4 div.sk-toggleable__content pre {margin: 0.2em;color: black;border-radius: 0.25em;background-color: #f0f8ff;}#sk-container-id-4 input.sk-toggleable__control:checked~div.sk-toggleable__content {max-height: 200px;max-width: 100%;overflow: auto;}#sk-container-id-4 input.sk-toggleable__control:checked~label.sk-toggleable__label-arrow:before {content: \"▾\";}#sk-container-id-4 div.sk-estimator input.sk-toggleable__control:checked~label.sk-toggleable__label {background-color: #d4ebff;}#sk-container-id-4 div.sk-label input.sk-toggleable__control:checked~label.sk-toggleable__label {background-color: #d4ebff;}#sk-container-id-4 input.sk-hidden--visually {border: 0;clip: rect(1px 1px 1px 1px);clip: rect(1px, 1px, 1px, 1px);height: 1px;margin: -1px;overflow: hidden;padding: 0;position: absolute;width: 1px;}#sk-container-id-4 div.sk-estimator {font-family: monospace;background-color: #f0f8ff;border: 1px dotted black;border-radius: 0.25em;box-sizing: border-box;margin-bottom: 0.5em;}#sk-container-id-4 div.sk-estimator:hover {background-color: #d4ebff;}#sk-container-id-4 div.sk-parallel-item::after {content: \"\";width: 100%;border-bottom: 1px solid gray;flex-grow: 1;}#sk-container-id-4 div.sk-label:hover label.sk-toggleable__label {background-color: #d4ebff;}#sk-container-id-4 div.sk-serial::before {content: \"\";position: absolute;border-left: 1px solid gray;box-sizing: border-box;top: 0;bottom: 0;left: 50%;z-index: 0;}#sk-container-id-4 div.sk-serial {display: flex;flex-direction: column;align-items: center;background-color: white;padding-right: 0.2em;padding-left: 0.2em;position: relative;}#sk-container-id-4 div.sk-item {position: relative;z-index: 1;}#sk-container-id-4 div.sk-parallel {display: flex;align-items: stretch;justify-content: center;background-color: white;position: relative;}#sk-container-id-4 div.sk-item::before, #sk-container-id-4 div.sk-parallel-item::before {content: \"\";position: absolute;border-left: 1px solid gray;box-sizing: border-box;top: 0;bottom: 0;left: 50%;z-index: -1;}#sk-container-id-4 div.sk-parallel-item {display: flex;flex-direction: column;z-index: 1;position: relative;background-color: white;}#sk-container-id-4 div.sk-parallel-item:first-child::after {align-self: flex-end;width: 50%;}#sk-container-id-4 div.sk-parallel-item:last-child::after {align-self: flex-start;width: 50%;}#sk-container-id-4 div.sk-parallel-item:only-child::after {width: 0;}#sk-container-id-4 div.sk-dashed-wrapped {border: 1px dashed gray;margin: 0 0.4em 0.5em 0.4em;box-sizing: border-box;padding-bottom: 0.4em;background-color: white;}#sk-container-id-4 div.sk-label label {font-family: monospace;font-weight: bold;display: inline-block;line-height: 1.2em;}#sk-container-id-4 div.sk-label-container {text-align: center;}#sk-container-id-4 div.sk-container {/* jupyter's `normalize.less` sets `[hidden] { display: none; }` but bootstrap.min.css set `[hidden] { display: none !important; }` so we also need the `!important` here to be able to override the default hidden behavior on the sphinx rendered scikit-learn.org. See: https://github.com/scikit-learn/scikit-learn/issues/21755 */display: inline-block !important;position: relative;}#sk-container-id-4 div.sk-text-repr-fallback {display: none;}</style><div id=\"sk-container-id-4\" class=\"sk-top-container\"><div class=\"sk-text-repr-fallback\"><pre>KNeighborsClassifier()</pre><b>In a Jupyter environment, please rerun this cell to show the HTML representation or trust the notebook. <br />On GitHub, the HTML representation is unable to render, please try loading this page with nbviewer.org.</b></div><div class=\"sk-container\" hidden><div class=\"sk-item\"><div class=\"sk-estimator sk-toggleable\"><input class=\"sk-toggleable__control sk-hidden--visually\" id=\"sk-estimator-id-4\" type=\"checkbox\" checked><label for=\"sk-estimator-id-4\" class=\"sk-toggleable__label sk-toggleable__label-arrow\">KNeighborsClassifier</label><div class=\"sk-toggleable__content\"><pre>KNeighborsClassifier()</pre></div></div></div></div></div>"
      ],
      "text/plain": [
       "KNeighborsClassifier()"
      ]
     },
     "execution_count": 69,
     "metadata": {},
     "output_type": "execute_result"
    }
   ],
   "source": [
    "knn = KNeighborsClassifier(n_neighbors = 5)\n",
    "knn.fit(X_train, y_train)"
   ]
  },
  {
   "cell_type": "code",
   "execution_count": 70,
   "metadata": {},
   "outputs": [
    {
     "data": {
      "text/plain": [
       "0.6963690017962535"
      ]
     },
     "execution_count": 70,
     "metadata": {},
     "output_type": "execute_result"
    }
   ],
   "source": [
    "y_pred = knn.predict(X_test)\n",
    "knn_accuracy = accuracy_score(y_test, y_pred)\n",
    "knn_accuracy"
   ]
  },
  {
   "cell_type": "code",
   "execution_count": 71,
   "metadata": {},
   "outputs": [
    {
     "data": {
      "text/plain": [
       "0.6772745699889964"
      ]
     },
     "execution_count": 71,
     "metadata": {},
     "output_type": "execute_result"
    }
   ],
   "source": [
    "# Precision\n",
    "\n",
    "knn_precision = precision_score(y_test, y_pred)\n",
    "knn_precision"
   ]
  },
  {
   "cell_type": "code",
   "execution_count": 72,
   "metadata": {},
   "outputs": [
    {
     "data": {
      "text/plain": [
       "0.7502245316910444"
      ]
     },
     "execution_count": 72,
     "metadata": {},
     "output_type": "execute_result"
    }
   ],
   "source": [
    "# Recall\n",
    "\n",
    "knn_recall = recall_score(y_test, y_pred)\n",
    "knn_recall"
   ]
  },
  {
   "cell_type": "code",
   "execution_count": 73,
   "metadata": {},
   "outputs": [
    {
     "data": {
      "text/plain": [
       "array([[20031, 11145],\n",
       "       [ 7787, 23389]], dtype=int64)"
      ]
     },
     "execution_count": 73,
     "metadata": {},
     "output_type": "execute_result"
    }
   ],
   "source": [
    "# Matriz de confusion\n",
    "\n",
    "knn_m_confs = confusion_matrix(y_test, y_pred)\n",
    "knn_m_confs"
   ]
  },
  {
   "cell_type": "code",
   "execution_count": 76,
   "metadata": {},
   "outputs": [
    {
     "data": {
      "text/plain": [
       "0.7118855577537666"
      ]
     },
     "execution_count": 76,
     "metadata": {},
     "output_type": "execute_result"
    }
   ],
   "source": [
    "# F-score\n",
    "\n",
    "knn_f_score = f1_score(y_test, y_pred)\n",
    "knn_f_score"
   ]
  },
  {
   "cell_type": "code",
   "execution_count": 74,
   "metadata": {},
   "outputs": [
    {
     "data": {
      "text/plain": [
       "<sklearn.metrics._plot.roc_curve.RocCurveDisplay at 0x20e286bf3d0>"
      ]
     },
     "execution_count": 74,
     "metadata": {},
     "output_type": "execute_result"
    },
    {
     "data": {
      "image/png": "[encoded data removed]",
      "text/plain": [
       "<Figure size 640x480 with 1 Axes>"
      ]
     },
     "metadata": {},
     "output_type": "display_data"
    }
   ],
   "source": [
    "# Curva ROC\n",
    "\n",
    "knn_roc = RocCurveDisplay.from_estimator(knn, X_test, y_test)\n",
    "knn_roc"
   ]
  },
  {
   "cell_type": "code",
   "execution_count": 75,
   "metadata": {},
   "outputs": [
    {
     "data": {
      "text/plain": [
       "0.747299240732411"
      ]
     },
     "execution_count": 75,
     "metadata": {},
     "output_type": "execute_result"
    }
   ],
   "source": [
    "# Area bajo la curva ROC\n",
    "\n",
    "knn_auc = roc_auc_score(y_test, knn.predict_proba(X_test)[:, 1])\n",
    "knn_auc"
   ]
  },
  {
   "cell_type": "code",
   "execution_count": 77,
   "metadata": {},
   "outputs": [
    {
     "data": {
      "text/plain": [
       "0.6963690017962536"
      ]
     },
     "execution_count": 77,
     "metadata": {},
     "output_type": "execute_result"
    }
   ],
   "source": [
    "# Balanced accuracy\n",
    "\n",
    "knn_b_acc = balanced_accuracy_score(y_test, y_pred)\n",
    "knn_b_acc"
   ]
  },
  {
   "cell_type": "code",
   "execution_count": 130,
   "metadata": {},
   "outputs": [
    {
     "data": {
      "text/html": [
       "<div>\n",
       "<style scoped>\n",
       "    .dataframe tbody tr th:only-of-type {\n",
       "        vertical-align: middle;\n",
       "    }\n",
       "\n",
       "    .dataframe tbody tr th {\n",
       "        vertical-align: top;\n",
       "    }\n",
       "\n",
       "    .dataframe thead th {\n",
       "        text-align: right;\n",
       "    }\n",
       "</style>\n",
       "<table border=\"1\" class=\"dataframe\">\n",
       "  <thead>\n",
       "    <tr style=\"text-align: right;\">\n",
       "      <th></th>\n",
       "      <th>Reg_Logistica</th>\n",
       "      <th>K-NN</th>\n",
       "    </tr>\n",
       "  </thead>\n",
       "  <tbody>\n",
       "    <tr>\n",
       "      <th>accuracy</th>\n",
       "      <td>0.754175</td>\n",
       "      <td>0.696369</td>\n",
       "    </tr>\n",
       "    <tr>\n",
       "      <th>precision</th>\n",
       "      <td>0.714762</td>\n",
       "      <td>0.677275</td>\n",
       "    </tr>\n",
       "    <tr>\n",
       "      <th>recall</th>\n",
       "      <td>0.838818</td>\n",
       "      <td>0.750225</td>\n",
       "    </tr>\n",
       "    <tr>\n",
       "      <th>confusion_matrix</th>\n",
       "      <td>[[20740, 10436], [5025, 26151]]</td>\n",
       "      <td>[[20031, 11145], [7787, 23389]]</td>\n",
       "    </tr>\n",
       "    <tr>\n",
       "      <th>f1_score</th>\n",
       "      <td>0.771837</td>\n",
       "      <td>0.711886</td>\n",
       "    </tr>\n",
       "    <tr>\n",
       "      <th>auc</th>\n",
       "      <td>0.838336</td>\n",
       "      <td>0.747299</td>\n",
       "    </tr>\n",
       "    <tr>\n",
       "      <th>balanced_accuracy</th>\n",
       "      <td>0.752037</td>\n",
       "      <td>0.696369</td>\n",
       "    </tr>\n",
       "  </tbody>\n",
       "</table>\n",
       "</div>"
      ],
      "text/plain": [
       "                                     Reg_Logistica   \n",
       "accuracy                                  0.754175  \\\n",
       "precision                                 0.714762   \n",
       "recall                                    0.838818   \n",
       "confusion_matrix   [[20740, 10436], [5025, 26151]]   \n",
       "f1_score                                  0.771837   \n",
       "auc                                       0.838336   \n",
       "balanced_accuracy                         0.752037   \n",
       "\n",
       "                                              K-NN  \n",
       "accuracy                                  0.696369  \n",
       "precision                                 0.677275  \n",
       "recall                                    0.750225  \n",
       "confusion_matrix   [[20031, 11145], [7787, 23389]]  \n",
       "f1_score                                  0.711886  \n",
       "auc                                       0.747299  \n",
       "balanced_accuracy                         0.696369  "
      ]
     },
     "execution_count": 130,
     "metadata": {},
     "output_type": "execute_result"
    }
   ],
   "source": [
    "data = {'K-NN': [knn_accuracy, knn_precision, knn_recall, knn_m_confs, knn_f_score, knn_auc, knn_b_acc]}\n",
    "index = ['accuracy', 'precision', 'recall', 'confusion_matrix', 'f1_score', 'auc', 'balanced_accuracy']\n",
    "knn = pd.DataFrame(data=data, index=index)\n",
    "modelos_acc = pd.merge(regresion_logistica, knn, left_index=True, right_index=True)\n",
    "modelos_acc"
   ]
  },
  {
   "attachments": {},
   "cell_type": "markdown",
   "metadata": {},
   "source": [
    "    - Arbol de decicision simple"
   ]
  },
  {
   "cell_type": "code",
   "execution_count": 86,
   "metadata": {},
   "outputs": [
    {
     "data": {
      "text/html": [
       "<style>#sk-container-id-5 {color: black;background-color: white;}#sk-container-id-5 pre{padding: 0;}#sk-container-id-5 div.sk-toggleable {background-color: white;}#sk-container-id-5 label.sk-toggleable__label {cursor: pointer;display: block;width: 100%;margin-bottom: 0;padding: 0.3em;box-sizing: border-box;text-align: center;}#sk-container-id-5 label.sk-toggleable__label-arrow:before {content: \"▸\";float: left;margin-right: 0.25em;color: #696969;}#sk-container-id-5 label.sk-toggleable__label-arrow:hover:before {color: black;}#sk-container-id-5 div.sk-estimator:hover label.sk-toggleable__label-arrow:before {color: black;}#sk-container-id-5 div.sk-toggleable__content {max-height: 0;max-width: 0;overflow: hidden;text-align: left;background-color: #f0f8ff;}#sk-container-id-5 div.sk-toggleable__content pre {margin: 0.2em;color: black;border-radius: 0.25em;background-color: #f0f8ff;}#sk-container-id-5 input.sk-toggleable__control:checked~div.sk-toggleable__content {max-height: 200px;max-width: 100%;overflow: auto;}#sk-container-id-5 input.sk-toggleable__control:checked~label.sk-toggleable__label-arrow:before {content: \"▾\";}#sk-container-id-5 div.sk-estimator input.sk-toggleable__control:checked~label.sk-toggleable__label {background-color: #d4ebff;}#sk-container-id-5 div.sk-label input.sk-toggleable__control:checked~label.sk-toggleable__label {background-color: #d4ebff;}#sk-container-id-5 input.sk-hidden--visually {border: 0;clip: rect(1px 1px 1px 1px);clip: rect(1px, 1px, 1px, 1px);height: 1px;margin: -1px;overflow: hidden;padding: 0;position: absolute;width: 1px;}#sk-container-id-5 div.sk-estimator {font-family: monospace;background-color: #f0f8ff;border: 1px dotted black;border-radius: 0.25em;box-sizing: border-box;margin-bottom: 0.5em;}#sk-container-id-5 div.sk-estimator:hover {background-color: #d4ebff;}#sk-container-id-5 div.sk-parallel-item::after {content: \"\";width: 100%;border-bottom: 1px solid gray;flex-grow: 1;}#sk-container-id-5 div.sk-label:hover label.sk-toggleable__label {background-color: #d4ebff;}#sk-container-id-5 div.sk-serial::before {content: \"\";position: absolute;border-left: 1px solid gray;box-sizing: border-box;top: 0;bottom: 0;left: 50%;z-index: 0;}#sk-container-id-5 div.sk-serial {display: flex;flex-direction: column;align-items: center;background-color: white;padding-right: 0.2em;padding-left: 0.2em;position: relative;}#sk-container-id-5 div.sk-item {position: relative;z-index: 1;}#sk-container-id-5 div.sk-parallel {display: flex;align-items: stretch;justify-content: center;background-color: white;position: relative;}#sk-container-id-5 div.sk-item::before, #sk-container-id-5 div.sk-parallel-item::before {content: \"\";position: absolute;border-left: 1px solid gray;box-sizing: border-box;top: 0;bottom: 0;left: 50%;z-index: -1;}#sk-container-id-5 div.sk-parallel-item {display: flex;flex-direction: column;z-index: 1;position: relative;background-color: white;}#sk-container-id-5 div.sk-parallel-item:first-child::after {align-self: flex-end;width: 50%;}#sk-container-id-5 div.sk-parallel-item:last-child::after {align-self: flex-start;width: 50%;}#sk-container-id-5 div.sk-parallel-item:only-child::after {width: 0;}#sk-container-id-5 div.sk-dashed-wrapped {border: 1px dashed gray;margin: 0 0.4em 0.5em 0.4em;box-sizing: border-box;padding-bottom: 0.4em;background-color: white;}#sk-container-id-5 div.sk-label label {font-family: monospace;font-weight: bold;display: inline-block;line-height: 1.2em;}#sk-container-id-5 div.sk-label-container {text-align: center;}#sk-container-id-5 div.sk-container {/* jupyter's `normalize.less` sets `[hidden] { display: none; }` but bootstrap.min.css set `[hidden] { display: none !important; }` so we also need the `!important` here to be able to override the default hidden behavior on the sphinx rendered scikit-learn.org. See: https://github.com/scikit-learn/scikit-learn/issues/21755 */display: inline-block !important;position: relative;}#sk-container-id-5 div.sk-text-repr-fallback {display: none;}</style><div id=\"sk-container-id-5\" class=\"sk-top-container\"><div class=\"sk-text-repr-fallback\"><pre>DecisionTreeClassifier(max_depth=4)</pre><b>In a Jupyter environment, please rerun this cell to show the HTML representation or trust the notebook. <br />On GitHub, the HTML representation is unable to render, please try loading this page with nbviewer.org.</b></div><div class=\"sk-container\" hidden><div class=\"sk-item\"><div class=\"sk-estimator sk-toggleable\"><input class=\"sk-toggleable__control sk-hidden--visually\" id=\"sk-estimator-id-5\" type=\"checkbox\" checked><label for=\"sk-estimator-id-5\" class=\"sk-toggleable__label sk-toggleable__label-arrow\">DecisionTreeClassifier</label><div class=\"sk-toggleable__content\"><pre>DecisionTreeClassifier(max_depth=4)</pre></div></div></div></div></div>"
      ],
      "text/plain": [
       "DecisionTreeClassifier(max_depth=4)"
      ]
     },
     "execution_count": 86,
     "metadata": {},
     "output_type": "execute_result"
    }
   ],
   "source": [
    "dtc = DecisionTreeClassifier(max_depth = 4)\n",
    "dtc.fit(X_train, y_train)"
   ]
  },
  {
   "cell_type": "code",
   "execution_count": 87,
   "metadata": {},
   "outputs": [
    {
     "data": {
      "text/plain": [
       "0.7455895560687709"
      ]
     },
     "execution_count": 87,
     "metadata": {},
     "output_type": "execute_result"
    }
   ],
   "source": [
    "y_pred = dtc.predict(X_test)\n",
    "dtc_accuracy = accuracy_score(y_test, y_pred)\n",
    "dtc_accuracy"
   ]
  },
  {
   "cell_type": "code",
   "execution_count": 88,
   "metadata": {},
   "outputs": [
    {
     "data": {
      "text/plain": [
       "0.7060248096224739"
      ]
     },
     "execution_count": 88,
     "metadata": {},
     "output_type": "execute_result"
    }
   ],
   "source": [
    "# Precision\n",
    "\n",
    "dtc_precision = precision_score(y_test, y_pred)\n",
    "dtc_precision"
   ]
  },
  {
   "cell_type": "code",
   "execution_count": 89,
   "metadata": {},
   "outputs": [
    {
     "data": {
      "text/plain": [
       "0.8416089299461124"
      ]
     },
     "execution_count": 89,
     "metadata": {},
     "output_type": "execute_result"
    }
   ],
   "source": [
    "# Recall\n",
    "\n",
    "dtc_recall = recall_score(y_test, y_pred)\n",
    "dtc_recall"
   ]
  },
  {
   "cell_type": "code",
   "execution_count": 90,
   "metadata": {},
   "outputs": [
    {
     "data": {
      "text/plain": [
       "array([[20251, 10925],\n",
       "       [ 4938, 26238]], dtype=int64)"
      ]
     },
     "execution_count": 90,
     "metadata": {},
     "output_type": "execute_result"
    }
   ],
   "source": [
    "# Matriz de confusion\n",
    "\n",
    "dtc_m_confs = confusion_matrix(y_test, y_pred)\n",
    "dtc_m_confs"
   ]
  },
  {
   "cell_type": "code",
   "execution_count": 91,
   "metadata": {},
   "outputs": [
    {
     "data": {
      "text/plain": [
       "0.7678777857445968"
      ]
     },
     "execution_count": 91,
     "metadata": {},
     "output_type": "execute_result"
    }
   ],
   "source": [
    "# F-score\n",
    "\n",
    "dtc_f_score = f1_score(y_test, y_pred)\n",
    "dtc_f_score"
   ]
  },
  {
   "cell_type": "code",
   "execution_count": 93,
   "metadata": {},
   "outputs": [
    {
     "data": {
      "text/plain": [
       "<sklearn.metrics._plot.roc_curve.RocCurveDisplay at 0x20e286bcb90>"
      ]
     },
     "execution_count": 93,
     "metadata": {},
     "output_type": "execute_result"
    },
    {
     "data": {
      "image/png": "[encoded data removed]",
      "text/plain": [
       "<Figure size 640x480 with 1 Axes>"
      ]
     },
     "metadata": {},
     "output_type": "display_data"
    }
   ],
   "source": [
    "# Curva ROC\n",
    "\n",
    "dtc_roc = RocCurveDisplay.from_estimator(dtc, X_test, y_test)\n",
    "dtc_roc"
   ]
  },
  {
   "cell_type": "code",
   "execution_count": 94,
   "metadata": {},
   "outputs": [
    {
     "data": {
      "text/plain": [
       "0.8021403850342759"
      ]
     },
     "execution_count": 94,
     "metadata": {},
     "output_type": "execute_result"
    }
   ],
   "source": [
    "# Area bajo la curva ROC\n",
    "\n",
    "dtc_auc = roc_auc_score(y_test, dtc.predict_proba(X_test)[:, 1])\n",
    "dtc_auc"
   ]
  },
  {
   "cell_type": "code",
   "execution_count": 95,
   "metadata": {},
   "outputs": [
    {
     "data": {
      "text/plain": [
       "0.7455895560687709"
      ]
     },
     "execution_count": 95,
     "metadata": {},
     "output_type": "execute_result"
    }
   ],
   "source": [
    "# Balanced accuracy\n",
    "\n",
    "dtc_b_acc = balanced_accuracy_score(y_test, y_pred)\n",
    "dtc_b_acc"
   ]
  },
  {
   "cell_type": "code",
   "execution_count": 131,
   "metadata": {},
   "outputs": [
    {
     "data": {
      "text/html": [
       "<div>\n",
       "<style scoped>\n",
       "    .dataframe tbody tr th:only-of-type {\n",
       "        vertical-align: middle;\n",
       "    }\n",
       "\n",
       "    .dataframe tbody tr th {\n",
       "        vertical-align: top;\n",
       "    }\n",
       "\n",
       "    .dataframe thead th {\n",
       "        text-align: right;\n",
       "    }\n",
       "</style>\n",
       "<table border=\"1\" class=\"dataframe\">\n",
       "  <thead>\n",
       "    <tr style=\"text-align: right;\">\n",
       "      <th></th>\n",
       "      <th>Reg_Logistica</th>\n",
       "      <th>K-NN</th>\n",
       "      <th>Decission_Tree</th>\n",
       "    </tr>\n",
       "  </thead>\n",
       "  <tbody>\n",
       "    <tr>\n",
       "      <th>accuracy</th>\n",
       "      <td>0.754175</td>\n",
       "      <td>0.696369</td>\n",
       "      <td>0.74559</td>\n",
       "    </tr>\n",
       "    <tr>\n",
       "      <th>precision</th>\n",
       "      <td>0.714762</td>\n",
       "      <td>0.677275</td>\n",
       "      <td>0.706025</td>\n",
       "    </tr>\n",
       "    <tr>\n",
       "      <th>recall</th>\n",
       "      <td>0.838818</td>\n",
       "      <td>0.750225</td>\n",
       "      <td>0.841609</td>\n",
       "    </tr>\n",
       "    <tr>\n",
       "      <th>confusion_matrix</th>\n",
       "      <td>[[20740, 10436], [5025, 26151]]</td>\n",
       "      <td>[[20031, 11145], [7787, 23389]]</td>\n",
       "      <td>[[20251, 10925], [4938, 26238]]</td>\n",
       "    </tr>\n",
       "    <tr>\n",
       "      <th>f1_score</th>\n",
       "      <td>0.771837</td>\n",
       "      <td>0.711886</td>\n",
       "      <td>0.767878</td>\n",
       "    </tr>\n",
       "    <tr>\n",
       "      <th>auc</th>\n",
       "      <td>0.838336</td>\n",
       "      <td>0.747299</td>\n",
       "      <td>0.80214</td>\n",
       "    </tr>\n",
       "    <tr>\n",
       "      <th>balanced_accuracy</th>\n",
       "      <td>0.752037</td>\n",
       "      <td>0.696369</td>\n",
       "      <td>0.74559</td>\n",
       "    </tr>\n",
       "  </tbody>\n",
       "</table>\n",
       "</div>"
      ],
      "text/plain": [
       "                                     Reg_Logistica   \n",
       "accuracy                                  0.754175  \\\n",
       "precision                                 0.714762   \n",
       "recall                                    0.838818   \n",
       "confusion_matrix   [[20740, 10436], [5025, 26151]]   \n",
       "f1_score                                  0.771837   \n",
       "auc                                       0.838336   \n",
       "balanced_accuracy                         0.752037   \n",
       "\n",
       "                                              K-NN   \n",
       "accuracy                                  0.696369  \\\n",
       "precision                                 0.677275   \n",
       "recall                                    0.750225   \n",
       "confusion_matrix   [[20031, 11145], [7787, 23389]]   \n",
       "f1_score                                  0.711886   \n",
       "auc                                       0.747299   \n",
       "balanced_accuracy                         0.696369   \n",
       "\n",
       "                                    Decission_Tree  \n",
       "accuracy                                   0.74559  \n",
       "precision                                 0.706025  \n",
       "recall                                    0.841609  \n",
       "confusion_matrix   [[20251, 10925], [4938, 26238]]  \n",
       "f1_score                                  0.767878  \n",
       "auc                                        0.80214  \n",
       "balanced_accuracy                          0.74559  "
      ]
     },
     "execution_count": 131,
     "metadata": {},
     "output_type": "execute_result"
    }
   ],
   "source": [
    "data = {'Decission_Tree': [dtc_accuracy, dtc_precision, dtc_recall, dtc_m_confs, dtc_f_score, dtc_auc, dtc_b_acc]}\n",
    "index = ['accuracy', 'precision', 'recall', 'confusion_matrix', 'f1_score', 'auc', 'balanced_accuracy']\n",
    "dtc = pd.DataFrame(data=data, index=index)\n",
    "modelos_acc = pd.merge(modelos_acc, dtc, left_index=True, right_index=True)\n",
    "modelos_acc"
   ]
  },
  {
   "attachments": {},
   "cell_type": "markdown",
   "metadata": {},
   "source": [
    "    - Bagging classifier"
   ]
  },
  {
   "cell_type": "code",
   "execution_count": 105,
   "metadata": {},
   "outputs": [
    {
     "name": "stderr",
     "output_type": "stream",
     "text": [
      "C:\\Users\\alvar\\AppData\\Roaming\\Python\\Python311\\site-packages\\sklearn\\ensemble\\_base.py:166: FutureWarning: `base_estimator` was renamed to `estimator` in version 1.2 and will be removed in 1.4.\n",
      "  warnings.warn(\n"
     ]
    },
    {
     "data": {
      "text/html": [
       "<style>#sk-container-id-6 {color: black;background-color: white;}#sk-container-id-6 pre{padding: 0;}#sk-container-id-6 div.sk-toggleable {background-color: white;}#sk-container-id-6 label.sk-toggleable__label {cursor: pointer;display: block;width: 100%;margin-bottom: 0;padding: 0.3em;box-sizing: border-box;text-align: center;}#sk-container-id-6 label.sk-toggleable__label-arrow:before {content: \"▸\";float: left;margin-right: 0.25em;color: #696969;}#sk-container-id-6 label.sk-toggleable__label-arrow:hover:before {color: black;}#sk-container-id-6 div.sk-estimator:hover label.sk-toggleable__label-arrow:before {color: black;}#sk-container-id-6 div.sk-toggleable__content {max-height: 0;max-width: 0;overflow: hidden;text-align: left;background-color: #f0f8ff;}#sk-container-id-6 div.sk-toggleable__content pre {margin: 0.2em;color: black;border-radius: 0.25em;background-color: #f0f8ff;}#sk-container-id-6 input.sk-toggleable__control:checked~div.sk-toggleable__content {max-height: 200px;max-width: 100%;overflow: auto;}#sk-container-id-6 input.sk-toggleable__control:checked~label.sk-toggleable__label-arrow:before {content: \"▾\";}#sk-container-id-6 div.sk-estimator input.sk-toggleable__control:checked~label.sk-toggleable__label {background-color: #d4ebff;}#sk-container-id-6 div.sk-label input.sk-toggleable__control:checked~label.sk-toggleable__label {background-color: #d4ebff;}#sk-container-id-6 input.sk-hidden--visually {border: 0;clip: rect(1px 1px 1px 1px);clip: rect(1px, 1px, 1px, 1px);height: 1px;margin: -1px;overflow: hidden;padding: 0;position: absolute;width: 1px;}#sk-container-id-6 div.sk-estimator {font-family: monospace;background-color: #f0f8ff;border: 1px dotted black;border-radius: 0.25em;box-sizing: border-box;margin-bottom: 0.5em;}#sk-container-id-6 div.sk-estimator:hover {background-color: #d4ebff;}#sk-container-id-6 div.sk-parallel-item::after {content: \"\";width: 100%;border-bottom: 1px solid gray;flex-grow: 1;}#sk-container-id-6 div.sk-label:hover label.sk-toggleable__label {background-color: #d4ebff;}#sk-container-id-6 div.sk-serial::before {content: \"\";position: absolute;border-left: 1px solid gray;box-sizing: border-box;top: 0;bottom: 0;left: 50%;z-index: 0;}#sk-container-id-6 div.sk-serial {display: flex;flex-direction: column;align-items: center;background-color: white;padding-right: 0.2em;padding-left: 0.2em;position: relative;}#sk-container-id-6 div.sk-item {position: relative;z-index: 1;}#sk-container-id-6 div.sk-parallel {display: flex;align-items: stretch;justify-content: center;background-color: white;position: relative;}#sk-container-id-6 div.sk-item::before, #sk-container-id-6 div.sk-parallel-item::before {content: \"\";position: absolute;border-left: 1px solid gray;box-sizing: border-box;top: 0;bottom: 0;left: 50%;z-index: -1;}#sk-container-id-6 div.sk-parallel-item {display: flex;flex-direction: column;z-index: 1;position: relative;background-color: white;}#sk-container-id-6 div.sk-parallel-item:first-child::after {align-self: flex-end;width: 50%;}#sk-container-id-6 div.sk-parallel-item:last-child::after {align-self: flex-start;width: 50%;}#sk-container-id-6 div.sk-parallel-item:only-child::after {width: 0;}#sk-container-id-6 div.sk-dashed-wrapped {border: 1px dashed gray;margin: 0 0.4em 0.5em 0.4em;box-sizing: border-box;padding-bottom: 0.4em;background-color: white;}#sk-container-id-6 div.sk-label label {font-family: monospace;font-weight: bold;display: inline-block;line-height: 1.2em;}#sk-container-id-6 div.sk-label-container {text-align: center;}#sk-container-id-6 div.sk-container {/* jupyter's `normalize.less` sets `[hidden] { display: none; }` but bootstrap.min.css set `[hidden] { display: none !important; }` so we also need the `!important` here to be able to override the default hidden behavior on the sphinx rendered scikit-learn.org. See: https://github.com/scikit-learn/scikit-learn/issues/21755 */display: inline-block !important;position: relative;}#sk-container-id-6 div.sk-text-repr-fallback {display: none;}</style><div id=\"sk-container-id-6\" class=\"sk-top-container\"><div class=\"sk-text-repr-fallback\"><pre>BaggingClassifier(base_estimator=DecisionTreeClassifier(), random_state=42)</pre><b>In a Jupyter environment, please rerun this cell to show the HTML representation or trust the notebook. <br />On GitHub, the HTML representation is unable to render, please try loading this page with nbviewer.org.</b></div><div class=\"sk-container\" hidden><div class=\"sk-item sk-dashed-wrapped\"><div class=\"sk-label-container\"><div class=\"sk-label sk-toggleable\"><input class=\"sk-toggleable__control sk-hidden--visually\" id=\"sk-estimator-id-6\" type=\"checkbox\" ><label for=\"sk-estimator-id-6\" class=\"sk-toggleable__label sk-toggleable__label-arrow\">BaggingClassifier</label><div class=\"sk-toggleable__content\"><pre>BaggingClassifier(base_estimator=DecisionTreeClassifier(), random_state=42)</pre></div></div></div><div class=\"sk-parallel\"><div class=\"sk-parallel-item\"><div class=\"sk-item\"><div class=\"sk-label-container\"><div class=\"sk-label sk-toggleable\"><input class=\"sk-toggleable__control sk-hidden--visually\" id=\"sk-estimator-id-7\" type=\"checkbox\" ><label for=\"sk-estimator-id-7\" class=\"sk-toggleable__label sk-toggleable__label-arrow\">base_estimator: DecisionTreeClassifier</label><div class=\"sk-toggleable__content\"><pre>DecisionTreeClassifier()</pre></div></div></div><div class=\"sk-serial\"><div class=\"sk-item\"><div class=\"sk-estimator sk-toggleable\"><input class=\"sk-toggleable__control sk-hidden--visually\" id=\"sk-estimator-id-8\" type=\"checkbox\" ><label for=\"sk-estimator-id-8\" class=\"sk-toggleable__label sk-toggleable__label-arrow\">DecisionTreeClassifier</label><div class=\"sk-toggleable__content\"><pre>DecisionTreeClassifier()</pre></div></div></div></div></div></div></div></div></div></div>"
      ],
      "text/plain": [
       "BaggingClassifier(base_estimator=DecisionTreeClassifier(), random_state=42)"
      ]
     },
     "execution_count": 105,
     "metadata": {},
     "output_type": "execute_result"
    }
   ],
   "source": [
    "bagging = BaggingClassifier(base_estimator=DecisionTreeClassifier(), n_estimators=10, random_state=42)\n",
    "bagging.fit(X_train, y_train)"
   ]
  },
  {
   "cell_type": "code",
   "execution_count": 106,
   "metadata": {},
   "outputs": [
    {
     "data": {
      "text/plain": [
       "0.7390300230946882"
      ]
     },
     "execution_count": 106,
     "metadata": {},
     "output_type": "execute_result"
    }
   ],
   "source": [
    "y_pred = bagging.predict(X_test)\n",
    "\n",
    "bc_accuracy = accuracy_score(y_test, y_pred)\n",
    "bc_accuracy"
   ]
  },
  {
   "cell_type": "code",
   "execution_count": 107,
   "metadata": {},
   "outputs": [
    {
     "data": {
      "text/plain": [
       "0.7633773945006008"
      ]
     },
     "execution_count": 107,
     "metadata": {},
     "output_type": "execute_result"
    }
   ],
   "source": [
    "# Precision\n",
    "\n",
    "bc_precision = precision_score(y_test, y_pred)\n",
    "bc_precision"
   ]
  },
  {
   "cell_type": "code",
   "execution_count": 108,
   "metadata": {},
   "outputs": [
    {
     "data": {
      "text/plain": [
       "0.6928085706954067"
      ]
     },
     "execution_count": 108,
     "metadata": {},
     "output_type": "execute_result"
    }
   ],
   "source": [
    "# Recall\n",
    "\n",
    "bc_recall = recall_score(y_test, y_pred)\n",
    "bc_recall"
   ]
  },
  {
   "cell_type": "code",
   "execution_count": 109,
   "metadata": {},
   "outputs": [
    {
     "data": {
      "text/plain": [
       "array([[24481,  6695],\n",
       "       [ 9577, 21599]], dtype=int64)"
      ]
     },
     "execution_count": 109,
     "metadata": {},
     "output_type": "execute_result"
    }
   ],
   "source": [
    "# Matriz de confusion\n",
    "\n",
    "bc_m_confs = confusion_matrix(y_test, y_pred)\n",
    "bc_m_confs"
   ]
  },
  {
   "cell_type": "code",
   "execution_count": 110,
   "metadata": {},
   "outputs": [
    {
     "data": {
      "text/plain": [
       "0.7263830502774508"
      ]
     },
     "execution_count": 110,
     "metadata": {},
     "output_type": "execute_result"
    }
   ],
   "source": [
    "# F-score\n",
    "\n",
    "bc_f_score = f1_score(y_test, y_pred)\n",
    "bc_f_score"
   ]
  },
  {
   "cell_type": "code",
   "execution_count": 111,
   "metadata": {},
   "outputs": [
    {
     "data": {
      "text/plain": [
       "<sklearn.metrics._plot.roc_curve.RocCurveDisplay at 0x20e007e82d0>"
      ]
     },
     "execution_count": 111,
     "metadata": {},
     "output_type": "execute_result"
    },
    {
     "data": {
      "image/png": "[encoded data removed]",
      "text/plain": [
       "<Figure size 640x480 with 1 Axes>"
      ]
     },
     "metadata": {},
     "output_type": "display_data"
    }
   ],
   "source": [
    "# Curva ROC\n",
    "\n",
    "bc_roc = RocCurveDisplay.from_estimator(bagging, X_test, y_test)\n",
    "bc_roc"
   ]
  },
  {
   "cell_type": "code",
   "execution_count": 112,
   "metadata": {},
   "outputs": [
    {
     "data": {
      "text/plain": [
       "0.831291361171378"
      ]
     },
     "execution_count": 112,
     "metadata": {},
     "output_type": "execute_result"
    }
   ],
   "source": [
    "# Area bajo la curva ROC\n",
    "\n",
    "bc_auc = roc_auc_score(y_test, bagging.predict_proba(X_test)[:, 1])\n",
    "bc_auc"
   ]
  },
  {
   "cell_type": "code",
   "execution_count": 113,
   "metadata": {},
   "outputs": [
    {
     "data": {
      "text/plain": [
       "0.7390300230946882"
      ]
     },
     "execution_count": 113,
     "metadata": {},
     "output_type": "execute_result"
    }
   ],
   "source": [
    "# Balanced accuracy\n",
    "\n",
    "bc_b_acc = balanced_accuracy_score(y_test, y_pred)\n",
    "bc_b_acc"
   ]
  },
  {
   "cell_type": "code",
   "execution_count": 132,
   "metadata": {},
   "outputs": [
    {
     "data": {
      "text/html": [
       "<div>\n",
       "<style scoped>\n",
       "    .dataframe tbody tr th:only-of-type {\n",
       "        vertical-align: middle;\n",
       "    }\n",
       "\n",
       "    .dataframe tbody tr th {\n",
       "        vertical-align: top;\n",
       "    }\n",
       "\n",
       "    .dataframe thead th {\n",
       "        text-align: right;\n",
       "    }\n",
       "</style>\n",
       "<table border=\"1\" class=\"dataframe\">\n",
       "  <thead>\n",
       "    <tr style=\"text-align: right;\">\n",
       "      <th></th>\n",
       "      <th>Reg_Logistica</th>\n",
       "      <th>K-NN</th>\n",
       "      <th>Decission_Tree</th>\n",
       "      <th>Bagging</th>\n",
       "    </tr>\n",
       "  </thead>\n",
       "  <tbody>\n",
       "    <tr>\n",
       "      <th>accuracy</th>\n",
       "      <td>0.754175</td>\n",
       "      <td>0.696369</td>\n",
       "      <td>0.74559</td>\n",
       "      <td>0.73903</td>\n",
       "    </tr>\n",
       "    <tr>\n",
       "      <th>precision</th>\n",
       "      <td>0.714762</td>\n",
       "      <td>0.677275</td>\n",
       "      <td>0.706025</td>\n",
       "      <td>0.763377</td>\n",
       "    </tr>\n",
       "    <tr>\n",
       "      <th>recall</th>\n",
       "      <td>0.838818</td>\n",
       "      <td>0.750225</td>\n",
       "      <td>0.841609</td>\n",
       "      <td>0.692809</td>\n",
       "    </tr>\n",
       "    <tr>\n",
       "      <th>confusion_matrix</th>\n",
       "      <td>[[20740, 10436], [5025, 26151]]</td>\n",
       "      <td>[[20031, 11145], [7787, 23389]]</td>\n",
       "      <td>[[20251, 10925], [4938, 26238]]</td>\n",
       "      <td>[[24481, 6695], [9577, 21599]]</td>\n",
       "    </tr>\n",
       "    <tr>\n",
       "      <th>f1_score</th>\n",
       "      <td>0.771837</td>\n",
       "      <td>0.711886</td>\n",
       "      <td>0.767878</td>\n",
       "      <td>0.726383</td>\n",
       "    </tr>\n",
       "    <tr>\n",
       "      <th>auc</th>\n",
       "      <td>0.838336</td>\n",
       "      <td>0.747299</td>\n",
       "      <td>0.80214</td>\n",
       "      <td>0.831291</td>\n",
       "    </tr>\n",
       "    <tr>\n",
       "      <th>balanced_accuracy</th>\n",
       "      <td>0.752037</td>\n",
       "      <td>0.696369</td>\n",
       "      <td>0.74559</td>\n",
       "      <td>0.73903</td>\n",
       "    </tr>\n",
       "  </tbody>\n",
       "</table>\n",
       "</div>"
      ],
      "text/plain": [
       "                                     Reg_Logistica   \n",
       "accuracy                                  0.754175  \\\n",
       "precision                                 0.714762   \n",
       "recall                                    0.838818   \n",
       "confusion_matrix   [[20740, 10436], [5025, 26151]]   \n",
       "f1_score                                  0.771837   \n",
       "auc                                       0.838336   \n",
       "balanced_accuracy                         0.752037   \n",
       "\n",
       "                                              K-NN   \n",
       "accuracy                                  0.696369  \\\n",
       "precision                                 0.677275   \n",
       "recall                                    0.750225   \n",
       "confusion_matrix   [[20031, 11145], [7787, 23389]]   \n",
       "f1_score                                  0.711886   \n",
       "auc                                       0.747299   \n",
       "balanced_accuracy                         0.696369   \n",
       "\n",
       "                                    Decission_Tree   \n",
       "accuracy                                   0.74559  \\\n",
       "precision                                 0.706025   \n",
       "recall                                    0.841609   \n",
       "confusion_matrix   [[20251, 10925], [4938, 26238]]   \n",
       "f1_score                                  0.767878   \n",
       "auc                                        0.80214   \n",
       "balanced_accuracy                          0.74559   \n",
       "\n",
       "                                          Bagging  \n",
       "accuracy                                  0.73903  \n",
       "precision                                0.763377  \n",
       "recall                                   0.692809  \n",
       "confusion_matrix   [[24481, 6695], [9577, 21599]]  \n",
       "f1_score                                 0.726383  \n",
       "auc                                      0.831291  \n",
       "balanced_accuracy                         0.73903  "
      ]
     },
     "execution_count": 132,
     "metadata": {},
     "output_type": "execute_result"
    }
   ],
   "source": [
    "data = {'Bagging': [bc_accuracy, bc_precision, bc_recall, bc_m_confs, bc_f_score, bc_auc, bc_b_acc]}\n",
    "index = ['accuracy', 'precision', 'recall', 'confusion_matrix', 'f1_score', 'auc', 'balanced_accuracy']\n",
    "bc = pd.DataFrame(data=data, index=index)\n",
    "modelos_acc = pd.merge(modelos_acc, bc, left_index=True, right_index=True)\n",
    "modelos_acc"
   ]
  },
  {
   "attachments": {},
   "cell_type": "markdown",
   "metadata": {},
   "source": [
    "    - Random forest"
   ]
  },
  {
   "cell_type": "code",
   "execution_count": 118,
   "metadata": {},
   "outputs": [],
   "source": [
    "from sklearn.ensemble import RandomForestClassifier"
   ]
  },
  {
   "cell_type": "code",
   "execution_count": 119,
   "metadata": {},
   "outputs": [
    {
     "data": {
      "text/html": [
       "<style>#sk-container-id-7 {color: black;background-color: white;}#sk-container-id-7 pre{padding: 0;}#sk-container-id-7 div.sk-toggleable {background-color: white;}#sk-container-id-7 label.sk-toggleable__label {cursor: pointer;display: block;width: 100%;margin-bottom: 0;padding: 0.3em;box-sizing: border-box;text-align: center;}#sk-container-id-7 label.sk-toggleable__label-arrow:before {content: \"▸\";float: left;margin-right: 0.25em;color: #696969;}#sk-container-id-7 label.sk-toggleable__label-arrow:hover:before {color: black;}#sk-container-id-7 div.sk-estimator:hover label.sk-toggleable__label-arrow:before {color: black;}#sk-container-id-7 div.sk-toggleable__content {max-height: 0;max-width: 0;overflow: hidden;text-align: left;background-color: #f0f8ff;}#sk-container-id-7 div.sk-toggleable__content pre {margin: 0.2em;color: black;border-radius: 0.25em;background-color: #f0f8ff;}#sk-container-id-7 input.sk-toggleable__control:checked~div.sk-toggleable__content {max-height: 200px;max-width: 100%;overflow: auto;}#sk-container-id-7 input.sk-toggleable__control:checked~label.sk-toggleable__label-arrow:before {content: \"▾\";}#sk-container-id-7 div.sk-estimator input.sk-toggleable__control:checked~label.sk-toggleable__label {background-color: #d4ebff;}#sk-container-id-7 div.sk-label input.sk-toggleable__control:checked~label.sk-toggleable__label {background-color: #d4ebff;}#sk-container-id-7 input.sk-hidden--visually {border: 0;clip: rect(1px 1px 1px 1px);clip: rect(1px, 1px, 1px, 1px);height: 1px;margin: -1px;overflow: hidden;padding: 0;position: absolute;width: 1px;}#sk-container-id-7 div.sk-estimator {font-family: monospace;background-color: #f0f8ff;border: 1px dotted black;border-radius: 0.25em;box-sizing: border-box;margin-bottom: 0.5em;}#sk-container-id-7 div.sk-estimator:hover {background-color: #d4ebff;}#sk-container-id-7 div.sk-parallel-item::after {content: \"\";width: 100%;border-bottom: 1px solid gray;flex-grow: 1;}#sk-container-id-7 div.sk-label:hover label.sk-toggleable__label {background-color: #d4ebff;}#sk-container-id-7 div.sk-serial::before {content: \"\";position: absolute;border-left: 1px solid gray;box-sizing: border-box;top: 0;bottom: 0;left: 50%;z-index: 0;}#sk-container-id-7 div.sk-serial {display: flex;flex-direction: column;align-items: center;background-color: white;padding-right: 0.2em;padding-left: 0.2em;position: relative;}#sk-container-id-7 div.sk-item {position: relative;z-index: 1;}#sk-container-id-7 div.sk-parallel {display: flex;align-items: stretch;justify-content: center;background-color: white;position: relative;}#sk-container-id-7 div.sk-item::before, #sk-container-id-7 div.sk-parallel-item::before {content: \"\";position: absolute;border-left: 1px solid gray;box-sizing: border-box;top: 0;bottom: 0;left: 50%;z-index: -1;}#sk-container-id-7 div.sk-parallel-item {display: flex;flex-direction: column;z-index: 1;position: relative;background-color: white;}#sk-container-id-7 div.sk-parallel-item:first-child::after {align-self: flex-end;width: 50%;}#sk-container-id-7 div.sk-parallel-item:last-child::after {align-self: flex-start;width: 50%;}#sk-container-id-7 div.sk-parallel-item:only-child::after {width: 0;}#sk-container-id-7 div.sk-dashed-wrapped {border: 1px dashed gray;margin: 0 0.4em 0.5em 0.4em;box-sizing: border-box;padding-bottom: 0.4em;background-color: white;}#sk-container-id-7 div.sk-label label {font-family: monospace;font-weight: bold;display: inline-block;line-height: 1.2em;}#sk-container-id-7 div.sk-label-container {text-align: center;}#sk-container-id-7 div.sk-container {/* jupyter's `normalize.less` sets `[hidden] { display: none; }` but bootstrap.min.css set `[hidden] { display: none !important; }` so we also need the `!important` here to be able to override the default hidden behavior on the sphinx rendered scikit-learn.org. See: https://github.com/scikit-learn/scikit-learn/issues/21755 */display: inline-block !important;position: relative;}#sk-container-id-7 div.sk-text-repr-fallback {display: none;}</style><div id=\"sk-container-id-7\" class=\"sk-top-container\"><div class=\"sk-text-repr-fallback\"><pre>RandomForestClassifier(random_state=123)</pre><b>In a Jupyter environment, please rerun this cell to show the HTML representation or trust the notebook. <br />On GitHub, the HTML representation is unable to render, please try loading this page with nbviewer.org.</b></div><div class=\"sk-container\" hidden><div class=\"sk-item\"><div class=\"sk-estimator sk-toggleable\"><input class=\"sk-toggleable__control sk-hidden--visually\" id=\"sk-estimator-id-9\" type=\"checkbox\" checked><label for=\"sk-estimator-id-9\" class=\"sk-toggleable__label sk-toggleable__label-arrow\">RandomForestClassifier</label><div class=\"sk-toggleable__content\"><pre>RandomForestClassifier(random_state=123)</pre></div></div></div></div></div>"
      ],
      "text/plain": [
       "RandomForestClassifier(random_state=123)"
      ]
     },
     "execution_count": 119,
     "metadata": {},
     "output_type": "execute_result"
    }
   ],
   "source": [
    "rfc = RandomForestClassifier(n_estimators = 100, random_state = 123)\n",
    "rfc.fit(X_train, y_train)"
   ]
  },
  {
   "cell_type": "code",
   "execution_count": 120,
   "metadata": {},
   "outputs": [
    {
     "data": {
      "text/plain": [
       "0.7488933795227097"
      ]
     },
     "execution_count": 120,
     "metadata": {},
     "output_type": "execute_result"
    }
   ],
   "source": [
    "y_pred = rfc.predict(X_test)\n",
    "rfc_accuracy = accuracy_score(y_test, y_pred)\n",
    "rfc_accuracy"
   ]
  },
  {
   "cell_type": "code",
   "execution_count": 121,
   "metadata": {},
   "outputs": [
    {
     "data": {
      "text/plain": [
       "0.7034958432771236"
      ]
     },
     "execution_count": 121,
     "metadata": {},
     "output_type": "execute_result"
    }
   ],
   "source": [
    "# Precision\n",
    "\n",
    "rfc_precision = precision_score(y_test, y_pred)\n",
    "rfc_precision"
   ]
  },
  {
   "cell_type": "code",
   "execution_count": 122,
   "metadata": {},
   "outputs": [
    {
     "data": {
      "text/plain": [
       "0.8604375160379779"
      ]
     },
     "execution_count": 122,
     "metadata": {},
     "output_type": "execute_result"
    }
   ],
   "source": [
    "# Recall\n",
    "\n",
    "rfc_recall = recall_score(y_test, y_pred)\n",
    "rfc_recall"
   ]
  },
  {
   "cell_type": "code",
   "execution_count": 123,
   "metadata": {},
   "outputs": [
    {
     "data": {
      "text/plain": [
       "array([[19870, 11306],\n",
       "       [ 4351, 26825]], dtype=int64)"
      ]
     },
     "execution_count": 123,
     "metadata": {},
     "output_type": "execute_result"
    }
   ],
   "source": [
    "# Matriz de confusion\n",
    "\n",
    "rfc_m_confs = confusion_matrix(y_test, y_pred)\n",
    "rfc_m_confs"
   ]
  },
  {
   "cell_type": "code",
   "execution_count": 124,
   "metadata": {},
   "outputs": [
    {
     "data": {
      "text/plain": [
       "0.774092083050774"
      ]
     },
     "execution_count": 124,
     "metadata": {},
     "output_type": "execute_result"
    }
   ],
   "source": [
    "# F-score\n",
    "\n",
    "rfc_f_score = f1_score(y_test, y_pred)\n",
    "rfc_f_score"
   ]
  },
  {
   "cell_type": "code",
   "execution_count": 125,
   "metadata": {},
   "outputs": [
    {
     "data": {
      "text/plain": [
       "<sklearn.metrics._plot.roc_curve.RocCurveDisplay at 0x20e28225510>"
      ]
     },
     "execution_count": 125,
     "metadata": {},
     "output_type": "execute_result"
    },
    {
     "data": {
      "image/png": "[encoded data removed]",
      "text/plain": [
       "<Figure size 640x480 with 1 Axes>"
      ]
     },
     "metadata": {},
     "output_type": "display_data"
    }
   ],
   "source": [
    "# Curva ROC\n",
    "\n",
    "rfc_roc = RocCurveDisplay.from_estimator(rfc, X_test, y_test)\n",
    "rfc_roc"
   ]
  },
  {
   "cell_type": "code",
   "execution_count": 126,
   "metadata": {},
   "outputs": [
    {
     "data": {
      "text/plain": [
       "0.8280232383715483"
      ]
     },
     "execution_count": 126,
     "metadata": {},
     "output_type": "execute_result"
    }
   ],
   "source": [
    "# Area bajo la curva ROC\n",
    "\n",
    "rfc_auc = roc_auc_score(y_test, rfc.predict_proba(X_test)[:, 1])\n",
    "rfc_auc"
   ]
  },
  {
   "cell_type": "code",
   "execution_count": 127,
   "metadata": {},
   "outputs": [
    {
     "data": {
      "text/plain": [
       "0.7488933795227097"
      ]
     },
     "execution_count": 127,
     "metadata": {},
     "output_type": "execute_result"
    }
   ],
   "source": [
    "# Balanced accuracy\n",
    "\n",
    "rfc_b_acc = balanced_accuracy_score(y_test, y_pred)\n",
    "rfc_b_acc"
   ]
  },
  {
   "cell_type": "code",
   "execution_count": 133,
   "metadata": {},
   "outputs": [
    {
     "data": {
      "text/html": [
       "<div>\n",
       "<style scoped>\n",
       "    .dataframe tbody tr th:only-of-type {\n",
       "        vertical-align: middle;\n",
       "    }\n",
       "\n",
       "    .dataframe tbody tr th {\n",
       "        vertical-align: top;\n",
       "    }\n",
       "\n",
       "    .dataframe thead th {\n",
       "        text-align: right;\n",
       "    }\n",
       "</style>\n",
       "<table border=\"1\" class=\"dataframe\">\n",
       "  <thead>\n",
       "    <tr style=\"text-align: right;\">\n",
       "      <th></th>\n",
       "      <th>Reg_Logistica</th>\n",
       "      <th>K-NN</th>\n",
       "      <th>Decission_Tree</th>\n",
       "      <th>Bagging</th>\n",
       "      <th>Random_Forest</th>\n",
       "    </tr>\n",
       "  </thead>\n",
       "  <tbody>\n",
       "    <tr>\n",
       "      <th>accuracy</th>\n",
       "      <td>0.754175</td>\n",
       "      <td>0.696369</td>\n",
       "      <td>0.74559</td>\n",
       "      <td>0.73903</td>\n",
       "      <td>0.748893</td>\n",
       "    </tr>\n",
       "    <tr>\n",
       "      <th>precision</th>\n",
       "      <td>0.714762</td>\n",
       "      <td>0.677275</td>\n",
       "      <td>0.706025</td>\n",
       "      <td>0.763377</td>\n",
       "      <td>0.703496</td>\n",
       "    </tr>\n",
       "    <tr>\n",
       "      <th>recall</th>\n",
       "      <td>0.838818</td>\n",
       "      <td>0.750225</td>\n",
       "      <td>0.841609</td>\n",
       "      <td>0.692809</td>\n",
       "      <td>0.860438</td>\n",
       "    </tr>\n",
       "    <tr>\n",
       "      <th>confusion_matrix</th>\n",
       "      <td>[[20740, 10436], [5025, 26151]]</td>\n",
       "      <td>[[20031, 11145], [7787, 23389]]</td>\n",
       "      <td>[[20251, 10925], [4938, 26238]]</td>\n",
       "      <td>[[24481, 6695], [9577, 21599]]</td>\n",
       "      <td>[[19870, 11306], [4351, 26825]]</td>\n",
       "    </tr>\n",
       "    <tr>\n",
       "      <th>f1_score</th>\n",
       "      <td>0.771837</td>\n",
       "      <td>0.711886</td>\n",
       "      <td>0.767878</td>\n",
       "      <td>0.726383</td>\n",
       "      <td>0.774092</td>\n",
       "    </tr>\n",
       "    <tr>\n",
       "      <th>auc</th>\n",
       "      <td>0.838336</td>\n",
       "      <td>0.747299</td>\n",
       "      <td>0.80214</td>\n",
       "      <td>0.831291</td>\n",
       "      <td>0.828023</td>\n",
       "    </tr>\n",
       "    <tr>\n",
       "      <th>balanced_accuracy</th>\n",
       "      <td>0.752037</td>\n",
       "      <td>0.696369</td>\n",
       "      <td>0.74559</td>\n",
       "      <td>0.73903</td>\n",
       "      <td>0.748893</td>\n",
       "    </tr>\n",
       "  </tbody>\n",
       "</table>\n",
       "</div>"
      ],
      "text/plain": [
       "                                     Reg_Logistica   \n",
       "accuracy                                  0.754175  \\\n",
       "precision                                 0.714762   \n",
       "recall                                    0.838818   \n",
       "confusion_matrix   [[20740, 10436], [5025, 26151]]   \n",
       "f1_score                                  0.771837   \n",
       "auc                                       0.838336   \n",
       "balanced_accuracy                         0.752037   \n",
       "\n",
       "                                              K-NN   \n",
       "accuracy                                  0.696369  \\\n",
       "precision                                 0.677275   \n",
       "recall                                    0.750225   \n",
       "confusion_matrix   [[20031, 11145], [7787, 23389]]   \n",
       "f1_score                                  0.711886   \n",
       "auc                                       0.747299   \n",
       "balanced_accuracy                         0.696369   \n",
       "\n",
       "                                    Decission_Tree   \n",
       "accuracy                                   0.74559  \\\n",
       "precision                                 0.706025   \n",
       "recall                                    0.841609   \n",
       "confusion_matrix   [[20251, 10925], [4938, 26238]]   \n",
       "f1_score                                  0.767878   \n",
       "auc                                        0.80214   \n",
       "balanced_accuracy                          0.74559   \n",
       "\n",
       "                                          Bagging   \n",
       "accuracy                                  0.73903  \\\n",
       "precision                                0.763377   \n",
       "recall                                   0.692809   \n",
       "confusion_matrix   [[24481, 6695], [9577, 21599]]   \n",
       "f1_score                                 0.726383   \n",
       "auc                                      0.831291   \n",
       "balanced_accuracy                         0.73903   \n",
       "\n",
       "                                     Random_Forest  \n",
       "accuracy                                  0.748893  \n",
       "precision                                 0.703496  \n",
       "recall                                    0.860438  \n",
       "confusion_matrix   [[19870, 11306], [4351, 26825]]  \n",
       "f1_score                                  0.774092  \n",
       "auc                                       0.828023  \n",
       "balanced_accuracy                         0.748893  "
      ]
     },
     "execution_count": 133,
     "metadata": {},
     "output_type": "execute_result"
    }
   ],
   "source": [
    "data = {'Random_Forest': [rfc_accuracy, rfc_precision, rfc_recall, rfc_m_confs, rfc_f_score, rfc_auc, rfc_b_acc]}\n",
    "index = ['accuracy', 'precision', 'recall', 'confusion_matrix', 'f1_score', 'auc', 'balanced_accuracy']\n",
    "rfc = pd.DataFrame(data=data, index=index)\n",
    "modelos_acc = pd.merge(modelos_acc, rfc, left_index=True, right_index=True)\n",
    "modelos_acc"
   ]
  },
  {
   "attachments": {},
   "cell_type": "markdown",
   "metadata": {},
   "source": [
    "    - Gradient Boost"
   ]
  },
  {
   "cell_type": "code",
   "execution_count": 136,
   "metadata": {},
   "outputs": [
    {
     "data": {
      "text/html": [
       "<style>#sk-container-id-8 {color: black;background-color: white;}#sk-container-id-8 pre{padding: 0;}#sk-container-id-8 div.sk-toggleable {background-color: white;}#sk-container-id-8 label.sk-toggleable__label {cursor: pointer;display: block;width: 100%;margin-bottom: 0;padding: 0.3em;box-sizing: border-box;text-align: center;}#sk-container-id-8 label.sk-toggleable__label-arrow:before {content: \"▸\";float: left;margin-right: 0.25em;color: #696969;}#sk-container-id-8 label.sk-toggleable__label-arrow:hover:before {color: black;}#sk-container-id-8 div.sk-estimator:hover label.sk-toggleable__label-arrow:before {color: black;}#sk-container-id-8 div.sk-toggleable__content {max-height: 0;max-width: 0;overflow: hidden;text-align: left;background-color: #f0f8ff;}#sk-container-id-8 div.sk-toggleable__content pre {margin: 0.2em;color: black;border-radius: 0.25em;background-color: #f0f8ff;}#sk-container-id-8 input.sk-toggleable__control:checked~div.sk-toggleable__content {max-height: 200px;max-width: 100%;overflow: auto;}#sk-container-id-8 input.sk-toggleable__control:checked~label.sk-toggleable__label-arrow:before {content: \"▾\";}#sk-container-id-8 div.sk-estimator input.sk-toggleable__control:checked~label.sk-toggleable__label {background-color: #d4ebff;}#sk-container-id-8 div.sk-label input.sk-toggleable__control:checked~label.sk-toggleable__label {background-color: #d4ebff;}#sk-container-id-8 input.sk-hidden--visually {border: 0;clip: rect(1px 1px 1px 1px);clip: rect(1px, 1px, 1px, 1px);height: 1px;margin: -1px;overflow: hidden;padding: 0;position: absolute;width: 1px;}#sk-container-id-8 div.sk-estimator {font-family: monospace;background-color: #f0f8ff;border: 1px dotted black;border-radius: 0.25em;box-sizing: border-box;margin-bottom: 0.5em;}#sk-container-id-8 div.sk-estimator:hover {background-color: #d4ebff;}#sk-container-id-8 div.sk-parallel-item::after {content: \"\";width: 100%;border-bottom: 1px solid gray;flex-grow: 1;}#sk-container-id-8 div.sk-label:hover label.sk-toggleable__label {background-color: #d4ebff;}#sk-container-id-8 div.sk-serial::before {content: \"\";position: absolute;border-left: 1px solid gray;box-sizing: border-box;top: 0;bottom: 0;left: 50%;z-index: 0;}#sk-container-id-8 div.sk-serial {display: flex;flex-direction: column;align-items: center;background-color: white;padding-right: 0.2em;padding-left: 0.2em;position: relative;}#sk-container-id-8 div.sk-item {position: relative;z-index: 1;}#sk-container-id-8 div.sk-parallel {display: flex;align-items: stretch;justify-content: center;background-color: white;position: relative;}#sk-container-id-8 div.sk-item::before, #sk-container-id-8 div.sk-parallel-item::before {content: \"\";position: absolute;border-left: 1px solid gray;box-sizing: border-box;top: 0;bottom: 0;left: 50%;z-index: -1;}#sk-container-id-8 div.sk-parallel-item {display: flex;flex-direction: column;z-index: 1;position: relative;background-color: white;}#sk-container-id-8 div.sk-parallel-item:first-child::after {align-self: flex-end;width: 50%;}#sk-container-id-8 div.sk-parallel-item:last-child::after {align-self: flex-start;width: 50%;}#sk-container-id-8 div.sk-parallel-item:only-child::after {width: 0;}#sk-container-id-8 div.sk-dashed-wrapped {border: 1px dashed gray;margin: 0 0.4em 0.5em 0.4em;box-sizing: border-box;padding-bottom: 0.4em;background-color: white;}#sk-container-id-8 div.sk-label label {font-family: monospace;font-weight: bold;display: inline-block;line-height: 1.2em;}#sk-container-id-8 div.sk-label-container {text-align: center;}#sk-container-id-8 div.sk-container {/* jupyter's `normalize.less` sets `[hidden] { display: none; }` but bootstrap.min.css set `[hidden] { display: none !important; }` so we also need the `!important` here to be able to override the default hidden behavior on the sphinx rendered scikit-learn.org. See: https://github.com/scikit-learn/scikit-learn/issues/21755 */display: inline-block !important;position: relative;}#sk-container-id-8 div.sk-text-repr-fallback {display: none;}</style><div id=\"sk-container-id-8\" class=\"sk-top-container\"><div class=\"sk-text-repr-fallback\"><pre>GradientBoostingClassifier(random_state=123)</pre><b>In a Jupyter environment, please rerun this cell to show the HTML representation or trust the notebook. <br />On GitHub, the HTML representation is unable to render, please try loading this page with nbviewer.org.</b></div><div class=\"sk-container\" hidden><div class=\"sk-item\"><div class=\"sk-estimator sk-toggleable\"><input class=\"sk-toggleable__control sk-hidden--visually\" id=\"sk-estimator-id-10\" type=\"checkbox\" checked><label for=\"sk-estimator-id-10\" class=\"sk-toggleable__label sk-toggleable__label-arrow\">GradientBoostingClassifier</label><div class=\"sk-toggleable__content\"><pre>GradientBoostingClassifier(random_state=123)</pre></div></div></div></div></div>"
      ],
      "text/plain": [
       "GradientBoostingClassifier(random_state=123)"
      ]
     },
     "execution_count": 136,
     "metadata": {},
     "output_type": "execute_result"
    }
   ],
   "source": [
    "gbc = GradientBoostingClassifier(n_estimators = 100, random_state = 123)\n",
    "gbc.fit(X_train, y_train)"
   ]
  },
  {
   "cell_type": "code",
   "execution_count": 137,
   "metadata": {},
   "outputs": [
    {
     "data": {
      "text/plain": [
       "0.7555812163202463"
      ]
     },
     "execution_count": 137,
     "metadata": {},
     "output_type": "execute_result"
    }
   ],
   "source": [
    "y_pred = gbc.predict(X_test)\n",
    "gbc_accuracy = accuracy_score(y_test, y_pred)\n",
    "gbc_accuracy"
   ]
  },
  {
   "cell_type": "code",
   "execution_count": 138,
   "metadata": {},
   "outputs": [
    {
     "data": {
      "text/plain": [
       "0.7170052835121739"
      ]
     },
     "execution_count": 138,
     "metadata": {},
     "output_type": "execute_result"
    }
   ],
   "source": [
    "# Precision\n",
    "\n",
    "gbc_precision = precision_score(y_test, y_pred)\n",
    "gbc_precision"
   ]
  },
  {
   "cell_type": "code",
   "execution_count": 139,
   "metadata": {},
   "outputs": [
    {
     "data": {
      "text/plain": [
       "0.8444636900179625"
      ]
     },
     "execution_count": 139,
     "metadata": {},
     "output_type": "execute_result"
    }
   ],
   "source": [
    "# Recall\n",
    "\n",
    "gbc_recall = recall_score(y_test, y_pred)\n",
    "gbc_recall"
   ]
  },
  {
   "cell_type": "code",
   "execution_count": 140,
   "metadata": {},
   "outputs": [
    {
     "data": {
      "text/plain": [
       "array([[20785, 10391],\n",
       "       [ 4849, 26327]], dtype=int64)"
      ]
     },
     "execution_count": 140,
     "metadata": {},
     "output_type": "execute_result"
    }
   ],
   "source": [
    "# Matriz de confusion\n",
    "\n",
    "gbc_m_confs = confusion_matrix(y_test, y_pred)\n",
    "gbc_m_confs"
   ]
  },
  {
   "cell_type": "code",
   "execution_count": 141,
   "metadata": {},
   "outputs": [
    {
     "data": {
      "text/plain": [
       "0.7755324476389667"
      ]
     },
     "execution_count": 141,
     "metadata": {},
     "output_type": "execute_result"
    }
   ],
   "source": [
    "# F-score\n",
    "\n",
    "gbc_f_score = f1_score(y_test, y_pred)\n",
    "gbc_f_score"
   ]
  },
  {
   "cell_type": "code",
   "execution_count": 142,
   "metadata": {},
   "outputs": [
    {
     "data": {
      "text/plain": [
       "<sklearn.metrics._plot.roc_curve.RocCurveDisplay at 0x20e20e85510>"
      ]
     },
     "execution_count": 142,
     "metadata": {},
     "output_type": "execute_result"
    },
    {
     "data": {
      "image/png": "[encoded data removed]",
      "text/plain": [
       "<Figure size 640x480 with 1 Axes>"
      ]
     },
     "metadata": {},
     "output_type": "display_data"
    }
   ],
   "source": [
    "# Curva ROC\n",
    "\n",
    "gbc_roc = RocCurveDisplay.from_estimator(gbc, X_test, y_test)\n",
    "gbc_roc"
   ]
  },
  {
   "cell_type": "code",
   "execution_count": 143,
   "metadata": {},
   "outputs": [
    {
     "data": {
      "text/plain": [
       "0.8422296412582954"
      ]
     },
     "execution_count": 143,
     "metadata": {},
     "output_type": "execute_result"
    }
   ],
   "source": [
    "# Area bajo la curva ROC\n",
    "\n",
    "gbc_auc = roc_auc_score(y_test, gbc.predict_proba(X_test)[:, 1])\n",
    "gbc_auc"
   ]
  },
  {
   "cell_type": "code",
   "execution_count": 144,
   "metadata": {},
   "outputs": [
    {
     "data": {
      "text/plain": [
       "0.7555812163202463"
      ]
     },
     "execution_count": 144,
     "metadata": {},
     "output_type": "execute_result"
    }
   ],
   "source": [
    "# Balanced accuracy\n",
    "\n",
    "gbc_b_acc = balanced_accuracy_score(y_test, y_pred)\n",
    "gbc_b_acc"
   ]
  },
  {
   "cell_type": "code",
   "execution_count": 150,
   "metadata": {},
   "outputs": [
    {
     "data": {
      "text/html": [
       "<div>\n",
       "<style scoped>\n",
       "    .dataframe tbody tr th:only-of-type {\n",
       "        vertical-align: middle;\n",
       "    }\n",
       "\n",
       "    .dataframe tbody tr th {\n",
       "        vertical-align: top;\n",
       "    }\n",
       "\n",
       "    .dataframe thead th {\n",
       "        text-align: right;\n",
       "    }\n",
       "</style>\n",
       "<table border=\"1\" class=\"dataframe\">\n",
       "  <thead>\n",
       "    <tr style=\"text-align: right;\">\n",
       "      <th></th>\n",
       "      <th>Reg_Logistica</th>\n",
       "      <th>K-NN</th>\n",
       "      <th>Decission_Tree</th>\n",
       "      <th>Bagging</th>\n",
       "      <th>Random_Forest</th>\n",
       "      <th>Gradient_boost</th>\n",
       "    </tr>\n",
       "  </thead>\n",
       "  <tbody>\n",
       "    <tr>\n",
       "      <th>accuracy</th>\n",
       "      <td>0.754175</td>\n",
       "      <td>0.696369</td>\n",
       "      <td>0.74559</td>\n",
       "      <td>0.73903</td>\n",
       "      <td>0.748893</td>\n",
       "      <td>0.755581</td>\n",
       "    </tr>\n",
       "    <tr>\n",
       "      <th>precision</th>\n",
       "      <td>0.714762</td>\n",
       "      <td>0.677275</td>\n",
       "      <td>0.706025</td>\n",
       "      <td>0.763377</td>\n",
       "      <td>0.703496</td>\n",
       "      <td>0.717005</td>\n",
       "    </tr>\n",
       "    <tr>\n",
       "      <th>recall</th>\n",
       "      <td>0.838818</td>\n",
       "      <td>0.750225</td>\n",
       "      <td>0.841609</td>\n",
       "      <td>0.692809</td>\n",
       "      <td>0.860438</td>\n",
       "      <td>0.844464</td>\n",
       "    </tr>\n",
       "    <tr>\n",
       "      <th>confusion_matrix</th>\n",
       "      <td>[[20740, 10436], [5025, 26151]]</td>\n",
       "      <td>[[20031, 11145], [7787, 23389]]</td>\n",
       "      <td>[[20251, 10925], [4938, 26238]]</td>\n",
       "      <td>[[24481, 6695], [9577, 21599]]</td>\n",
       "      <td>[[19870, 11306], [4351, 26825]]</td>\n",
       "      <td>[[20785, 10391], [4849, 26327]]</td>\n",
       "    </tr>\n",
       "    <tr>\n",
       "      <th>f1_score</th>\n",
       "      <td>0.771837</td>\n",
       "      <td>0.711886</td>\n",
       "      <td>0.767878</td>\n",
       "      <td>0.726383</td>\n",
       "      <td>0.774092</td>\n",
       "      <td>0.775532</td>\n",
       "    </tr>\n",
       "    <tr>\n",
       "      <th>auc</th>\n",
       "      <td>0.838336</td>\n",
       "      <td>0.747299</td>\n",
       "      <td>0.80214</td>\n",
       "      <td>0.831291</td>\n",
       "      <td>0.828023</td>\n",
       "      <td>0.84223</td>\n",
       "    </tr>\n",
       "    <tr>\n",
       "      <th>balanced_accuracy</th>\n",
       "      <td>0.752037</td>\n",
       "      <td>0.696369</td>\n",
       "      <td>0.74559</td>\n",
       "      <td>0.73903</td>\n",
       "      <td>0.748893</td>\n",
       "      <td>0.755581</td>\n",
       "    </tr>\n",
       "  </tbody>\n",
       "</table>\n",
       "</div>"
      ],
      "text/plain": [
       "                                     Reg_Logistica   \n",
       "accuracy                                  0.754175  \\\n",
       "precision                                 0.714762   \n",
       "recall                                    0.838818   \n",
       "confusion_matrix   [[20740, 10436], [5025, 26151]]   \n",
       "f1_score                                  0.771837   \n",
       "auc                                       0.838336   \n",
       "balanced_accuracy                         0.752037   \n",
       "\n",
       "                                              K-NN   \n",
       "accuracy                                  0.696369  \\\n",
       "precision                                 0.677275   \n",
       "recall                                    0.750225   \n",
       "confusion_matrix   [[20031, 11145], [7787, 23389]]   \n",
       "f1_score                                  0.711886   \n",
       "auc                                       0.747299   \n",
       "balanced_accuracy                         0.696369   \n",
       "\n",
       "                                    Decission_Tree   \n",
       "accuracy                                   0.74559  \\\n",
       "precision                                 0.706025   \n",
       "recall                                    0.841609   \n",
       "confusion_matrix   [[20251, 10925], [4938, 26238]]   \n",
       "f1_score                                  0.767878   \n",
       "auc                                        0.80214   \n",
       "balanced_accuracy                          0.74559   \n",
       "\n",
       "                                          Bagging   \n",
       "accuracy                                  0.73903  \\\n",
       "precision                                0.763377   \n",
       "recall                                   0.692809   \n",
       "confusion_matrix   [[24481, 6695], [9577, 21599]]   \n",
       "f1_score                                 0.726383   \n",
       "auc                                      0.831291   \n",
       "balanced_accuracy                         0.73903   \n",
       "\n",
       "                                     Random_Forest   \n",
       "accuracy                                  0.748893  \\\n",
       "precision                                 0.703496   \n",
       "recall                                    0.860438   \n",
       "confusion_matrix   [[19870, 11306], [4351, 26825]]   \n",
       "f1_score                                  0.774092   \n",
       "auc                                       0.828023   \n",
       "balanced_accuracy                         0.748893   \n",
       "\n",
       "                                    Gradient_boost  \n",
       "accuracy                                  0.755581  \n",
       "precision                                 0.717005  \n",
       "recall                                    0.844464  \n",
       "confusion_matrix   [[20785, 10391], [4849, 26327]]  \n",
       "f1_score                                  0.775532  \n",
       "auc                                        0.84223  \n",
       "balanced_accuracy                         0.755581  "
      ]
     },
     "execution_count": 150,
     "metadata": {},
     "output_type": "execute_result"
    }
   ],
   "source": [
    "data = {'Gradient_boost': [gbc_accuracy, gbc_precision, gbc_recall, gbc_m_confs, gbc_f_score, gbc_auc, gbc_b_acc]}\n",
    "index = ['accuracy', 'precision', 'recall', 'confusion_matrix', 'f1_score', 'auc', 'balanced_accuracy']\n",
    "gbc = pd.DataFrame(data=data, index=index)\n",
    "modelos_acc = pd.merge(modelos_acc, gbc, left_index=True, right_index=True)\n",
    "modelos_acc"
   ]
  },
  {
   "attachments": {},
   "cell_type": "markdown",
   "metadata": {},
   "source": [
    "    - XGBoost"
   ]
  },
  {
   "cell_type": "code",
   "execution_count": null,
   "metadata": {},
   "outputs": [],
   "source": [
    "y_train[y_train==-1] = 0 # Para evitar errores con XGBoost\n",
    "y_test[y_test==-1] = 0 # Para evitar errores con XGBoost"
   ]
  },
  {
   "cell_type": "code",
   "execution_count": 179,
   "metadata": {},
   "outputs": [
    {
     "data": {
      "text/html": [
       "<style>#sk-container-id-10 {color: black;background-color: white;}#sk-container-id-10 pre{padding: 0;}#sk-container-id-10 div.sk-toggleable {background-color: white;}#sk-container-id-10 label.sk-toggleable__label {cursor: pointer;display: block;width: 100%;margin-bottom: 0;padding: 0.3em;box-sizing: border-box;text-align: center;}#sk-container-id-10 label.sk-toggleable__label-arrow:before {content: \"▸\";float: left;margin-right: 0.25em;color: #696969;}#sk-container-id-10 label.sk-toggleable__label-arrow:hover:before {color: black;}#sk-container-id-10 div.sk-estimator:hover label.sk-toggleable__label-arrow:before {color: black;}#sk-container-id-10 div.sk-toggleable__content {max-height: 0;max-width: 0;overflow: hidden;text-align: left;background-color: #f0f8ff;}#sk-container-id-10 div.sk-toggleable__content pre {margin: 0.2em;color: black;border-radius: 0.25em;background-color: #f0f8ff;}#sk-container-id-10 input.sk-toggleable__control:checked~div.sk-toggleable__content {max-height: 200px;max-width: 100%;overflow: auto;}#sk-container-id-10 input.sk-toggleable__control:checked~label.sk-toggleable__label-arrow:before {content: \"▾\";}#sk-container-id-10 div.sk-estimator input.sk-toggleable__control:checked~label.sk-toggleable__label {background-color: #d4ebff;}#sk-container-id-10 div.sk-label input.sk-toggleable__control:checked~label.sk-toggleable__label {background-color: #d4ebff;}#sk-container-id-10 input.sk-hidden--visually {border: 0;clip: rect(1px 1px 1px 1px);clip: rect(1px, 1px, 1px, 1px);height: 1px;margin: -1px;overflow: hidden;padding: 0;position: absolute;width: 1px;}#sk-container-id-10 div.sk-estimator {font-family: monospace;background-color: #f0f8ff;border: 1px dotted black;border-radius: 0.25em;box-sizing: border-box;margin-bottom: 0.5em;}#sk-container-id-10 div.sk-estimator:hover {background-color: #d4ebff;}#sk-container-id-10 div.sk-parallel-item::after {content: \"\";width: 100%;border-bottom: 1px solid gray;flex-grow: 1;}#sk-container-id-10 div.sk-label:hover label.sk-toggleable__label {background-color: #d4ebff;}#sk-container-id-10 div.sk-serial::before {content: \"\";position: absolute;border-left: 1px solid gray;box-sizing: border-box;top: 0;bottom: 0;left: 50%;z-index: 0;}#sk-container-id-10 div.sk-serial {display: flex;flex-direction: column;align-items: center;background-color: white;padding-right: 0.2em;padding-left: 0.2em;position: relative;}#sk-container-id-10 div.sk-item {position: relative;z-index: 1;}#sk-container-id-10 div.sk-parallel {display: flex;align-items: stretch;justify-content: center;background-color: white;position: relative;}#sk-container-id-10 div.sk-item::before, #sk-container-id-10 div.sk-parallel-item::before {content: \"\";position: absolute;border-left: 1px solid gray;box-sizing: border-box;top: 0;bottom: 0;left: 50%;z-index: -1;}#sk-container-id-10 div.sk-parallel-item {display: flex;flex-direction: column;z-index: 1;position: relative;background-color: white;}#sk-container-id-10 div.sk-parallel-item:first-child::after {align-self: flex-end;width: 50%;}#sk-container-id-10 div.sk-parallel-item:last-child::after {align-self: flex-start;width: 50%;}#sk-container-id-10 div.sk-parallel-item:only-child::after {width: 0;}#sk-container-id-10 div.sk-dashed-wrapped {border: 1px dashed gray;margin: 0 0.4em 0.5em 0.4em;box-sizing: border-box;padding-bottom: 0.4em;background-color: white;}#sk-container-id-10 div.sk-label label {font-family: monospace;font-weight: bold;display: inline-block;line-height: 1.2em;}#sk-container-id-10 div.sk-label-container {text-align: center;}#sk-container-id-10 div.sk-container {/* jupyter's `normalize.less` sets `[hidden] { display: none; }` but bootstrap.min.css set `[hidden] { display: none !important; }` so we also need the `!important` here to be able to override the default hidden behavior on the sphinx rendered scikit-learn.org. See: https://github.com/scikit-learn/scikit-learn/issues/21755 */display: inline-block !important;position: relative;}#sk-container-id-10 div.sk-text-repr-fallback {display: none;}</style><div id=\"sk-container-id-10\" class=\"sk-top-container\"><div class=\"sk-text-repr-fallback\"><pre>XGBClassifier(base_score=None, booster=None, callbacks=None,\n",
       "              colsample_bylevel=None, colsample_bynode=None,\n",
       "              colsample_bytree=None, early_stopping_rounds=None,\n",
       "              enable_categorical=False, eval_metric=None, feature_types=None,\n",
       "              gamma=None, gpu_id=None, grow_policy=None, importance_type=None,\n",
       "              interaction_constraints=None, learning_rate=None, max_bin=None,\n",
       "              max_cat_threshold=None, max_cat_to_onehot=None,\n",
       "              max_delta_step=None, max_depth=10, max_leaves=None,\n",
       "              min_child_weight=None, missing=nan, monotone_constraints=None,\n",
       "              n_estimators=200, n_jobs=None, num_parallel_tree=None,\n",
       "              predictor=None, random_state=123, ...)</pre><b>In a Jupyter environment, please rerun this cell to show the HTML representation or trust the notebook. <br />On GitHub, the HTML representation is unable to render, please try loading this page with nbviewer.org.</b></div><div class=\"sk-container\" hidden><div class=\"sk-item\"><div class=\"sk-estimator sk-toggleable\"><input class=\"sk-toggleable__control sk-hidden--visually\" id=\"sk-estimator-id-12\" type=\"checkbox\" checked><label for=\"sk-estimator-id-12\" class=\"sk-toggleable__label sk-toggleable__label-arrow\">XGBClassifier</label><div class=\"sk-toggleable__content\"><pre>XGBClassifier(base_score=None, booster=None, callbacks=None,\n",
       "              colsample_bylevel=None, colsample_bynode=None,\n",
       "              colsample_bytree=None, early_stopping_rounds=None,\n",
       "              enable_categorical=False, eval_metric=None, feature_types=None,\n",
       "              gamma=None, gpu_id=None, grow_policy=None, importance_type=None,\n",
       "              interaction_constraints=None, learning_rate=None, max_bin=None,\n",
       "              max_cat_threshold=None, max_cat_to_onehot=None,\n",
       "              max_delta_step=None, max_depth=10, max_leaves=None,\n",
       "              min_child_weight=None, missing=nan, monotone_constraints=None,\n",
       "              n_estimators=200, n_jobs=None, num_parallel_tree=None,\n",
       "              predictor=None, random_state=123, ...)</pre></div></div></div></div></div>"
      ],
      "text/plain": [
       "XGBClassifier(base_score=None, booster=None, callbacks=None,\n",
       "              colsample_bylevel=None, colsample_bynode=None,\n",
       "              colsample_bytree=None, early_stopping_rounds=None,\n",
       "              enable_categorical=False, eval_metric=None, feature_types=None,\n",
       "              gamma=None, gpu_id=None, grow_policy=None, importance_type=None,\n",
       "              interaction_constraints=None, learning_rate=None, max_bin=None,\n",
       "              max_cat_threshold=None, max_cat_to_onehot=None,\n",
       "              max_delta_step=None, max_depth=10, max_leaves=None,\n",
       "              min_child_weight=None, missing=nan, monotone_constraints=None,\n",
       "              n_estimators=200, n_jobs=None, num_parallel_tree=None,\n",
       "              predictor=None, random_state=123, ...)"
      ]
     },
     "execution_count": 179,
     "metadata": {},
     "output_type": "execute_result"
    }
   ],
   "source": [
    "xgb_model = xgb.XGBClassifier(n_estimators = 200, max_depth = 10, random_state = 123)\n",
    "xgb_model.fit(X_train, y_train)"
   ]
  },
  {
   "cell_type": "code",
   "execution_count": 181,
   "metadata": {},
   "outputs": [
    {
     "data": {
      "text/plain": [
       "0.38080574801129075"
      ]
     },
     "execution_count": 181,
     "metadata": {},
     "output_type": "execute_result"
    }
   ],
   "source": [
    "y_pred = xgb_model.predict(X_test)\n",
    "\n",
    "xgb_accuracy = accuracy_score(y_test,y_pred)\n",
    "xgb_accuracy"
   ]
  },
  {
   "cell_type": "code",
   "execution_count": 185,
   "metadata": {},
   "outputs": [
    {
     "data": {
      "text/plain": [
       "0.7529173008625063"
      ]
     },
     "execution_count": 185,
     "metadata": {},
     "output_type": "execute_result"
    }
   ],
   "source": [
    "# Precision\n",
    "\n",
    "xgb_precision = precision_score(y_test, y_pred)\n",
    "xgb_precision"
   ]
  },
  {
   "cell_type": "code",
   "execution_count": 186,
   "metadata": {},
   "outputs": [
    {
     "data": {
      "text/plain": [
       "0.7616114960225815"
      ]
     },
     "execution_count": 186,
     "metadata": {},
     "output_type": "execute_result"
    }
   ],
   "source": [
    "# Recall\n",
    "\n",
    "xgb_recall = recall_score(y_test, y_pred)\n",
    "xgb_recall"
   ]
  },
  {
   "cell_type": "code",
   "execution_count": 187,
   "metadata": {},
   "outputs": [
    {
     "data": {
      "text/plain": [
       "0.7572394438066079"
      ]
     },
     "execution_count": 187,
     "metadata": {},
     "output_type": "execute_result"
    }
   ],
   "source": [
    "#F-score\n",
    "\n",
    "xgb_f_score = f1_score(y_test, y_pred)\n",
    "xgb_f_score"
   ]
  },
  {
   "cell_type": "code",
   "execution_count": 188,
   "metadata": {},
   "outputs": [
    {
     "data": {
      "text/plain": [
       "array([[23384,  7792],\n",
       "       [ 7432, 23744]], dtype=int64)"
      ]
     },
     "execution_count": 188,
     "metadata": {},
     "output_type": "execute_result"
    }
   ],
   "source": [
    "# Matriz de confusion\n",
    "\n",
    "xgb_m_confs = confusion_matrix(y_test, y_pred)\n",
    "xgb_m_confs"
   ]
  },
  {
   "cell_type": "code",
   "execution_count": 189,
   "metadata": {},
   "outputs": [
    {
     "data": {
      "text/plain": [
       "<sklearn.metrics._plot.roc_curve.RocCurveDisplay at 0x20e003502d0>"
      ]
     },
     "execution_count": 189,
     "metadata": {},
     "output_type": "execute_result"
    },
    {
     "data": {
      "image/png": "[encoded data removed]",
      "text/plain": [
       "<Figure size 640x480 with 1 Axes>"
      ]
     },
     "metadata": {},
     "output_type": "display_data"
    }
   ],
   "source": [
    "# Curva ROC\n",
    "\n",
    "xgb_roc = RocCurveDisplay.from_estimator(xgb_model, X_test, y_test)\n",
    "xgb_roc"
   ]
  },
  {
   "cell_type": "code",
   "execution_count": 190,
   "metadata": {},
   "outputs": [
    {
     "data": {
      "text/plain": [
       "0.8535077458083302"
      ]
     },
     "execution_count": 190,
     "metadata": {},
     "output_type": "execute_result"
    }
   ],
   "source": [
    "# Area bajo la curva ROC\n",
    "\n",
    "xgb_auc = roc_auc_score(y_test, xgb_model.predict_proba(X_test)[:, 1])\n",
    "xgb_auc"
   ]
  },
  {
   "cell_type": "code",
   "execution_count": 191,
   "metadata": {},
   "outputs": [
    {
     "data": {
      "text/plain": [
       "0.7558378239671542"
      ]
     },
     "execution_count": 191,
     "metadata": {},
     "output_type": "execute_result"
    }
   ],
   "source": [
    "# Balanced accuracy\n",
    "\n",
    "xgb_b_acc = balanced_accuracy_score(y_test, y_pred)\n",
    "xgb_b_acc"
   ]
  },
  {
   "cell_type": "code",
   "execution_count": 193,
   "metadata": {},
   "outputs": [
    {
     "data": {
      "text/html": [
       "<div>\n",
       "<style scoped>\n",
       "    .dataframe tbody tr th:only-of-type {\n",
       "        vertical-align: middle;\n",
       "    }\n",
       "\n",
       "    .dataframe tbody tr th {\n",
       "        vertical-align: top;\n",
       "    }\n",
       "\n",
       "    .dataframe thead th {\n",
       "        text-align: right;\n",
       "    }\n",
       "</style>\n",
       "<table border=\"1\" class=\"dataframe\">\n",
       "  <thead>\n",
       "    <tr style=\"text-align: right;\">\n",
       "      <th></th>\n",
       "      <th>Reg_Logistica</th>\n",
       "      <th>K-NN</th>\n",
       "      <th>Decission_Tree</th>\n",
       "      <th>Bagging</th>\n",
       "      <th>Random_Forest</th>\n",
       "      <th>Gradient_boost</th>\n",
       "      <th>XG_boost</th>\n",
       "    </tr>\n",
       "  </thead>\n",
       "  <tbody>\n",
       "    <tr>\n",
       "      <th>accuracy</th>\n",
       "      <td>0.754175</td>\n",
       "      <td>0.696369</td>\n",
       "      <td>0.74559</td>\n",
       "      <td>0.73903</td>\n",
       "      <td>0.748893</td>\n",
       "      <td>0.755581</td>\n",
       "      <td>0.755581</td>\n",
       "    </tr>\n",
       "    <tr>\n",
       "      <th>precision</th>\n",
       "      <td>0.714762</td>\n",
       "      <td>0.677275</td>\n",
       "      <td>0.706025</td>\n",
       "      <td>0.763377</td>\n",
       "      <td>0.703496</td>\n",
       "      <td>0.717005</td>\n",
       "      <td>0.717005</td>\n",
       "    </tr>\n",
       "    <tr>\n",
       "      <th>recall</th>\n",
       "      <td>0.838818</td>\n",
       "      <td>0.750225</td>\n",
       "      <td>0.841609</td>\n",
       "      <td>0.692809</td>\n",
       "      <td>0.860438</td>\n",
       "      <td>0.844464</td>\n",
       "      <td>0.844464</td>\n",
       "    </tr>\n",
       "    <tr>\n",
       "      <th>confusion_matrix</th>\n",
       "      <td>[[20740, 10436], [5025, 26151]]</td>\n",
       "      <td>[[20031, 11145], [7787, 23389]]</td>\n",
       "      <td>[[20251, 10925], [4938, 26238]]</td>\n",
       "      <td>[[24481, 6695], [9577, 21599]]</td>\n",
       "      <td>[[19870, 11306], [4351, 26825]]</td>\n",
       "      <td>[[20785, 10391], [4849, 26327]]</td>\n",
       "      <td>[[20785, 10391], [4849, 26327]]</td>\n",
       "    </tr>\n",
       "    <tr>\n",
       "      <th>f1_score</th>\n",
       "      <td>0.771837</td>\n",
       "      <td>0.711886</td>\n",
       "      <td>0.767878</td>\n",
       "      <td>0.726383</td>\n",
       "      <td>0.774092</td>\n",
       "      <td>0.775532</td>\n",
       "      <td>0.775532</td>\n",
       "    </tr>\n",
       "    <tr>\n",
       "      <th>auc</th>\n",
       "      <td>0.838336</td>\n",
       "      <td>0.747299</td>\n",
       "      <td>0.80214</td>\n",
       "      <td>0.831291</td>\n",
       "      <td>0.828023</td>\n",
       "      <td>0.84223</td>\n",
       "      <td>0.84223</td>\n",
       "    </tr>\n",
       "    <tr>\n",
       "      <th>balanced_accuracy</th>\n",
       "      <td>0.752037</td>\n",
       "      <td>0.696369</td>\n",
       "      <td>0.74559</td>\n",
       "      <td>0.73903</td>\n",
       "      <td>0.748893</td>\n",
       "      <td>0.755581</td>\n",
       "      <td>0.755581</td>\n",
       "    </tr>\n",
       "  </tbody>\n",
       "</table>\n",
       "</div>"
      ],
      "text/plain": [
       "                                     Reg_Logistica   \n",
       "accuracy                                  0.754175  \\\n",
       "precision                                 0.714762   \n",
       "recall                                    0.838818   \n",
       "confusion_matrix   [[20740, 10436], [5025, 26151]]   \n",
       "f1_score                                  0.771837   \n",
       "auc                                       0.838336   \n",
       "balanced_accuracy                         0.752037   \n",
       "\n",
       "                                              K-NN   \n",
       "accuracy                                  0.696369  \\\n",
       "precision                                 0.677275   \n",
       "recall                                    0.750225   \n",
       "confusion_matrix   [[20031, 11145], [7787, 23389]]   \n",
       "f1_score                                  0.711886   \n",
       "auc                                       0.747299   \n",
       "balanced_accuracy                         0.696369   \n",
       "\n",
       "                                    Decission_Tree   \n",
       "accuracy                                   0.74559  \\\n",
       "precision                                 0.706025   \n",
       "recall                                    0.841609   \n",
       "confusion_matrix   [[20251, 10925], [4938, 26238]]   \n",
       "f1_score                                  0.767878   \n",
       "auc                                        0.80214   \n",
       "balanced_accuracy                          0.74559   \n",
       "\n",
       "                                          Bagging   \n",
       "accuracy                                  0.73903  \\\n",
       "precision                                0.763377   \n",
       "recall                                   0.692809   \n",
       "confusion_matrix   [[24481, 6695], [9577, 21599]]   \n",
       "f1_score                                 0.726383   \n",
       "auc                                      0.831291   \n",
       "balanced_accuracy                         0.73903   \n",
       "\n",
       "                                     Random_Forest   \n",
       "accuracy                                  0.748893  \\\n",
       "precision                                 0.703496   \n",
       "recall                                    0.860438   \n",
       "confusion_matrix   [[19870, 11306], [4351, 26825]]   \n",
       "f1_score                                  0.774092   \n",
       "auc                                       0.828023   \n",
       "balanced_accuracy                         0.748893   \n",
       "\n",
       "                                    Gradient_boost   \n",
       "accuracy                                  0.755581  \\\n",
       "precision                                 0.717005   \n",
       "recall                                    0.844464   \n",
       "confusion_matrix   [[20785, 10391], [4849, 26327]]   \n",
       "f1_score                                  0.775532   \n",
       "auc                                        0.84223   \n",
       "balanced_accuracy                         0.755581   \n",
       "\n",
       "                                          XG_boost  \n",
       "accuracy                                  0.755581  \n",
       "precision                                 0.717005  \n",
       "recall                                    0.844464  \n",
       "confusion_matrix   [[20785, 10391], [4849, 26327]]  \n",
       "f1_score                                  0.775532  \n",
       "auc                                        0.84223  \n",
       "balanced_accuracy                         0.755581  "
      ]
     },
     "execution_count": 193,
     "metadata": {},
     "output_type": "execute_result"
    }
   ],
   "source": [
    "data = {'XG_boost': [xgb_accuracy, xgb_precision, xgb_recall, xgb_m_confs, xgb_f_score, xgb_auc, xgb_b_acc]}\n",
    "index = ['accuracy', 'precision', 'recall', 'confusion_matrix', 'f1_score', 'auc', 'balanced_accuracy']\n",
    "xgb = pd.DataFrame(data=data, index=index)\n",
    "modelos_acc = pd.merge(modelos_acc, xgb, left_index=True, right_index=True)\n",
    "modelos_acc"
   ]
  },
  {
   "attachments": {},
   "cell_type": "markdown",
   "metadata": {},
   "source": [
    "<h2 id=\"p_6\">Pregunta 6</h2>\n",
    "\n",
    "Cuál de todas las métricas crees que es la más conveniente?. Ordena todos los métodos de mejor a peor según dichas métricas. (0,5pt)"
   ]
  },
  {
   "attachments": {},
   "cell_type": "markdown",
   "metadata": {},
   "source": [
    "- Si consideramos la medida del area bajo la curva roc como la metrica mas conveniente, nos quedaria el siguiente orden"
   ]
  },
  {
   "cell_type": "code",
   "execution_count": 198,
   "metadata": {},
   "outputs": [
    {
     "data": {
      "text/html": [
       "<div>\n",
       "<style scoped>\n",
       "    .dataframe tbody tr th:only-of-type {\n",
       "        vertical-align: middle;\n",
       "    }\n",
       "\n",
       "    .dataframe tbody tr th {\n",
       "        vertical-align: top;\n",
       "    }\n",
       "\n",
       "    .dataframe thead th {\n",
       "        text-align: right;\n",
       "    }\n",
       "</style>\n",
       "<table border=\"1\" class=\"dataframe\">\n",
       "  <thead>\n",
       "    <tr style=\"text-align: right;\">\n",
       "      <th></th>\n",
       "      <th>Gradient_boost</th>\n",
       "      <th>XG_boost</th>\n",
       "      <th>Reg_Logistica</th>\n",
       "      <th>Bagging</th>\n",
       "      <th>Random_Forest</th>\n",
       "      <th>Decission_Tree</th>\n",
       "      <th>K-NN</th>\n",
       "    </tr>\n",
       "  </thead>\n",
       "  <tbody>\n",
       "    <tr>\n",
       "      <th>accuracy</th>\n",
       "      <td>0.755581</td>\n",
       "      <td>0.755581</td>\n",
       "      <td>0.754175</td>\n",
       "      <td>0.73903</td>\n",
       "      <td>0.748893</td>\n",
       "      <td>0.74559</td>\n",
       "      <td>0.696369</td>\n",
       "    </tr>\n",
       "    <tr>\n",
       "      <th>precision</th>\n",
       "      <td>0.717005</td>\n",
       "      <td>0.717005</td>\n",
       "      <td>0.714762</td>\n",
       "      <td>0.763377</td>\n",
       "      <td>0.703496</td>\n",
       "      <td>0.706025</td>\n",
       "      <td>0.677275</td>\n",
       "    </tr>\n",
       "    <tr>\n",
       "      <th>recall</th>\n",
       "      <td>0.844464</td>\n",
       "      <td>0.844464</td>\n",
       "      <td>0.838818</td>\n",
       "      <td>0.692809</td>\n",
       "      <td>0.860438</td>\n",
       "      <td>0.841609</td>\n",
       "      <td>0.750225</td>\n",
       "    </tr>\n",
       "    <tr>\n",
       "      <th>confusion_matrix</th>\n",
       "      <td>[[20785, 10391], [4849, 26327]]</td>\n",
       "      <td>[[20785, 10391], [4849, 26327]]</td>\n",
       "      <td>[[20740, 10436], [5025, 26151]]</td>\n",
       "      <td>[[24481, 6695], [9577, 21599]]</td>\n",
       "      <td>[[19870, 11306], [4351, 26825]]</td>\n",
       "      <td>[[20251, 10925], [4938, 26238]]</td>\n",
       "      <td>[[20031, 11145], [7787, 23389]]</td>\n",
       "    </tr>\n",
       "    <tr>\n",
       "      <th>f1_score</th>\n",
       "      <td>0.775532</td>\n",
       "      <td>0.775532</td>\n",
       "      <td>0.771837</td>\n",
       "      <td>0.726383</td>\n",
       "      <td>0.774092</td>\n",
       "      <td>0.767878</td>\n",
       "      <td>0.711886</td>\n",
       "    </tr>\n",
       "    <tr>\n",
       "      <th>auc</th>\n",
       "      <td>0.84223</td>\n",
       "      <td>0.84223</td>\n",
       "      <td>0.838336</td>\n",
       "      <td>0.831291</td>\n",
       "      <td>0.828023</td>\n",
       "      <td>0.80214</td>\n",
       "      <td>0.747299</td>\n",
       "    </tr>\n",
       "    <tr>\n",
       "      <th>balanced_accuracy</th>\n",
       "      <td>0.755581</td>\n",
       "      <td>0.755581</td>\n",
       "      <td>0.752037</td>\n",
       "      <td>0.73903</td>\n",
       "      <td>0.748893</td>\n",
       "      <td>0.74559</td>\n",
       "      <td>0.696369</td>\n",
       "    </tr>\n",
       "  </tbody>\n",
       "</table>\n",
       "</div>"
      ],
      "text/plain": [
       "                                    Gradient_boost   \n",
       "accuracy                                  0.755581  \\\n",
       "precision                                 0.717005   \n",
       "recall                                    0.844464   \n",
       "confusion_matrix   [[20785, 10391], [4849, 26327]]   \n",
       "f1_score                                  0.775532   \n",
       "auc                                        0.84223   \n",
       "balanced_accuracy                         0.755581   \n",
       "\n",
       "                                          XG_boost   \n",
       "accuracy                                  0.755581  \\\n",
       "precision                                 0.717005   \n",
       "recall                                    0.844464   \n",
       "confusion_matrix   [[20785, 10391], [4849, 26327]]   \n",
       "f1_score                                  0.775532   \n",
       "auc                                        0.84223   \n",
       "balanced_accuracy                         0.755581   \n",
       "\n",
       "                                     Reg_Logistica   \n",
       "accuracy                                  0.754175  \\\n",
       "precision                                 0.714762   \n",
       "recall                                    0.838818   \n",
       "confusion_matrix   [[20740, 10436], [5025, 26151]]   \n",
       "f1_score                                  0.771837   \n",
       "auc                                       0.838336   \n",
       "balanced_accuracy                         0.752037   \n",
       "\n",
       "                                          Bagging   \n",
       "accuracy                                  0.73903  \\\n",
       "precision                                0.763377   \n",
       "recall                                   0.692809   \n",
       "confusion_matrix   [[24481, 6695], [9577, 21599]]   \n",
       "f1_score                                 0.726383   \n",
       "auc                                      0.831291   \n",
       "balanced_accuracy                         0.73903   \n",
       "\n",
       "                                     Random_Forest   \n",
       "accuracy                                  0.748893  \\\n",
       "precision                                 0.703496   \n",
       "recall                                    0.860438   \n",
       "confusion_matrix   [[19870, 11306], [4351, 26825]]   \n",
       "f1_score                                  0.774092   \n",
       "auc                                       0.828023   \n",
       "balanced_accuracy                         0.748893   \n",
       "\n",
       "                                    Decission_Tree   \n",
       "accuracy                                   0.74559  \\\n",
       "precision                                 0.706025   \n",
       "recall                                    0.841609   \n",
       "confusion_matrix   [[20251, 10925], [4938, 26238]]   \n",
       "f1_score                                  0.767878   \n",
       "auc                                        0.80214   \n",
       "balanced_accuracy                          0.74559   \n",
       "\n",
       "                                              K-NN  \n",
       "accuracy                                  0.696369  \n",
       "precision                                 0.677275  \n",
       "recall                                    0.750225  \n",
       "confusion_matrix   [[20031, 11145], [7787, 23389]]  \n",
       "f1_score                                  0.711886  \n",
       "auc                                       0.747299  \n",
       "balanced_accuracy                         0.696369  "
      ]
     },
     "execution_count": 198,
     "metadata": {},
     "output_type": "execute_result"
    }
   ],
   "source": [
    "modelos_acc[modelos_acc.iloc[5].sort_values(ascending=False).index]"
   ]
  },
  {
   "attachments": {},
   "cell_type": "markdown",
   "metadata": {},
   "source": [
    "<h2 id=\"p_7\">Pregunta 7</h2>\n",
    "\n",
    "En esta curso, no hemos abordado todavía la importancia de hacer una correcta preselección y transformación de variables antes de entrenar un modelo. Sin embargo, los ensambladores nos pueden dar una buena pista de qué variables elegir a la hora de entrenar un modelo de clasificación o regresión.  ¿Cómo medirías que importancia tiene cada variable a la hora de clasificar correctamente la variable objetivo? Haciendo uso de alguno de los métodos propuestos, Muestra una gráfica que presente de forma ordenada la importancia que tiene cada variable en la clasificación (0,5pt)"
   ]
  },
  {
   "attachments": {},
   "cell_type": "markdown",
   "metadata": {},
   "source": [
    "- En la regresion logistica, por ejemplo, se puede estudiar, primero el p-valor de cada variable (para, a traves del contraste de hipotesis de significacion nula o coeficiente igual a 0, considerar si es o no relevante a la hora de predecir la variable dependiente), y entre las variables con significacion no nula, se puede ver cuales cobran mayor importancia segun cuales tengan un mayor coeficiente"
   ]
  }
 ],
 "metadata": {
  "kernelspec": {
   "display_name": "entorno_prueba",
   "language": "python",
   "name": "python3"
  },
  "language_info": {
   "codemirror_mode": {
    "name": "ipython",
    "version": 3
   },
   "file_extension": ".py",
   "mimetype": "text/x-python",
   "name": "python",
   "nbconvert_exporter": "python",
   "pygments_lexer": "ipython3",
   "version": "3.11.3"
  },
  "orig_nbformat": 4,
  "vscode": {
   "interpreter": {
    "hash": "b5afc7ef22697be2530f38e3597caff0474611543137dd7d944db10d80a26f2d"
   }
  }
 },
 "nbformat": 4,
 "nbformat_minor": 2
}
